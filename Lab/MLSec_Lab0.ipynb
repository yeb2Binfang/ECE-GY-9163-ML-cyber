{
  "nbformat": 4,
  "nbformat_minor": 0,
  "metadata": {
    "colab": {
      "name": "MLSec-Lab0.ipynb",
      "provenance": [],
      "collapsed_sections": [],
      "include_colab_link": true
    },
    "kernelspec": {
      "name": "python3",
      "display_name": "Python 3"
    }
  },
  "cells": [
    {
      "cell_type": "markdown",
      "metadata": {
        "id": "view-in-github",
        "colab_type": "text"
      },
      "source": [
        "<a href=\"https://colab.research.google.com/github/yeb2Binfang/ECE-GY-9163-ML-cyber/blob/main/Lab/MLSec_Lab0.ipynb\" target=\"_parent\"><img src=\"https://colab.research.google.com/assets/colab-badge.svg\" alt=\"Open In Colab\"/></a>"
      ]
    },
    {
      "cell_type": "markdown",
      "metadata": {
        "id": "dzl1DyP_ugzy"
      },
      "source": [
        "# Linear Regression"
      ]
    },
    {
      "cell_type": "markdown",
      "metadata": {
        "id": "5tbt-G25zmOE"
      },
      "source": [
        "## Univariate linear regression"
      ]
    },
    {
      "cell_type": "markdown",
      "metadata": {
        "id": "mjroJgG1M24X"
      },
      "source": [
        "The code below generates a synthetic training dataset assuming that the response y is a linear function of an attribute x. This is referred to as a generative model.\n",
        "\n",
        "Complete the code to determine the the optimal linear regression coefficients for the data that minimizes mean square error using (1) analytical expression we learned in class; and (2) using the \"polyfit\" and \"polyval\" functions from the numpy.polynomial.polynomial class.\n"
      ]
    },
    {
      "cell_type": "markdown",
      "metadata": {
        "id": "ozFgM3c-zaBw"
      },
      "source": [
        "### Generate Data"
      ]
    },
    {
      "cell_type": "code",
      "metadata": {
        "id": "WTzKJ4iZycSW",
        "colab": {
          "base_uri": "https://localhost:8080/",
          "height": 282
        },
        "outputId": "c7f82549-89a0-4cd2-9dd9-cf3ccb276c75"
      },
      "source": [
        "import numpy as np\n",
        "import numpy.polynomial.polynomial as poly\n",
        "import matplotlib.pyplot as plt\n",
        "\n",
        "nsamp = 100;\n",
        "wstd = 0.2;\n",
        "beta = np.array([2,3]);\n",
        "\n",
        "# Training data points\n",
        "xd = np.random.uniform(-1,1,nsamp);\n",
        "y0 = poly.polyval(xd,beta);\n",
        "yd = y0 + np.random.normal(0,wstd,nsamp);\n",
        "\n",
        "fig, ax = plt.subplots()\n",
        "ax.scatter(xd, yd)"
      ],
      "execution_count": 1,
      "outputs": [
        {
          "output_type": "execute_result",
          "data": {
            "text/plain": [
              "<matplotlib.collections.PathCollection at 0x7f6b0212a2d0>"
            ]
          },
          "metadata": {},
          "execution_count": 1
        },
        {
          "output_type": "display_data",
          "data": {
            "image/png": "[encoded data removed]",
            "text/plain": [
              "<Figure size 432x288 with 1 Axes>"
            ]
          },
          "metadata": {
            "needs_background": "light"
          }
        }
      ]
    },
    {
      "cell_type": "markdown",
      "metadata": {
        "id": "ylmbDmHf0S4O"
      },
      "source": [
        "### Analytical Model"
      ]
    },
    {
      "cell_type": "markdown",
      "metadata": {
        "id": "-lUVkaqL0XGA"
      },
      "source": [
        "**Q1**: Complete the code below using closed form expressions for $\\beta_0, \\beta_1$.\n"
      ]
    },
    {
      "cell_type": "code",
      "metadata": {
        "id": "pDGDa5ECydkV",
        "colab": {
          "base_uri": "https://localhost:8080/"
        },
        "outputId": "3cf2c124-7047-453e-f2e1-bc29e1827649"
      },
      "source": [
        "#Analytical model\n",
        "xm = np.mean(xd)\n",
        "ym = np.mean(yd)\n",
        "syy = np.mean((yd-ym)**2)\n",
        "syx = np.mean((yd-ym)*(xd-xm))\n",
        "sxx = np.mean((xd-xm)**2)\n",
        "beta1 = syx/sxx\n",
        "beta0 = ym - beta1*xm\n",
        "analyticalModel = np.array([beta0,beta1])\n",
        "print(\"beta1 = \",beta1)\n",
        "print(\"beta0 = \",beta0)"
      ],
      "execution_count": 4,
      "outputs": [
        {
          "output_type": "stream",
          "name": "stdout",
          "text": [
            "beta1 =  3.0068318010065025\n",
            "beta0 =  2.0056272567173257\n"
          ]
        }
      ]
    },
    {
      "cell_type": "markdown",
      "metadata": {
        "id": "9FtiGMN23KIC"
      },
      "source": [
        "### Evaluate Your Model"
      ]
    },
    {
      "cell_type": "markdown",
      "metadata": {
        "id": "6RypRZjK-qz7"
      },
      "source": [
        "**Q2**: Obtain predictions from your analytical model for randomly generated inputs. Next use the in-built polyfit function to do the same. "
      ]
    },
    {
      "cell_type": "markdown",
      "metadata": {
        "id": "nDCkRp5n-OCs"
      },
      "source": [
        "**Analytical Model Result**"
      ]
    },
    {
      "cell_type": "code",
      "metadata": {
        "id": "vSFfG0jV4Ozu"
      },
      "source": [
        "#evaluate your model\n",
        "\n",
        "# new data\n",
        "# generate uniform points between -1 and 1\n",
        "xplot = np.random.uniform(-1,1,nsamp);\n",
        "\n",
        "# prediction\n",
        "# get prediction on data xplot\n",
        "ypredict = beta0 + beta1*xplot\n"
      ],
      "execution_count": 7,
      "outputs": []
    },
    {
      "cell_type": "markdown",
      "metadata": {
        "id": "k1bw1Gk452cx"
      },
      "source": [
        "**Polyfit Model Prediction**"
      ]
    },
    {
      "cell_type": "code",
      "metadata": {
        "id": "1Cg67BEu571y"
      },
      "source": [
        "#use the polyfit function\n",
        "polyfitModel = poly.polyfit(xd,yd,1)\n",
        "# use the polyval function to evaluate polyfitModel at x = xplot \n",
        "yfit = poly.polyval(xplot, polyfitModel)"
      ],
      "execution_count": 10,
      "outputs": []
    },
    {
      "cell_type": "markdown",
      "metadata": {
        "id": "ZV1pG9Py4rm2"
      },
      "source": [
        "### Plot Result"
      ]
    },
    {
      "cell_type": "markdown",
      "metadata": {
        "id": "eK9RYWqW-zK4"
      },
      "source": [
        "**Q3**: Plot results of polyfit model and analytical model. The plots should contain both the (x,y) training data points and the fitted lines."
      ]
    },
    {
      "cell_type": "code",
      "metadata": {
        "id": "fh1xyJ7A4tes",
        "colab": {
          "base_uri": "https://localhost:8080/",
          "height": 295
        },
        "outputId": "4559ec79-ef5d-4cc6-9200-92b25fb1af62"
      },
      "source": [
        "#plot your results\n",
        "fig, ax = plt.subplots()\n",
        "ax.scatter(xd, yd,c='b')\n",
        "\n",
        "# Plot polyfit model and analytical model result:\n",
        "# Your Code\n",
        "ax.plot(xplot, ypredict,'r')\n",
        "ax.plot(xplot,yfit,'y')\n",
        "ax.legend([\"analy\",\"poly\",\"original\"])\n",
        "ax.set(xlabel='X', ylabel='Y',\n",
        "       title='Linear Regression')\n",
        "ax.grid()\n",
        "plt.show()"
      ],
      "execution_count": 17,
      "outputs": [
        {
          "output_type": "display_data",
          "data": {
            "image/png": "[encoded data removed]",
            "text/plain": [
              "<Figure size 432x288 with 1 Axes>"
            ]
          },
          "metadata": {
            "needs_background": "light"
          }
        }
      ]
    },
    {
      "cell_type": "markdown",
      "metadata": {
        "id": "tprivZbIUtOW"
      },
      "source": [
        "## Application of Linear Regression\n",
        "\n",
        "In this part, you'll use Linear Regression on a real-world dataset. The datatset contains sales number of a product versus the advertising of the product on TV, radio and newspaper. The question we want to ask is how advertising on each of these channels impacts sales."
      ]
    },
    {
      "cell_type": "markdown",
      "metadata": {
        "id": "1OEW6RGKVpXF"
      },
      "source": [
        "### Read Data\n",
        "\n",
        "**Q4**: Split data into train and test, by reserving **70** percent of the data for training and the rest for test. "
      ]
    },
    {
      "cell_type": "code",
      "metadata": {
        "id": "K_t22o9QWGF2"
      },
      "source": [
        "import pandas as pd\n",
        "from sklearn.model_selection import train_test_split\n",
        "url = 'https://www.statlearning.com/s/Advertising.csv'\n",
        "df = pd.read_csv(url, index_col=0)\n",
        "df.head()\n",
        "X_TV = df[\"TV\"]\n",
        "X_radio = df[\"radio\"]\n",
        "X_newspaper = df[\"newspaper\"]\n",
        "y = df[\"sales\"]\n",
        "# train, test = # Use function or your own code to split df\n",
        "X_TV_train, X_TV_test, y_TV_train, y_TV_test = train_test_split(X_TV, y, test_size=0.3, random_state=42)\n",
        "X_radio_train, X_radio_test, y_radio_train, y_radio_test = train_test_split(X_radio, y, test_size=0.3, random_state=42)\n",
        "X_newspaper_train, X_newspaper_test, y_newspaper_train, y_newspaper_test = train_test_split(X_newspaper, y, test_size=0.3, random_state=42)"
      ],
      "execution_count": 18,
      "outputs": []
    },
    {
      "cell_type": "markdown",
      "metadata": {
        "id": "5ZTV3hyCXhnU"
      },
      "source": [
        "### Linear Regression Model"
      ]
    },
    {
      "cell_type": "markdown",
      "metadata": {
        "id": "kZvNEQsgWUnd"
      },
      "source": [
        "**Q5**: Use linear regression model to describe sales as a linear function  of advertising on TV, newspaper, and radio. That is, you should independently regress sales against advertising on each of these media."
      ]
    },
    {
      "cell_type": "code",
      "metadata": {
        "id": "6hd_KDngXIvB",
        "colab": {
          "base_uri": "https://localhost:8080/"
        },
        "outputId": "a9cb5e68-6b79-476e-d3d7-b4746f74b203"
      },
      "source": [
        "from sklearn.linear_model import LinearRegression\n",
        "X_TV_train=np.array(X_TV_train).reshape((-1,1))\n",
        "X_radio_train=np.array(X_radio_train).reshape((-1,1))\n",
        "X_newspaper_train=np.array(X_newspaper_train).reshape((-1,1))\n",
        "reg_TV = LinearRegression().fit(X_TV_train, y_TV_train)\n",
        "reg_radio = LinearRegression().fit(X_radio_train, y_radio_train)\n",
        "reg_newspaper = LinearRegression().fit(X_newspaper_train, y_newspaper_train)\n",
        "# Use function or your own code to do linear regression\n",
        "sales_TV_beta     = reg_TV.coef_[0]\n",
        "sales_newspaper_beta  = reg_radio.coef_[0]\n",
        "sales_radio_beta    = reg_newspaper.coef_[0]\n",
        "print(\"sales_TV_beta: \",sales_TV_beta)\n",
        "print(\"sales_newspaper_beta: \",sales_newspaper_beta)\n",
        "print(\"sales_radio_beta: \",sales_radio_beta)"
      ],
      "execution_count": 19,
      "outputs": [
        {
          "output_type": "stream",
          "name": "stdout",
          "text": [
            "sales_TV_beta:  0.046407802128152764\n",
            "sales_newspaper_beta:  0.21926677369021058\n",
            "sales_radio_beta:  0.06093416696535276\n"
          ]
        }
      ]
    },
    {
      "cell_type": "markdown",
      "metadata": {
        "id": "tSd1ziYgXgC0"
      },
      "source": [
        "### Plot Data\n",
        "\n",
        "**Q6**: Use the models to do prediction and plot *test* data points and predctions of 3 models"
      ]
    },
    {
      "cell_type": "code",
      "metadata": {
        "id": "G_1o75bdXwkn",
        "colab": {
          "base_uri": "https://localhost:8080/",
          "height": 244
        },
        "outputId": "944e0b46-ce96-4cff-a393-cb53a0e16b37"
      },
      "source": [
        "fig = plt.figure(figsize=(12,3))\n",
        "\n",
        "## Sales to TV spend\n",
        "plt.subplot(1,3,1)\n",
        "X_TV_test=np.array(X_TV_test).reshape((-1,1))\n",
        "y_TV_pred = reg_TV.predict(X_TV_test)\n",
        "plt.scatter(X_TV_test, y_TV_test)\n",
        "plt.scatter(X_TV_test, y_TV_pred)\n",
        "plt.legend([\"test\",\"pred\"])\n",
        "plt.title(\"TV\")\n",
        "\n",
        "## Sales to newspaper spend\n",
        "plt.subplot(1,3,2)\n",
        "X_radio_test=np.array(X_radio_test).reshape((-1,1))\n",
        "y_radio_pred = reg_radio.predict(X_radio_test)\n",
        "plt.scatter(X_radio_test, y_radio_test)\n",
        "plt.scatter(X_radio_test, y_radio_pred)\n",
        "plt.legend([\"test\",\"pred\"])\n",
        "plt.title(\"radio\")\n",
        "\n",
        "## Sales to radio spend\n",
        "plt.subplot(1,3,3)\n",
        "X_newspaper_test=np.array(X_newspaper_test).reshape((-1,1))\n",
        "y_newspaper_pred = reg_newspaper.predict(X_newspaper_test)\n",
        "plt.scatter(X_newspaper_test, y_newspaper_test)\n",
        "plt.scatter(X_newspaper_test, y_newspaper_pred)\n",
        "plt.legend([\"test\",\"pred\"])\n",
        "plt.title(\"newspaper\")\n"
      ],
      "execution_count": 20,
      "outputs": [
        {
          "output_type": "execute_result",
          "data": {
            "text/plain": [
              "Text(0.5, 1.0, 'newspaper')"
            ]
          },
          "metadata": {},
          "execution_count": 20
        },
        {
          "output_type": "display_data",
          "data": {
            "image/png": "[encoded data removed]",
            "text/plain": [
              "<Figure size 864x216 with 3 Axes>"
            ]
          },
          "metadata": {
            "needs_background": "light"
          }
        }
      ]
    },
    {
      "cell_type": "markdown",
      "metadata": {
        "id": "uJVfnwMeZm43"
      },
      "source": [
        "## Multivariate Linear Regression\n",
        "\n",
        "**Q7**: Use all three features ('TV', 'Radio', newspaper') to predict sales using multivariate linear regression."
      ]
    },
    {
      "cell_type": "code",
      "metadata": {
        "id": "wv4fhP-LdOiJ",
        "colab": {
          "base_uri": "https://localhost:8080/"
        },
        "outputId": "f1f72b21-0fda-411c-c2c0-a731823d2fd7"
      },
      "source": [
        "# Define training X, y matrix\n",
        "X = df[[\"TV\",\"radio\",\"newspaper\"]]\n",
        "X_train, X_test, y_train, y_test = train_test_split(X, y, test_size=0.3, random_state=42)\n",
        "X_train = np.column_stack((np.transpose(np.ones(len(X_train))),np.array(X_train)))\n",
        "\n",
        "# # Get your Model(Using the closed form in class)\n",
        "multivariate_beta =  np.linalg.inv(np.transpose(X_train).dot(X_train)).dot(np.transpose(X_train)).dot(y_train)\n",
        "print(multivariate_beta)"
      ],
      "execution_count": 22,
      "outputs": [
        {
          "output_type": "stream",
          "name": "stdout",
          "text": [
            "[2.70894909 0.04405928 0.1992875  0.00688245]\n"
          ]
        }
      ]
    },
    {
      "cell_type": "markdown",
      "metadata": {
        "id": "nbYrPsvyO588"
      },
      "source": [
        "### Evaluate Model\n",
        "\n",
        "**Q8**: use your multivariate model to do predictions on test data"
      ]
    },
    {
      "cell_type": "code",
      "metadata": {
        "id": "8Goo4MfdNvuY"
      },
      "source": [
        "# # Define testing X matrix\n",
        "# X = np.vstack((np.ones(test['newspaper'].size), test['newspaper'], test['radio'], test['TV']))\n",
        "# testX = X.transpose()\n",
        "\n",
        "# # Define testing Y matrix\n",
        "# testY = test['sales']\n",
        "\n",
        "# Predcit result using your model multivariate_beta\n",
        "pred = multivariate_beta[0] + multivariate_beta[1]*X_test[\"TV\"] + multivariate_beta[2]*X_test[\"radio\"] + multivariate_beta[3]*X_test[\"newspaper\"]\n"
      ],
      "execution_count": 23,
      "outputs": []
    },
    {
      "cell_type": "markdown",
      "metadata": {
        "id": "htTt__fQci82"
      },
      "source": [
        "We can check R-square too"
      ]
    },
    {
      "cell_type": "code",
      "metadata": {
        "id": "JGKXAnNhcaG9",
        "outputId": "8d791e60-b308-4367-abdb-ef4bbe4760c7",
        "colab": {
          "base_uri": "https://localhost:8080/"
        }
      },
      "source": [
        "from sklearn.metrics import r2_score\n",
        "r2_score(y_test, pred)"
      ],
      "execution_count": 25,
      "outputs": [
        {
          "output_type": "execute_result",
          "data": {
            "text/plain": [
              "0.8609466508230369"
            ]
          },
          "metadata": {},
          "execution_count": 25
        }
      ]
    },
    {
      "cell_type": "markdown",
      "metadata": {
        "id": "sCP2X-SWPcsr"
      },
      "source": [
        "### Plot Result\n",
        "\n",
        "**Q9**: Plot your predictions against real labels."
      ]
    },
    {
      "cell_type": "code",
      "metadata": {
        "id": "sLG7eh7JNb8p",
        "colab": {
          "base_uri": "https://localhost:8080/",
          "height": 295
        },
        "outputId": "3fb8973a-4675-4f7c-d16b-b4b9cb320be2"
      },
      "source": [
        "fig, ax = plt.subplots()\n",
        "\n",
        "# Your Code\n",
        "ax.scatter(y_test, pred)\n",
        "\n",
        "\n",
        "ax.set(xlabel='Actual Sales', ylabel='Predict Sales',\n",
        "       title='Multivariate Linear Regression')\n",
        "ax.grid()\n",
        "plt.show()"
      ],
      "execution_count": 24,
      "outputs": [
        {
          "output_type": "display_data",
          "data": {
            "image/png": "[encoded data removed]",
            "text/plain": [
              "<Figure size 432x288 with 1 Axes>"
            ]
          },
          "metadata": {
            "needs_background": "light"
          }
        }
      ]
    },
    {
      "cell_type": "code",
      "metadata": {
        "id": "R0r8g5lt56t7"
      },
      "source": [
        ""
      ],
      "execution_count": null,
      "outputs": []
    }
  ]
}