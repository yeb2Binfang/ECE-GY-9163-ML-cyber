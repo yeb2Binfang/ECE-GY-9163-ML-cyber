{
  "nbformat": 4,
  "nbformat_minor": 0,
  "metadata": {
    "colab": {
      "name": "MLSec-Lab0.ipynb",
      "provenance": [],
      "collapsed_sections": [],
      "include_colab_link": true
    },
    "kernelspec": {
      "name": "python3",
      "display_name": "Python 3"
    }
  },
  "cells": [
    {
      "cell_type": "markdown",
      "metadata": {
        "id": "view-in-github",
        "colab_type": "text"
      },
      "source": [
        "<a href=\"https://colab.research.google.com/github/yeb2Binfang/ECE-GY-9163-ML-cyber/blob/main/Lab/MLSec_Lab0.ipynb\" target=\"_parent\"><img src=\"https://colab.research.google.com/assets/colab-badge.svg\" alt=\"Open In Colab\"/></a>"
      ]
    },
    {
      "cell_type": "markdown",
      "metadata": {
        "id": "dzl1DyP_ugzy"
      },
      "source": [
        "# Linear Regression"
      ]
    },
    {
      "cell_type": "markdown",
      "metadata": {
        "id": "5tbt-G25zmOE"
      },
      "source": [
        "## Univariate linear regression"
      ]
    },
    {
      "cell_type": "markdown",
      "metadata": {
        "id": "mjroJgG1M24X"
      },
      "source": [
        "The code below generates a synthetic training dataset assuming that the response y is a linear function of an attribute x. This is referred to as a generative model.\n",
        "\n",
        "Complete the code to determine the the optimal linear regression coefficients for the data that minimizes mean square error using (1) analytical expression we learned in class; and (2) using the \"polyfit\" and \"polyval\" functions from the numpy.polynomial.polynomial class.\n"
      ]
    },
    {
      "cell_type": "markdown",
      "metadata": {
        "id": "ozFgM3c-zaBw"
      },
      "source": [
        "### Generate Data"
      ]
    },
    {
      "cell_type": "code",
      "metadata": {
        "id": "WTzKJ4iZycSW"
      },
      "source": [
        "import numpy as np\n",
        "import numpy.polynomial.polynomial as poly\n",
        "import matplotlib.pyplot as plt\n",
        "\n",
        "nsamp = 100;\n",
        "wstd = 0.2;\n",
        "beta = np.array([2,3]);\n",
        "\n",
        "# Training data points\n",
        "xd = np.random.uniform(-1,1,nsamp);\n",
        "y0 = poly.polyval(xd,beta);\n",
        "yd = y0 + np.random.normal(0,wstd,nsamp);\n",
        "\n",
        "fig, ax = plt.subplots()\n",
        "ax.scatter(xd, yd)"
      ],
      "execution_count": null,
      "outputs": []
    },
    {
      "cell_type": "markdown",
      "metadata": {
        "id": "ylmbDmHf0S4O"
      },
      "source": [
        "### Analytical Model"
      ]
    },
    {
      "cell_type": "markdown",
      "metadata": {
        "id": "-lUVkaqL0XGA"
      },
      "source": [
        "**Q1**: Complete the code below using closed form expressions for $\\beta_0, \\beta_1$."
      ]
    },
    {
      "cell_type": "code",
      "metadata": {
        "id": "pDGDa5ECydkV"
      },
      "source": [
        "#Analytical model\n",
        "beta1 = # linear term\n",
        "beta0 = # constant term\n",
        "analyticalModel = np.array([beta0,beta1])"
      ],
      "execution_count": null,
      "outputs": []
    },
    {
      "cell_type": "markdown",
      "metadata": {
        "id": "9FtiGMN23KIC"
      },
      "source": [
        "### Evaluate Your Model"
      ]
    },
    {
      "cell_type": "markdown",
      "metadata": {
        "id": "6RypRZjK-qz7"
      },
      "source": [
        "**Q2**: Obtain predictions from your analytical model for randomly generated inputs. Next use the in-built polyfit function to do the same. "
      ]
    },
    {
      "cell_type": "markdown",
      "metadata": {
        "id": "nDCkRp5n-OCs"
      },
      "source": [
        "**Analytical Model Result**"
      ]
    },
    {
      "cell_type": "code",
      "metadata": {
        "id": "vSFfG0jV4Ozu"
      },
      "source": [
        "#evaluate your model\n",
        "\n",
        "# new data\n",
        "xplot = # generate uniform points between -1 and 1\n",
        "\n",
        "# prediction\n",
        "ypredict = # get prediction on data xplot\n"
      ],
      "execution_count": null,
      "outputs": []
    },
    {
      "cell_type": "markdown",
      "metadata": {
        "id": "k1bw1Gk452cx"
      },
      "source": [
        "**Polyfit Model Prediction**"
      ]
    },
    {
      "cell_type": "code",
      "metadata": {
        "id": "1Cg67BEu571y"
      },
      "source": [
        "polyfitModel = #use the polyfit function\n",
        "yfit = # use the polyval function to evaluate polyfitModel at x = xplot "
      ],
      "execution_count": null,
      "outputs": []
    },
    {
      "cell_type": "markdown",
      "metadata": {
        "id": "ZV1pG9Py4rm2"
      },
      "source": [
        "### Plot Result"
      ]
    },
    {
      "cell_type": "markdown",
      "metadata": {
        "id": "eK9RYWqW-zK4"
      },
      "source": [
        "**Q3**: Plot results of polyfit model and analytical model. The plots should contain both the (x,y) training data points and the fitted lines."
      ]
    },
    {
      "cell_type": "code",
      "metadata": {
        "id": "fh1xyJ7A4tes"
      },
      "source": [
        "#plot your results\n",
        "fig, ax = plt.subplots()\n",
        "ax.scatter(xd, yd)\n",
        "\n",
        "# Plot polyfit model and analytical model result:\n",
        "# Your Code\n",
        "\n",
        "\n",
        "ax.set(xlabel='X', ylabel='Y',\n",
        "       title='Linear Regression')\n",
        "ax.grid()\n",
        "plt.show()"
      ],
      "execution_count": null,
      "outputs": []
    },
    {
      "cell_type": "markdown",
      "metadata": {
        "id": "tprivZbIUtOW"
      },
      "source": [
        "## Application of Linear Regression\n",
        "\n",
        "In this part, you'll use Linear Regression on a real-world dataset. The datatset contains sales number of a product versus the advertising of the product on TV, radio and newspaper. The question we want to ask is how advertising on each of these channels impacts sales."
      ]
    },
    {
      "cell_type": "markdown",
      "metadata": {
        "id": "1OEW6RGKVpXF"
      },
      "source": [
        "### Read Data\n",
        "\n",
        "**Q4**: Split data into train and test, by reserving **70** percent of the data for training and the rest for test. "
      ]
    },
    {
      "cell_type": "code",
      "metadata": {
        "id": "K_t22o9QWGF2"
      },
      "source": [
        "import pandas as pd\n",
        "url = 'https://www.statlearning.com/s/Advertising.csv'\n",
        "df = pd.read_csv(url, index_col=0)\n",
        "df.head()\n",
        "\n",
        "train, test = # Use function or your own code to split df"
      ],
      "execution_count": null,
      "outputs": []
    },
    {
      "cell_type": "markdown",
      "metadata": {
        "id": "5ZTV3hyCXhnU"
      },
      "source": [
        "### Linear Regression Model"
      ]
    },
    {
      "cell_type": "markdown",
      "metadata": {
        "id": "kZvNEQsgWUnd"
      },
      "source": [
        "**Q5**: Use linear regression model to describe sales as a linear function  of advertising on TV, newspaper, and radio. That is, you should independently regress sales against advertising on each of these media."
      ]
    },
    {
      "cell_type": "code",
      "metadata": {
        "id": "6hd_KDngXIvB"
      },
      "source": [
        "sales_TV_beta     = # Use function or your own code to do linear regression\n",
        "sales_newspaper_beta  = # \n",
        "sales_radio_beta    = #"
      ],
      "execution_count": null,
      "outputs": []
    },
    {
      "cell_type": "markdown",
      "metadata": {
        "id": "tSd1ziYgXgC0"
      },
      "source": [
        "### Plot Data\n",
        "\n",
        "**Q6**: Use the models to do prediction and plot *test* data points and predctions of 3 models"
      ]
    },
    {
      "cell_type": "code",
      "metadata": {
        "id": "G_1o75bdXwkn"
      },
      "source": [
        "fig = plt.figure(figsize=(12,3))\n",
        "\n",
        "## Sales to TV spend\n",
        "plt.subplot(1,3,1)\n",
        "'''\n",
        "  Your code\n",
        "'''\n",
        "\n",
        "## Sales to newspaper spend\n",
        "plt.subplot(1,3,2)\n",
        "'''\n",
        "  Your code\n",
        "'''\n",
        "\n",
        "## Sales to radio spend\n",
        "plt.subplot(1,3,3)\n",
        "'''\n",
        "  Your code\n",
        "'''\n"
      ],
      "execution_count": null,
      "outputs": []
    },
    {
      "cell_type": "markdown",
      "metadata": {
        "id": "uJVfnwMeZm43"
      },
      "source": [
        "## Multivariate Linear Regression\n",
        "\n",
        "**Q7**: Use all three features ('TV', 'Radio', newspaper') to predict sales using multivariate linear regression."
      ]
    },
    {
      "cell_type": "code",
      "metadata": {
        "id": "wv4fhP-LdOiJ"
      },
      "source": [
        "\n",
        "# Define training X matrix\n",
        "X = np.vstack((np.ones(train['newspaper'].size), train['newspaper'], train['radio'], train['TV']))\n",
        "trainX = X.transpose()\n",
        "\n",
        "# Define training Y matrix\n",
        "trainY = train['sales']\n",
        "\n",
        "# Get your Model(Using the closed form in class)\n",
        "multivariate_beta = # beta = (XTX)^-1XTY"
      ],
      "execution_count": null,
      "outputs": []
    },
    {
      "cell_type": "markdown",
      "metadata": {
        "id": "nbYrPsvyO588"
      },
      "source": [
        "### Evaluate Model\n",
        "\n",
        "**Q8**: use your multivariate model to do predictions on test data"
      ]
    },
    {
      "cell_type": "code",
      "metadata": {
        "id": "8Goo4MfdNvuY"
      },
      "source": [
        "# Define testing X matrix\n",
        "X = np.vstack((np.ones(test['newspaper'].size), test['newspaper'], test['radio'], test['TV']))\n",
        "testX = X.transpose()\n",
        "\n",
        "# Define testing Y matrix\n",
        "testY = test['sales']\n",
        "\n",
        "# Predcit result using your model multivariate_beta\n",
        "pred = "
      ],
      "execution_count": null,
      "outputs": []
    },
    {
      "cell_type": "markdown",
      "metadata": {
        "id": "sCP2X-SWPcsr"
      },
      "source": [
        "### Plot Result\n",
        "\n",
        "**Q9**: Plot your predictions against real labels."
      ]
    },
    {
      "cell_type": "code",
      "metadata": {
        "id": "sLG7eh7JNb8p"
      },
      "source": [
        "fig, ax = plt.subplots()\n",
        "\n",
        "# Your Code\n",
        "\n",
        "ax.set(xlabel='Actual Sales', ylabel='Predict Sales',\n",
        "       title='Multivariate Linear Regression')\n",
        "ax.grid()\n",
        "plt.show()"
      ],
      "execution_count": null,
      "outputs": []
    }
  ]
}