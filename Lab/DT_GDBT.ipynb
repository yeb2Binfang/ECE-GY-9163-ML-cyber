{
  "nbformat": 4,
  "nbformat_minor": 0,
  "metadata": {
    "colab": {
      "name": "DT_GDBT.ipynb",
      "provenance": [],
      "authorship_tag": "ABX9TyM7HqsdjTU4bbpb/vw/S+tb",
      "include_colab_link": true
    },
    "kernelspec": {
      "name": "python3",
      "display_name": "Python 3"
    },
    "language_info": {
      "name": "python"
    }
  },
  "cells": [
    {
      "cell_type": "markdown",
      "metadata": {
        "id": "view-in-github",
        "colab_type": "text"
      },
      "source": [
        "<a href=\"https://colab.research.google.com/github/yeb2Binfang/ECE-GY-9163-ML-cyber/blob/main/Lab/DT_GDBT.ipynb\" target=\"_parent\"><img src=\"https://colab.research.google.com/assets/colab-badge.svg\" alt=\"Open In Colab\"/></a>"
      ]
    },
    {
      "cell_type": "markdown",
      "source": [
        ">[DT, RF, GBDT, XGBoost, LightGBM](#scrollTo=M-r5SfhQuqnb)\n",
        "\n",
        ">>[Bagging VS Boosting](#scrollTo=M-r5SfhQuqnb)\n",
        "\n",
        ">>[Boosting tree](#scrollTo=AOeX2LgF9cfc)\n",
        "\n",
        ">>[XGBoost](#scrollTo=m_LcdpWRj-xL)\n",
        "\n"
      ],
      "metadata": {
        "colab_type": "toc",
        "id": "KkgdiB2Q8mxT"
      }
    },
    {
      "cell_type": "markdown",
      "source": [
        "\n",
        "# DT, RF, GBDT, XGBoost, LightGBM\n",
        "decision tree, GDBT, XGBoost, lightGBM, random forest 这些都必须要很熟，我们必须要搞懂这些\n",
        "\n",
        "https://zhuanlan.zhihu.com/p/35796662\n",
        "\n",
        "## Bagging VS Boosting\n",
        "\n",
        "Bagging 和 Boosting之间的对比\n",
        "\n",
        "<img src=\"https://user-images.githubusercontent.com/68700549/147586284-13ca7987-d6de-412f-bf7a-80133963cbf1.jpg\" width=\"500\" height=\"286\">\n",
        "\n",
        "Bagging和Boosting之间的共同点与区别\n",
        "* 共同点\n",
        "  * 都是集成算法\n",
        "  * 都是由弱分类器集成的\n",
        "* 区别\n",
        "  * Bagging 是leverages unstable base learners that are weak because of overfitting. 就好像是请来了很多专家来回答问题，然后通过投票的方式来决定是哪个方案。 Bagging是reduce variance。为什么是reduce variance呢？因为它的base learner都有可能是overfitting，overfitting就是high variance，此时它的整体的bias就是比较低的，通过bagging的方式，增强model的稳定性，也就是reduce variance\n",
        "  * Boosting 是leverages stable base learners that are weak because of underfitting. 这就是很多小学生来回答问题，然后不断地去提升，最终得到strong classifier. Boosting是reduce bias。为什呢？就是它的base learner本身就会造成underfitting，underfitting就是high bias，通过boosting的方式来降低bias\n",
        "\n",
        "Bias/variance trade-off\n",
        "\n",
        "<img src=\"https://user-images.githubusercontent.com/68700549/147588061-e893af3a-1c2e-4eda-85b5-28619998df95.jpg\" width=\"500\" height=\"374\">"
      ],
      "metadata": {
        "id": "M-r5SfhQuqnb"
      }
    },
    {
      "cell_type": "markdown",
      "source": [
        "## Boosting tree\n",
        "\n",
        "Boosting tree是基于残差的训练\n",
        "\n",
        "过程也很简单，如下图所示\n",
        "\n",
        "<img src=\"https://user-images.githubusercontent.com/68700549/147590332-c0adda00-0db0-455c-85d1-859499a53ec5.png\" width=\"500\" height=\"185\">\n",
        "\n",
        "得到残差之后，就用这个残差去训练\n",
        "\n",
        "<img src=\"https://user-images.githubusercontent.com/68700549/147590435-325d896c-3e55-4bae-806e-c5ddb4f8a44f.png\" width=\"500\" height=\"185\">\n",
        "\n",
        "然后再用得到的残差去训练\n",
        "\n",
        "<img src=\"https://user-images.githubusercontent.com/68700549/147590502-0a21ba86-27fa-483f-8ace-131fb9eae56b.png\" width=\"500\" height=\"185\">\n",
        "\n",
        "最终的模型预测=模型1+模型2+模型3\n",
        "\n",
        "<img src=\"https://user-images.githubusercontent.com/68700549/147590584-cb8e9149-2cdc-4a2d-99c4-ec128779e207.png\" width=\"500\" height=\"170\">\n",
        "\n",
        "所以boosting tree的理解就不太难\n",
        "\n",
        "\n",
        "\n"
      ],
      "metadata": {
        "id": "AOeX2LgF9cfc"
      }
    },
    {
      "cell_type": "markdown",
      "source": [
        "## XGBoost\n",
        "\n",
        "为什么XGBoost这么火？\n",
        "* 算法可以并行，训练效率高\n",
        "* 比起其他算法，实际效果好\n",
        "* 由于可控参数多，可以灵活调整"
      ],
      "metadata": {
        "id": "m_LcdpWRj-xL"
      }
    },
    {
      "cell_type": "markdown",
      "source": [
        ""
      ],
      "metadata": {
        "id": "oFMkn2T88jnP"
      }
    }
  ]
}