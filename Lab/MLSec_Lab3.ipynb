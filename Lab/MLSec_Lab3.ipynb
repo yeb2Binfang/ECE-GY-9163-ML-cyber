{
  "nbformat": 4,
  "nbformat_minor": 0,
  "metadata": {
    "colab": {
      "name": "MLSec_Lab3.ipynb",
      "provenance": [],
      "authorship_tag": "ABX9TyPSv5pmgjI7afEzfbvO0hP6",
      "include_colab_link": true
    },
    "kernelspec": {
      "name": "python3",
      "display_name": "Python 3"
    },
    "language_info": {
      "name": "python"
    }
  },
  "cells": [
    {
      "cell_type": "markdown",
      "metadata": {
        "id": "view-in-github",
        "colab_type": "text"
      },
      "source": [
        "<a href=\"https://colab.research.google.com/github/yeb2Binfang/ECE-GY-9163-ML-cyber/blob/main/Lab/MLSec_Lab3.ipynb\" target=\"_parent\"><img src=\"https://colab.research.google.com/assets/colab-badge.svg\" alt=\"Open In Colab\"/></a>"
      ]
    },
    {
      "cell_type": "code",
      "metadata": {
        "id": "igojVocO-7Wt"
      },
      "source": [
        "import eval"
      ],
      "execution_count": 2,
      "outputs": []
    },
    {
      "cell_type": "code",
      "metadata": {
        "colab": {
          "base_uri": "https://localhost:8080/"
        },
        "id": "ljYqq4l16HST",
        "outputId": "10deb36d-5607-49b7-aa19-bbe5c0f9ebed"
      },
      "source": [
        "!wget \"https://raw.githubusercontent.com/csaw-hackml/CSAW-HackML-2020/master/eval.py\" eval.py"
      ],
      "execution_count": 1,
      "outputs": [
        {
          "output_type": "stream",
          "name": "stdout",
          "text": [
            "--2021-12-04 15:06:45--  https://raw.githubusercontent.com/csaw-hackml/CSAW-HackML-2020/master/eval.py\n",
            "Resolving raw.githubusercontent.com (raw.githubusercontent.com)... 185.199.108.133, 185.199.109.133, 185.199.110.133, ...\n",
            "Connecting to raw.githubusercontent.com (raw.githubusercontent.com)|185.199.108.133|:443... connected.\n",
            "HTTP request sent, awaiting response... 200 OK\n",
            "Length: 762 [text/plain]\n",
            "Saving to: ‘eval.py’\n",
            "\n",
            "\reval.py               0%[                    ]       0  --.-KB/s               \reval.py             100%[===================>]     762  --.-KB/s    in 0s      \n",
            "\n",
            "2021-12-04 15:06:45 (30.2 MB/s) - ‘eval.py’ saved [762/762]\n",
            "\n",
            "--2021-12-04 15:06:45--  http://eval.py/\n",
            "Resolving eval.py (eval.py)... failed: Name or service not known.\n",
            "wget: unable to resolve host address ‘eval.py’\n",
            "FINISHED --2021-12-04 15:06:45--\n",
            "Total wall clock time: 0.2s\n",
            "Downloaded: 1 files, 762 in 0s (30.2 MB/s)\n"
          ]
        }
      ]
    },
    {
      "cell_type": "code",
      "metadata": {
        "colab": {
          "base_uri": "https://localhost:8080/"
        },
        "id": "fCDrKJbGBq03",
        "outputId": "995dacc1-ed79-48a6-9d2f-b525b843bbce"
      },
      "source": [
        "!wget 'https://github.com/csaw-hackml/CSAW-HackML-2020/blob/master/models/sunglasses_bd_net.h5' sunglasses_bd_net.h5"
      ],
      "execution_count": 5,
      "outputs": [
        {
          "output_type": "stream",
          "name": "stdout",
          "text": [
            "--2021-12-04 15:19:01--  https://github.com/csaw-hackml/CSAW-HackML-2020/blob/master/models/sunglasses_bd_net.h5\n",
            "Resolving github.com (github.com)... 140.82.112.3\n",
            "Connecting to github.com (github.com)|140.82.112.3|:443... connected.\n",
            "HTTP request sent, awaiting response... 200 OK\n",
            "Length: unspecified [text/html]\n",
            "Saving to: ‘sunglasses_bd_net.h5’\n",
            "\n",
            "sunglasses_bd_net.h     [ <=>                ] 163.85K  --.-KB/s    in 0.04s   \n",
            "\n",
            "2021-12-04 15:19:02 (4.22 MB/s) - ‘sunglasses_bd_net.h5’ saved [167779]\n",
            "\n",
            "--2021-12-04 15:19:02--  http://sunglasses_bd_net.h5/\n",
            "Resolving sunglasses_bd_net.h5 (sunglasses_bd_net.h5)... failed: Name or service not known.\n",
            "wget: unable to resolve host address ‘sunglasses_bd_net.h5’\n",
            "FINISHED --2021-12-04 15:19:02--\n",
            "Total wall clock time: 0.3s\n",
            "Downloaded: 1 files, 164K in 0.04s (4.22 MB/s)\n"
          ]
        }
      ]
    },
    {
      "cell_type": "code",
      "metadata": {
        "colab": {
          "base_uri": "https://localhost:8080/"
        },
        "id": "3IKoQI27A_Gl",
        "outputId": "70f09bd1-f384-4663-f911-4ba1cf3ebae2"
      },
      "source": [
        "from google.colab import drive\n",
        "drive.mount('/content/gdrive')"
      ],
      "execution_count": 4,
      "outputs": [
        {
          "output_type": "stream",
          "name": "stdout",
          "text": [
            "Mounted at /content/gdrive\n"
          ]
        }
      ]
    },
    {
      "cell_type": "code",
      "metadata": {
        "colab": {
          "base_uri": "https://localhost:8080/"
        },
        "id": "qYLIaqPjAJFP",
        "outputId": "b9dfdae6-d493-47c8-b1d1-ea87d45c6b77"
      },
      "source": [
        "eval.clean_data_filename = '/content/gdrive/MyDrive/ECE-GY 9163/Lab3/sunglasses_poisoned_data.h5'\n",
        "eval.model_filename = 'sunglasses_bd_net.h5'\n",
        "eval.main()"
      ],
      "execution_count": 26,
      "outputs": [
        {
          "output_type": "stream",
          "name": "stdout",
          "text": [
            "Classification accuracy: 99.99220576773187\n"
          ]
        }
      ]
    },
    {
      "cell_type": "markdown",
      "metadata": {
        "id": "Ojkm47Na_XuO"
      },
      "source": [
        ""
      ]
    },
    {
      "cell_type": "code",
      "metadata": {
        "id": "1kCWiJBDDL0R"
      },
      "source": [
        ""
      ],
      "execution_count": null,
      "outputs": []
    }
  ]
}