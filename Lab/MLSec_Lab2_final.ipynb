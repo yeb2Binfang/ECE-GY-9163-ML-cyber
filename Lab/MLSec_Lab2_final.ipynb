{
  "nbformat": 4,
  "nbformat_minor": 0,
  "metadata": {
    "colab": {
      "name": "MLSec_Lab2_final.ipynb",
      "provenance": [],
      "authorship_tag": "ABX9TyOxQDjfoJq9cxZZCMo9LF7l",
      "include_colab_link": true
    },
    "kernelspec": {
      "name": "python3",
      "display_name": "Python 3"
    },
    "language_info": {
      "name": "python"
    }
  },
  "cells": [
    {
      "cell_type": "markdown",
      "metadata": {
        "id": "view-in-github",
        "colab_type": "text"
      },
      "source": [
        "<a href=\"https://colab.research.google.com/github/yeb2Binfang/ECE-GY-9163-ML-cyber/blob/main/Lab/MLSec_Lab2_final.ipynb\" target=\"_parent\"><img src=\"https://colab.research.google.com/assets/colab-badge.svg\" alt=\"Open In Colab\"/></a>"
      ]
    },
    {
      "cell_type": "markdown",
      "metadata": {
        "id": "lahlilVxl2jI"
      },
      "source": [
        "# Lab 2: Adversarial Attacks on Deep Neural Networks\n",
        "\n",
        "## Overview\n",
        "In this lab, you will investigate adversarial perturbation attacks on Deep Neural Networks using the MNIST digits dataset as a benchmark. You will then evaluate adversarial retraining as a defense against adversarial perturbations.\n",
        "\n",
        "## Dataset\n",
        "The fashion_MNIST dataset is a commonly used “toy” benchmarks for machine learning. It contains 28X28 grayscale images with a label from 10 classes, along with the associated labels. The dataset is available as part of the tensorflow package, which you will be using extensively in this lab.\n",
        "\n",
        "## What You Have to Do\n",
        "The sample Google Colab notebook\n",
        "https://colab.research.google.com/github/tensorflow/docs/blob/master/site/en/tutorials/quickstart/beginner.ipynb#scrollTo=h3IKyzTCDNGo\n",
        "that implements a 2-layer DNN for MNIST digit classification. The DNN has a 784 (28x28) dimensional input, a 10-dimensional output (prediction probabilities for each of the 10 classes) and one hidden layer with 300 hidden neurons and ReLU activations. You will implement your attacks and defenses on this baseline DNN.\n",
        "\n",
        "* **FGSM based untargeted attacks**: Your first goal is to implement FGSM based untargeted attacks using images from the test set on the baseline DNN. That is, your goal is to adversarially perturb each image in the test set using the following values of parameter $\\epsilon$ = {1, 5, 10, 20, 30, 40, 50}/255 assuming pixel values are normalized in the range [0,1]. Report the success rate of your attack, i.e., the fraction of test images that were\n",
        "correctly classified by the baseline DNN that are mis-classified after adversarial perturbation, as a function of $\\epsilon$.\n",
        "\n",
        "* **FGSM based targeted attacks**: Next, you will repeat Step 1 above, except this time perform targeted attacks where digit i is classified as (i+1)%10 on the baseline DNN. (Here, i refers to the true ground-truth label of the test images, and you can assume that the attacker has access to these labels.) As before, use the following values of the parameter $\\epsilon$ = {1, 5, 10, 20, 30, 40, 50}/255. Report the attack’s success rate as a function of parameter $\\epsilon$, where success rate is defined as the fraction of test images that were correctly classified by the baseline DNN that are mis-classified after adversarial perturbations with label (i+1)%10.\n",
        "\n",
        "* **Adversarial Retraining against Untargeted FGSM Attacks**: For this step, you can assume $\\epsilon$ = 10/255 throughout. To defend against adversarial perturbations, the defender adversarially perturbs each image in her training set using the attacker’s strategy in Step 1. She then appends the adversarially perturbed images to her training set, but using their correct labels. Then, the defender retrains the baseline DNN with a new training dataset containing both images from the original training dataset and the new adversarially perturbed images. We call the new DNN the adversarially retrained DNN.\n",
        "\n",
        "  *  Report the classification accuracy of the adversarially retrained DNN on the original test dataset that contains only clean inputs.\n",
        "  * Is the adversarially retrained DNN robust against adversarial perturbations?\n",
        "Implement FGSM based untargeted attacks using images from the clean test set on the adversarially retrained DNN. Report the success rate of your attack.\n",
        "\n",
        "* **Challenge**: Finally, you will all compete in an adversarial attack challenge. You are free to use any adversarial attack detection procedure to implement untargeted attacks on a 2-layer baseline DNN. You are welcome to implement IFGSM or PGD attacks for example. For this problem you will simply submit your adversarially perturbed test images from the Fashion_MNIST dataset. The constraint is that the Root Mean Square Error averaged over all the images in the the original and modified datasets should be less than 5/255. assuming images are normalized to lie between [0,1].\n",
        "\n",
        "## What to Submit\n",
        "* Colab Notebook and its pdf format.\n",
        "* Please submit 1 Colab Notebook and 1 PDF file without zipping.\n",
        "* For the Challenge, please submit a file containing your adversarially modified test images"
      ]
    },
    {
      "cell_type": "markdown",
      "metadata": {
        "id": "G-eeA-viL3pg"
      },
      "source": [
        "## Import packages and process data"
      ]
    },
    {
      "cell_type": "code",
      "metadata": {
        "id": "Imrn7KRCL26w"
      },
      "source": [
        "import tensorflow as tf\n",
        "import numpy as np\n",
        "import matplotlib.pyplot as plt\n",
        "import seaborn as sns\n",
        "from sklearn.metrics import confusion_matrix\n",
        "from numpy import newaxis"
      ],
      "execution_count": 1,
      "outputs": []
    },
    {
      "cell_type": "code",
      "metadata": {
        "id": "0Is-5wOfMGsZ"
      },
      "source": [
        "mnist = tf.keras.datasets.mnist\n",
        "\n",
        "(x_train, y_train), (x_test, y_test) = mnist.load_data()\n",
        "x_train, x_test = x_train / 255.0, x_test / 255.0"
      ],
      "execution_count": 2,
      "outputs": []
    },
    {
      "cell_type": "code",
      "metadata": {
        "colab": {
          "base_uri": "https://localhost:8080/"
        },
        "id": "KPTTfuPuMKAY",
        "outputId": "52886b77-84c8-45f6-ed44-b53a22baea58"
      },
      "source": [
        "print(x_train.shape)\n",
        "print(x_test.shape)\n",
        "print(type(x_train))"
      ],
      "execution_count": 128,
      "outputs": [
        {
          "output_type": "stream",
          "name": "stdout",
          "text": [
            "(60000, 28, 28)\n",
            "(10000, 28, 28)\n",
            "<class 'numpy.ndarray'>\n"
          ]
        }
      ]
    },
    {
      "cell_type": "markdown",
      "metadata": {
        "id": "nJHYkAnWl8ka"
      },
      "source": [
        "We will visualize the data"
      ]
    },
    {
      "cell_type": "code",
      "metadata": {
        "colab": {
          "base_uri": "https://localhost:8080/",
          "height": 482
        },
        "id": "mxR4-j_3MOI6",
        "outputId": "6bc19e2a-6908-4bd6-8684-02f86f924090"
      },
      "source": [
        "figure = plt.figure(figsize=(10,8))\n",
        "cols, rows = 3,3\n",
        "for i in range(1, cols*rows+1):\n",
        "  index = np.random.randint(x_train.shape[0], size=1)\n",
        "  img, label = (x_train[index], y_train[index])\n",
        "  figure.add_subplot(rows, cols, i)\n",
        "  plt.title(\"true label: {}\".format(label))\n",
        "  plt.axis(\"off\")\n",
        "  plt.imshow(img.squeeze(), cmap=\"gray\")\n",
        "plt.show()"
      ],
      "execution_count": 4,
      "outputs": [
        {
          "output_type": "display_data",
          "data": {
            "image/png": "[encoded data removed]",
            "text/plain": [
              "<Figure size 720x576 with 9 Axes>"
            ]
          },
          "metadata": {
            "needs_background": "light"
          }
        }
      ]
    },
    {
      "cell_type": "markdown",
      "metadata": {
        "id": "_205_JGll-HC"
      },
      "source": [
        "## Baseline DNN model\n",
        "The DNN has a 784 (28x28) dimensional input, a 10-dimensional output (prediction probabilities for each of the 10 classes) and one hidden layer with 300 hidden neurons and ReLU activations."
      ]
    },
    {
      "cell_type": "code",
      "metadata": {
        "id": "X44oL9hXOCeK"
      },
      "source": [
        "DNN = tf.keras.models.Sequential([\n",
        "  tf.keras.layers.Flatten(input_shape=(28, 28)),\n",
        "  tf.keras.layers.Dense(300, activation='relu'),\n",
        "  tf.keras.layers.Dense(10)                                 \n",
        "])"
      ],
      "execution_count": 5,
      "outputs": []
    },
    {
      "cell_type": "code",
      "metadata": {
        "id": "qJhCEeFMPAzC"
      },
      "source": [
        "loss_fn = tf.keras.losses.SparseCategoricalCrossentropy(from_logits=True)"
      ],
      "execution_count": 6,
      "outputs": []
    },
    {
      "cell_type": "code",
      "metadata": {
        "id": "ECmpMGmXQNTC"
      },
      "source": [
        "DNN.compile(optimizer='adam', loss=loss_fn,metrics=['accuracy'])"
      ],
      "execution_count": 7,
      "outputs": []
    },
    {
      "cell_type": "code",
      "metadata": {
        "colab": {
          "base_uri": "https://localhost:8080/"
        },
        "id": "CHXYZB5CQYvA",
        "outputId": "8e253836-5798-4820-d13a-92f2a58c4965"
      },
      "source": [
        "DNN.fit(x_train, y_train, epochs=5)"
      ],
      "execution_count": 8,
      "outputs": [
        {
          "output_type": "stream",
          "name": "stdout",
          "text": [
            "Epoch 1/5\n",
            "1875/1875 [==============================] - 8s 4ms/step - loss: 0.2183 - accuracy: 0.9363\n",
            "Epoch 2/5\n",
            "1875/1875 [==============================] - 7s 4ms/step - loss: 0.0883 - accuracy: 0.9733\n",
            "Epoch 3/5\n",
            "1875/1875 [==============================] - 7s 4ms/step - loss: 0.0586 - accuracy: 0.9820\n",
            "Epoch 4/5\n",
            "1875/1875 [==============================] - 7s 4ms/step - loss: 0.0404 - accuracy: 0.9877\n",
            "Epoch 5/5\n",
            "1875/1875 [==============================] - 7s 4ms/step - loss: 0.0317 - accuracy: 0.9904\n"
          ]
        },
        {
          "output_type": "execute_result",
          "data": {
            "text/plain": [
              "<keras.callbacks.History at 0x7f7af467ac10>"
            ]
          },
          "metadata": {},
          "execution_count": 8
        }
      ]
    },
    {
      "cell_type": "code",
      "metadata": {
        "colab": {
          "base_uri": "https://localhost:8080/"
        },
        "id": "kU5Hp4ZZQdyp",
        "outputId": "64c32e92-8278-4ba4-cb90-893a310cfbc6"
      },
      "source": [
        "res = DNN.evaluate(x_test,  y_test, verbose=2)"
      ],
      "execution_count": 9,
      "outputs": [
        {
          "output_type": "stream",
          "name": "stdout",
          "text": [
            "313/313 - 1s - loss: 0.0624 - accuracy: 0.9796 - 684ms/epoch - 2ms/step\n"
          ]
        }
      ]
    },
    {
      "cell_type": "code",
      "metadata": {
        "id": "90fzuxkXRKvp"
      },
      "source": [
        "def correct_classified(model, X, Y):\n",
        "  correct_classified_img = []\n",
        "  correct_classified_img_label = []\n",
        "  count = 0\n",
        "  \n",
        "  for i, img in enumerate(X):\n",
        "    img = img[newaxis, ...]\n",
        "    pred = model(img)\n",
        "    pred = tf.nn.softmax(pred)\n",
        "    pred = tf.math.argmax(pred, axis=1).numpy()\n",
        "    if pred == Y[i]:\n",
        "      count+=1\n",
        "      correct_classified_img.append(tf.convert_to_tensor(img, dtype=tf.float32))\n",
        "      correct_classified_img_label.append(tf.convert_to_tensor(Y[i]))\n",
        "  return count, correct_classified_img, correct_classified_img_label"
      ],
      "execution_count": 39,
      "outputs": []
    },
    {
      "cell_type": "markdown",
      "metadata": {
        "id": "xZOGv7aVmdSs"
      },
      "source": [
        "## FGSM based untargeted attacks\n",
        "\n",
        "Aiming to fool the neural network and output a label different than the original one. Non-target FGS method is expresed as below\n",
        "$$\n",
        "x'\\leftarrow clip(x+\\epsilon sign(\\triangledown \\mathcal{l}_{F,y^*}(x)))\n",
        "$$\n",
        "\n",
        "Here, $\\epsilon$ is a small constraint scalar, $\\mathcal{l}$ is the loss function"
      ]
    },
    {
      "cell_type": "code",
      "metadata": {
        "id": "Q63xXK01XU6g"
      },
      "source": [
        "def generate_perturb_untarget_img(model, X, Y, epislon):\n",
        "  X = tf.convert_to_tensor(X, dtype=tf.float32)\n",
        "  x_perturb = []\n",
        "    \n",
        "  x_tensor = tf.convert_to_tensor(X, dtype=tf.float32)\n",
        "  with tf.GradientTape() as tape:\n",
        "    tape.watch(X)\n",
        "    pred = model(X)\n",
        "    loss = loss_fn(Y, pred)\n",
        "  grad = tape.gradient(loss, X)\n",
        "  grad_sign = tf.sign(grad)\n",
        "  x_perturb.append(tf.clip_by_value((X + epislon * grad_sign), clip_value_min = 0, clip_value_max = 1))\n",
        "  return x_perturb"
      ],
      "execution_count": 14,
      "outputs": []
    },
    {
      "cell_type": "code",
      "metadata": {
        "id": "Z9fcil-QfXd4"
      },
      "source": [
        "def generate_perturb_untarget_correct_img(model, X, Y, epislon):\n",
        "  x_perturb = []\n",
        "  for i, img in enumerate(X):\n",
        "    img = tf.convert_to_tensor(img, dtype=tf.float32)\n",
        "         \n",
        "    x_tensor = tf.convert_to_tensor(img, dtype=tf.float32)\n",
        "    with tf.GradientTape() as tape:\n",
        "      tape.watch(img)\n",
        "      pred = model(img)\n",
        "      loss = loss_fn(Y[i], pred)\n",
        "    grad = tape.gradient(loss, img)\n",
        "    grad_sign = tf.sign(grad)\n",
        "    x_perturb.append(tf.clip_by_value((img + epislon * grad_sign), clip_value_min = 0, clip_value_max = 1))\n",
        "  return x_perturb"
      ],
      "execution_count": 153,
      "outputs": []
    },
    {
      "cell_type": "code",
      "metadata": {
        "id": "nLrhykMCjhgd"
      },
      "source": [
        "def cal_Perturb_classify_acc(model, perturbImg, Y):\n",
        "  pred = model.predict(perturbImg)\n",
        "  pred = tf.nn.softmax(pred)\n",
        "  pred = tf.math.argmax(pred, axis=1).numpy()\n",
        "  res = model.evaluate(perturbImg,  Y, verbose=2)\n",
        "  return res, pred"
      ],
      "execution_count": 37,
      "outputs": []
    },
    {
      "cell_type": "code",
      "metadata": {
        "id": "DV2WUVlLZo4u"
      },
      "source": [
        "def cal_Perturb_correct_classify_acc(model, perturbImg, Y):\n",
        "  count = 0\n",
        "  pred_label = []\n",
        "  for i, img in enumerate(perturbImg):\n",
        "    # img = img[newaxis, ...]\n",
        "    pred = model(img)\n",
        "    pred = tf.nn.softmax(pred)\n",
        "    pred = tf.math.argmax(pred, axis=1).numpy()\n",
        "    if pred == Y[i]:\n",
        "      pred_label.append(pred)\n",
        "      count+=1\n",
        "  return count/len(Y), pred_label\n",
        "      "
      ],
      "execution_count": 176,
      "outputs": []
    },
    {
      "cell_type": "code",
      "metadata": {
        "colab": {
          "base_uri": "https://localhost:8080/"
        },
        "id": "Vy9GdJg2apBH",
        "outputId": "70d6ea54-5c81-45c2-e428-d7c60404d7a7"
      },
      "source": [
        "epsilons = [1/255, 5/255, 10/255, 20/255, 30/255, 40/255, 50/255]\n",
        "acc_untarget = []\n",
        "success_untarget_attack_rate = []\n",
        "numOfCorrectClassified, correct_classified_img, correct_classified_img_label = correct_classified(DNN, x_test, y_test)\n",
        "for eps in epsilons:\n",
        "  x_perturb = generate_perturb_untarget_img(DNN, x_test, y_test, eps)\n",
        "  acc, y_pred = cal_Perturb_classify_acc(DNN, x_perturb, y_test)\n",
        "  acc_untarget.append(acc[1])\n",
        "  \n",
        "  x_perturb_correct_classified = generate_perturb_untarget_correct_img(DNN, correct_classified_img, correct_classified_img_label, eps)\n",
        "  acc_perturb_classified, y_correct_pred = cal_Perturb_correct_classify_acc(DNN, x_perturb_correct_classified, correct_classified_img_label)\n",
        "  success_untarget_attack_rate.append(1-acc_perturb_classified)"
      ],
      "execution_count": 79,
      "outputs": [
        {
          "output_type": "stream",
          "name": "stdout",
          "text": [
            "313/313 - 1s - loss: 0.0914 - accuracy: 0.9723 - 634ms/epoch - 2ms/step\n",
            "313/313 - 1s - loss: 0.2609 - accuracy: 0.9199 - 679ms/epoch - 2ms/step\n",
            "313/313 - 1s - loss: 0.8267 - accuracy: 0.7567 - 682ms/epoch - 2ms/step\n",
            "313/313 - 1s - loss: 3.6999 - accuracy: 0.3129 - 695ms/epoch - 2ms/step\n",
            "313/313 - 1s - loss: 7.4784 - accuracy: 0.1163 - 634ms/epoch - 2ms/step\n",
            "313/313 - 1s - loss: 11.0804 - accuracy: 0.0606 - 638ms/epoch - 2ms/step\n",
            "313/313 - 1s - loss: 14.4461 - accuracy: 0.0300 - 628ms/epoch - 2ms/step\n"
          ]
        }
      ]
    },
    {
      "cell_type": "code",
      "metadata": {
        "colab": {
          "base_uri": "https://localhost:8080/",
          "height": 296
        },
        "id": "z--rRIKSk4AY",
        "outputId": "81d04e0e-b964-4c28-afd6-5fcad4822484"
      },
      "source": [
        "plt.plot(epsilons,acc_untarget,marker='x')\n",
        "plt.plot(epsilons,success_untarget_attack_rate,marker='*')\n",
        "plt.xlabel('epsilon')\n",
        "plt.ylabel('rate')\n",
        "plt.legend(['DNN accuracy','success untarget attack rate'])"
      ],
      "execution_count": 81,
      "outputs": [
        {
          "output_type": "execute_result",
          "data": {
            "text/plain": [
              "<matplotlib.legend.Legend at 0x7f419a09ff90>"
            ]
          },
          "metadata": {},
          "execution_count": 81
        },
        {
          "output_type": "display_data",
          "data": {
            "image/png": "[encoded data removed]",
            "text/plain": [
              "<Figure size 432x288 with 1 Axes>"
            ]
          },
          "metadata": {
            "needs_background": "light"
          }
        }
      ]
    },
    {
      "cell_type": "markdown",
      "metadata": {
        "id": "2m3gWgXqmi2L"
      },
      "source": [
        "## FGSM based targeted attacks\n",
        "\n",
        "Intentionally misleading the network to output a specific label designed by the attacker. The formula is shown below\n",
        "$$\n",
        "x'\\leftarrow clip(x-\\epsilon sign(\\triangledown \\mathcal{l}_{F,y'}(x)))\n",
        "$$\n",
        "\n",
        "Here, $\\epsilon$ is a small constraint scalar, $\\mathcal{l}$ is the loss function"
      ]
    },
    {
      "cell_type": "code",
      "metadata": {
        "id": "trW_UnCkb_6l"
      },
      "source": [
        "def generate_perturb_target_img(model, X, Y, epsilon):\n",
        "  y_test_modify = []\n",
        "  for i in Y:\n",
        "    y_test_modify.append((i+1)%10)\n",
        "  x_perturb = []   \n",
        "  x_tensor = tf.convert_to_tensor(X, dtype=tf.float32)\n",
        "  with tf.GradientTape() as tape:\n",
        "    tape.watch(x_tensor)\n",
        "    pred = model(x_tensor)\n",
        "    loss = loss_fn(y_test_modify, pred)\n",
        "  grad = tape.gradient(loss, x_tensor)\n",
        "  grad_sign = tf.sign(grad)\n",
        "  x_perturb.append(tf.clip_by_value((x_tensor - epsilon * grad_sign), clip_value_min = 0, clip_value_max = 1))\n",
        "  return x_perturb"
      ],
      "execution_count": 97,
      "outputs": []
    },
    {
      "cell_type": "code",
      "metadata": {
        "id": "EXKqJekGJTG9"
      },
      "source": [
        "def generate_perturb_target_correct_img(model, X, Y, epislon):\n",
        "  y_test_modify = []\n",
        "  for i in Y:\n",
        "    y_test_modify.append((i+1)%10)\n",
        "    \n",
        "  x_perturb = []\n",
        "  for i, img in enumerate(X):\n",
        "    # img = tf.convert_to_tensor(img, dtype=tf.float32)\n",
        "         \n",
        "    x_tensor = tf.convert_to_tensor(img, dtype=tf.float32)\n",
        "    with tf.GradientTape() as tape:\n",
        "      tape.watch(x_tensor)\n",
        "      pred = model(x_tensor)\n",
        "      loss = loss_fn(y_test_modify[i], pred)\n",
        "    grad = tape.gradient(loss, x_tensor)\n",
        "    grad_sign = tf.sign(grad)\n",
        "    x_perturb.append(tf.clip_by_value((x_tensor - epislon * grad_sign), clip_value_min = 0, clip_value_max = 1))\n",
        "  return x_perturb"
      ],
      "execution_count": 98,
      "outputs": []
    },
    {
      "cell_type": "code",
      "metadata": {
        "id": "FpbLCOnYOLd9"
      },
      "source": [
        "def cal_Perturb_correct_classify_tar_acc(model, perturbImg, Y):\n",
        "  count = 0\n",
        "  pred_label = []\n",
        "  for i, img in enumerate(perturbImg):\n",
        "    # img = img[newaxis, ...]\n",
        "    pred = model(img)\n",
        "    pred = tf.nn.softmax(pred)\n",
        "    pred = tf.math.argmax(pred, axis=1).numpy()\n",
        "    pred_label.append(pred)\n",
        "    \n",
        "    if pred[0] == (Y[i]+1).numpy():\n",
        "      \n",
        "      pred_label.append(pred)\n",
        "      count+=1\n",
        "  return count/len(Y), pred_label"
      ],
      "execution_count": 120,
      "outputs": []
    },
    {
      "cell_type": "code",
      "metadata": {
        "colab": {
          "base_uri": "https://localhost:8080/"
        },
        "id": "besuVUKUnb3T",
        "outputId": "08347a3e-d902-4d58-e43a-c3808e8b0c89"
      },
      "source": [
        "\n",
        "acc_target = []\n",
        "success_target_attack_rate = []\n",
        "\n",
        "\n",
        "epsilons = [1/255, 5/255, 10/255, 20/255, 30/255, 40/255, 50/255]\n",
        "numOfCorrectClassifiedTar, correct_classified_tar_img, correct_classified_tar_img_label = correct_classified(DNN, x_test, y_test)\n",
        "for eps in epsilons:\n",
        "  x_perturb_tar = generate_perturb_target_img(DNN, x_test, y_test_modify, eps)\n",
        "  acc_tar, y_pred_tar = cal_Perturb_classify_acc(DNN, x_perturb_tar, y_test)\n",
        "  acc_target.append(acc_tar[1])\n",
        "  \n",
        "  x_perturb_correct_tar_classified = generate_perturb_target_correct_img(DNN, correct_classified_tar_img, correct_classified_tar_img_label, eps)\n",
        "\n",
        "  acc_perturb_tar_classified, y_correct_tar_pred = cal_Perturb_correct_classify_tar_acc(DNN, x_perturb_correct_tar_classified, correct_classified_tar_img_label)\n",
        "  success_target_attack_rate.append(acc_perturb_tar_classified)"
      ],
      "execution_count": 124,
      "outputs": [
        {
          "output_type": "stream",
          "name": "stdout",
          "text": [
            "313/313 - 1s - loss: 0.0640 - accuracy: 0.9792 - 647ms/epoch - 2ms/step\n",
            "313/313 - 1s - loss: 0.0925 - accuracy: 0.9709 - 715ms/epoch - 2ms/step\n",
            "313/313 - 1s - loss: 0.2284 - accuracy: 0.9230 - 661ms/epoch - 2ms/step\n",
            "313/313 - 1s - loss: 1.3873 - accuracy: 0.6045 - 654ms/epoch - 2ms/step\n",
            "313/313 - 1s - loss: 4.2412 - accuracy: 0.2228 - 628ms/epoch - 2ms/step\n",
            "313/313 - 1s - loss: 7.6151 - accuracy: 0.0681 - 641ms/epoch - 2ms/step\n",
            "313/313 - 1s - loss: 10.8325 - accuracy: 0.0139 - 648ms/epoch - 2ms/step\n"
          ]
        }
      ]
    },
    {
      "cell_type": "code",
      "metadata": {
        "colab": {
          "base_uri": "https://localhost:8080/",
          "height": 312
        },
        "id": "vq38iASULjIu",
        "outputId": "438463a6-effc-4ae8-fa3b-29dae0b61751"
      },
      "source": [
        "plt.plot(epsilons,acc_target,marker='x')\n",
        "plt.plot(epsilons,success_target_attack_rate,marker='*')\n",
        "plt.xlabel('epsilon')\n",
        "plt.ylabel('rate')\n",
        "plt.legend(['DNN accuracy','success target attack rate'])\n",
        "plt.title(\"target attack\")"
      ],
      "execution_count": 126,
      "outputs": [
        {
          "output_type": "execute_result",
          "data": {
            "text/plain": [
              "Text(0.5, 1.0, 'target attack')"
            ]
          },
          "metadata": {},
          "execution_count": 126
        },
        {
          "output_type": "display_data",
          "data": {
            "image/png": "[encoded data removed]",
            "text/plain": [
              "<Figure size 432x288 with 1 Axes>"
            ]
          },
          "metadata": {
            "needs_background": "light"
          }
        }
      ]
    },
    {
      "cell_type": "markdown",
      "metadata": {
        "id": "Y1HR9zMEdcvD"
      },
      "source": [
        "## Adversarial Retraining against Untargeted FGSM Attacks\n",
        "\n",
        "For this step, you can assume $\\epsilon$ = 10/255 throughout. To defend against adversarial perturbations, the defender adversarially perturbs each image in her training set using the attacker’s strategy in Step 1. She then appends the adversarially perturbed images to her training set, but using their correct labels. Then, the defender retrains the baseline DNN with a new training dataset containing both images from the original training dataset and the new adversarially perturbed images. We call the new DNN the adversarially retrained DNN."
      ]
    },
    {
      "cell_type": "code",
      "metadata": {
        "id": "oYJ_jy30dlyY"
      },
      "source": [
        "epsilon = 10/255\n",
        "# x_retraining = x_train\n",
        "x_perturb_retrain = generate_perturb_untarget_img(DNN, x_train, y_train, epsilon)\n",
        "y_retrain = np.hstack((y_train, y_train))\n",
        "x_retrain = []\n",
        "for re in x_perturb_retrain:\n",
        "  x_retrain = np.vstack((x_train, re))\n"
      ],
      "execution_count": 163,
      "outputs": []
    },
    {
      "cell_type": "code",
      "metadata": {
        "colab": {
          "base_uri": "https://localhost:8080/"
        },
        "id": "3_qSUo_IgJW1",
        "outputId": "9a256b15-f420-4f06-80b5-2ae2d24c6de8"
      },
      "source": [
        "print(len(x_retrain))"
      ],
      "execution_count": 164,
      "outputs": [
        {
          "output_type": "stream",
          "name": "stdout",
          "text": [
            "120000\n"
          ]
        }
      ]
    },
    {
      "cell_type": "code",
      "metadata": {
        "id": "YvDJYq4EenWs"
      },
      "source": [
        "DNN_retrain = tf.keras.models.Sequential([\n",
        "  tf.keras.layers.Flatten(input_shape=(28, 28)),\n",
        "  tf.keras.layers.Dense(300, activation='relu'),\n",
        "  tf.keras.layers.Dense(10)                                 \n",
        "])"
      ],
      "execution_count": 165,
      "outputs": []
    },
    {
      "cell_type": "code",
      "metadata": {
        "id": "j-vzqVcCfxYM"
      },
      "source": [
        "DNN_retrain.compile(optimizer='adam', loss=loss_fn,metrics=['accuracy'])"
      ],
      "execution_count": 166,
      "outputs": []
    },
    {
      "cell_type": "code",
      "metadata": {
        "colab": {
          "base_uri": "https://localhost:8080/"
        },
        "id": "Yupv9mCxf4Ds",
        "outputId": "1e98c017-0de1-4bf4-ad65-858c48af875a"
      },
      "source": [
        "DNN_retrain.fit(x_retrain, y_retrain, epochs=5)"
      ],
      "execution_count": 167,
      "outputs": [
        {
          "output_type": "stream",
          "name": "stdout",
          "text": [
            "Epoch 1/5\n",
            "3750/3750 [==============================] - 18s 5ms/step - loss: 0.1235 - accuracy: 0.9644\n",
            "Epoch 2/5\n",
            "3750/3750 [==============================] - 17s 5ms/step - loss: 0.0435 - accuracy: 0.9864\n",
            "Epoch 3/5\n",
            "3750/3750 [==============================] - 17s 5ms/step - loss: 0.0290 - accuracy: 0.9906\n",
            "Epoch 4/5\n",
            "3750/3750 [==============================] - 17s 5ms/step - loss: 0.0209 - accuracy: 0.9932\n",
            "Epoch 5/5\n",
            "3750/3750 [==============================] - 17s 5ms/step - loss: 0.0160 - accuracy: 0.9948\n"
          ]
        },
        {
          "output_type": "execute_result",
          "data": {
            "text/plain": [
              "<keras.callbacks.History at 0x7f7aea9a87d0>"
            ]
          },
          "metadata": {},
          "execution_count": 167
        }
      ]
    },
    {
      "cell_type": "code",
      "metadata": {
        "colab": {
          "base_uri": "https://localhost:8080/"
        },
        "id": "UAXD1gGbf-wM",
        "outputId": "c9079456-bb50-4fea-9326-e32e45a6a740"
      },
      "source": [
        "res_retrain = DNN_retrain.evaluate(x_test,  y_test, verbose=2)"
      ],
      "execution_count": 168,
      "outputs": [
        {
          "output_type": "stream",
          "name": "stdout",
          "text": [
            "313/313 - 1s - loss: 0.0790 - accuracy: 0.9781 - 834ms/epoch - 3ms/step\n"
          ]
        }
      ]
    },
    {
      "cell_type": "code",
      "metadata": {
        "colab": {
          "base_uri": "https://localhost:8080/"
        },
        "id": "zfzWm9QDgvnk",
        "outputId": "534eb2ef-cf83-408e-ff0e-f38e9fd257ee"
      },
      "source": [
        "numOfCorrectClassified, correct_classified_img, correct_classified_img_label = correct_classified(DNN, x_test, y_test)\n",
        "x_perturb = generate_perturb_untarget_img(DNN_retrain, x_test, y_test, epsilon)\n",
        "acc_retrain, y_pred_retrain = cal_Perturb_classify_acc(DNN_retrain, x_perturb, y_test)\n",
        "\n",
        "\n",
        "x_perturb_correct_classified = generate_perturb_untarget_correct_img(DNN_retrain, correct_classified_img, correct_classified_img_label, epsilon)\n",
        "acc_perturb_classified, y_correct_pred = cal_Perturb_correct_classify_acc(DNN_retrain, x_perturb_correct_classified, correct_classified_img_label)\n"
      ],
      "execution_count": 180,
      "outputs": [
        {
          "output_type": "stream",
          "name": "stdout",
          "text": [
            "313/313 - 1s - loss: 7.2308 - accuracy: 0.2192 - 687ms/epoch - 2ms/step\n"
          ]
        }
      ]
    },
    {
      "cell_type": "code",
      "metadata": {
        "colab": {
          "base_uri": "https://localhost:8080/"
        },
        "id": "gEj5Y3-2hNxf",
        "outputId": "00b885ea-5e6d-47df-8e7c-524b85606c4f"
      },
      "source": [
        "print(1-acc_perturb_classified)"
      ],
      "execution_count": 182,
      "outputs": [
        {
          "output_type": "stream",
          "name": "stdout",
          "text": [
            "0.7765762089369517\n"
          ]
        }
      ]
    },
    {
      "cell_type": "markdown",
      "metadata": {
        "id": "pbxS0aUZ1SrR"
      },
      "source": [
        "We can see that the success atcck rate is high if we use the images that are generated from DNN_retrain. SO, it is not roboust. However, if the images are generated from the original DNN, than DNN_retrain works well."
      ]
    },
    {
      "cell_type": "markdown",
      "metadata": {
        "id": "t_P1i3KrqHWq"
      },
      "source": [
        "## Challenge\n",
        "\n",
        "I will implement IFGS here, iterative fast gradient sign methods. It is actually a iterative version of FGS. IFGS will perturb each pixel with a small amount for multiple times. For non-targeted attacks, the formula will be\n",
        "$$\n",
        "x_0'=x,x_{N+1}'\\leftarrow clip_{\\epsilon}(x_N'+\\alpha sign(\\triangledown \\mathcal{l}_{F,y^*}(x)))\n",
        "$$\n",
        "\n",
        "IFGS methods are capable of generating adversarial inputs with smaller distortion when compared to basic FGS methods."
      ]
    },
    {
      "cell_type": "code",
      "metadata": {
        "colab": {
          "base_uri": "https://localhost:8080/"
        },
        "id": "5NWjpY6Ymls6",
        "outputId": "5e25ea5c-3d50-48aa-bdc1-3da035827b4c"
      },
      "source": [
        "fashionMnist = tf.keras.datasets.fashion_mnist\n",
        "\n",
        "(x_train_fashion, y_train_fashion), (x_test_fashion, y_test_fashion) = fashionMnist.load_data()\n",
        "x_train_fashion, x_test_fashion = x_train_fashion / 255.0, x_test_fashion / 255.0"
      ],
      "execution_count": 183,
      "outputs": [
        {
          "output_type": "stream",
          "name": "stdout",
          "text": [
            "Downloading data from https://storage.googleapis.com/tensorflow/tf-keras-datasets/train-labels-idx1-ubyte.gz\n",
            "32768/29515 [=================================] - 0s 0us/step\n",
            "40960/29515 [=========================================] - 0s 0us/step\n",
            "Downloading data from https://storage.googleapis.com/tensorflow/tf-keras-datasets/train-images-idx3-ubyte.gz\n",
            "26427392/26421880 [==============================] - 0s 0us/step\n",
            "26435584/26421880 [==============================] - 0s 0us/step\n",
            "Downloading data from https://storage.googleapis.com/tensorflow/tf-keras-datasets/t10k-labels-idx1-ubyte.gz\n",
            "16384/5148 [===============================================================================================] - 0s 0us/step\n",
            "Downloading data from https://storage.googleapis.com/tensorflow/tf-keras-datasets/t10k-images-idx3-ubyte.gz\n",
            "4423680/4422102 [==============================] - 0s 0us/step\n",
            "4431872/4422102 [==============================] - 0s 0us/step\n"
          ]
        }
      ]
    },
    {
      "cell_type": "code",
      "metadata": {
        "colab": {
          "base_uri": "https://localhost:8080/"
        },
        "id": "6N14_fUtqocx",
        "outputId": "c118cbd9-0a67-4709-eeb9-05ae70fd3a67"
      },
      "source": [
        "print(x_train_fashion.shape)\n",
        "print(x_test_fashion.shape)"
      ],
      "execution_count": 184,
      "outputs": [
        {
          "output_type": "stream",
          "name": "stdout",
          "text": [
            "(60000, 28, 28)\n",
            "(10000, 28, 28)\n"
          ]
        }
      ]
    },
    {
      "cell_type": "code",
      "metadata": {
        "colab": {
          "base_uri": "https://localhost:8080/",
          "height": 482
        },
        "id": "imBG6__3qy0R",
        "outputId": "4a15778d-3167-4171-f8e1-f99907328433"
      },
      "source": [
        "figure = plt.figure(figsize=(10,8))\n",
        "cols, rows = 3,3\n",
        "for i in range(1, cols*rows+1):\n",
        "  index = np.random.randint(x_train_fashion.shape[0], size=1)\n",
        "  img, label = (x_train_fashion[index], y_train_fashion[index])\n",
        "  figure.add_subplot(rows, cols, i)\n",
        "  plt.title(\"true label: {}\".format(label))\n",
        "  plt.axis(\"off\")\n",
        "  plt.imshow(img.squeeze(), cmap=\"gray\")\n",
        "plt.show()"
      ],
      "execution_count": 185,
      "outputs": [
        {
          "output_type": "display_data",
          "data": {
            "image/png": "[encoded data removed]",
            "text/plain": [
              "<Figure size 720x576 with 9 Axes>"
            ]
          },
          "metadata": {
            "needs_background": "light"
          }
        }
      ]
    },
    {
      "cell_type": "code",
      "metadata": {
        "id": "JZPZQEyZq7xB"
      },
      "source": [
        "DNN_fashion = tf.keras.models.Sequential([\n",
        "  tf.keras.layers.Flatten(input_shape=(28, 28)),\n",
        "  tf.keras.layers.Dense(300, activation='relu'),\n",
        "  tf.keras.layers.Dense(10)                                 \n",
        "])"
      ],
      "execution_count": 186,
      "outputs": []
    },
    {
      "cell_type": "code",
      "metadata": {
        "colab": {
          "base_uri": "https://localhost:8080/"
        },
        "id": "JwNxNrO6rDvR",
        "outputId": "51491833-060f-42ae-a926-439a9dfe483e"
      },
      "source": [
        "DNN_fashion.compile(optimizer='adam', loss=loss_fn,metrics=['accuracy'])\n",
        "DNN_fashion.fit(x_train_fashion, y_train_fashion, epochs=5)"
      ],
      "execution_count": 187,
      "outputs": [
        {
          "output_type": "stream",
          "name": "stdout",
          "text": [
            "Epoch 1/5\n",
            "1875/1875 [==============================] - 8s 4ms/step - loss: 0.4796 - accuracy: 0.8286\n",
            "Epoch 2/5\n",
            "1875/1875 [==============================] - 8s 4ms/step - loss: 0.3621 - accuracy: 0.8667\n",
            "Epoch 3/5\n",
            "1875/1875 [==============================] - 7s 4ms/step - loss: 0.3239 - accuracy: 0.8809\n",
            "Epoch 4/5\n",
            "1875/1875 [==============================] - 7s 4ms/step - loss: 0.3037 - accuracy: 0.8881\n",
            "Epoch 5/5\n",
            "1875/1875 [==============================] - 8s 4ms/step - loss: 0.2850 - accuracy: 0.8947\n"
          ]
        },
        {
          "output_type": "execute_result",
          "data": {
            "text/plain": [
              "<keras.callbacks.History at 0x7f7aebc83ed0>"
            ]
          },
          "metadata": {},
          "execution_count": 187
        }
      ]
    },
    {
      "cell_type": "code",
      "metadata": {
        "colab": {
          "base_uri": "https://localhost:8080/"
        },
        "id": "zQd7nHBjrPOJ",
        "outputId": "83f36d59-dcf0-48a8-e141-349b9f396db0"
      },
      "source": [
        "res = DNN_fashion.evaluate(x_test_fashion,  y_test_fashion, verbose=2)"
      ],
      "execution_count": 193,
      "outputs": [
        {
          "output_type": "stream",
          "name": "stdout",
          "text": [
            "313/313 - 1s - loss: 0.3544 - accuracy: 0.8737 - 685ms/epoch - 2ms/step\n"
          ]
        }
      ]
    },
    {
      "cell_type": "code",
      "metadata": {
        "id": "rHz8lMpcv2rY"
      },
      "source": [
        "def calRMSE(adv_img, ori_img):\n",
        "  RMSE = []\n",
        "  for i, img in enumerate(adv_img):\n",
        "    rmse = np.sqrt(np.sum((img-ori_img[i])**2)/(28*28))\n",
        "    \n",
        "    RMSE.append(rmse)\n",
        "    #rmse = torch.sqrt(torch.sum((img-adv_img[i])**2)/(28*28*64))\n",
        "    #print(rmse)\n",
        "    \n",
        "  return RMSE"
      ],
      "execution_count": null,
      "outputs": []
    },
    {
      "cell_type": "code",
      "metadata": {
        "id": "LPPQsZoWrV-0"
      },
      "source": [
        "def generate_perturb_untarget_im_iter(iteration, model, X, Y, epislon):\n",
        "  # X = tf.convert_to_tensor(X, dtype=tf.float32)\n",
        "  x_perturb = [] \n",
        "  x_tensor = tf.convert_to_tensor(X, dtype=tf.float32)\n",
        "  for i in range(iteration):\n",
        "    \n",
        "    with tf.GradientTape() as tape:\n",
        "      tape.watch(x_tensor)\n",
        "      pred = model(x_tensor)\n",
        "      loss = loss_fn(Y, pred)\n",
        "    grad = tape.gradient(loss, x_tensor)\n",
        "    grad_sign = tf.sign(grad)\n",
        "    x_tensor = tf.clip_by_value((x_tensor + epislon * grad_sign), clip_value_min = 0, clip_value_max = 1)\n",
        "  x_perturb.append(x_tensor)\n",
        "  return x_perturb"
      ],
      "execution_count": 233,
      "outputs": []
    },
    {
      "cell_type": "code",
      "metadata": {
        "id": "4Xcj_7UisHQ5"
      },
      "source": [
        "def calRMSE(adv_img, ori_img):\n",
        "  RMSE = []\n",
        "  for i, img in enumerate(adv_img):\n",
        "    rmse = np.sqrt(np.sum((img-ori_img[i])**2)/(28*28))\n",
        "    \n",
        "    RMSE.append(rmse)\n",
        "    #rmse = torch.sqrt(torch.sum((img-adv_img[i])**2)/(28*28*64))\n",
        "    #print(rmse)\n",
        "    \n",
        "  return np.sum(RMSE)/len(RMSE)"
      ],
      "execution_count": 235,
      "outputs": []
    },
    {
      "cell_type": "code",
      "metadata": {
        "id": "tgueaHZSs292"
      },
      "source": [
        "x_perturb_fashion = generate_perturb_untarget_im_iter(5, DNN_fashion, x_test_fashion, y_test_fashion, 1/255)"
      ],
      "execution_count": 241,
      "outputs": []
    },
    {
      "cell_type": "code",
      "metadata": {
        "id": "k_jUzgrJtHoh"
      },
      "source": [
        "RMSE = calRMSE(x_perturb_fashion[0], x_test_fashion)"
      ],
      "execution_count": 242,
      "outputs": []
    },
    {
      "cell_type": "code",
      "metadata": {
        "colab": {
          "base_uri": "https://localhost:8080/"
        },
        "id": "yrODQEtQtdFL",
        "outputId": "43d9b2c2-feab-4e9b-da7b-aa62e8093ecc"
      },
      "source": [
        "print(RMSE)"
      ],
      "execution_count": 243,
      "outputs": [
        {
          "output_type": "stream",
          "name": "stdout",
          "text": [
            "0.016751310800062688\n"
          ]
        }
      ]
    },
    {
      "cell_type": "code",
      "metadata": {
        "colab": {
          "base_uri": "https://localhost:8080/",
          "height": 301
        },
        "id": "cExlHH-qvl0q",
        "outputId": "da4121fd-1090-42e0-f066-059554c2b11b"
      },
      "source": [
        "figure = plt.figure(figsize=(10,8))\n",
        "index = np.random.randint(x_test_fashion.shape[0], size=1)\n",
        "img1, label1 = (x_test_fashion[index], y_test_fashion[index])\n",
        "figure.add_subplot(1, 2, 1)\n",
        "plt.title(\"ori_img\")\n",
        "plt.axis(\"off\")\n",
        "plt.imshow(img1.squeeze(), cmap=\"gray\")\n",
        "img2, label2 = (np.array(x_perturb_fashion[0][index[0]]), y_test_fashion[index])\n",
        "figure.add_subplot(1, 2, 2)\n",
        "plt.title(\"perturb img\")\n",
        "plt.axis(\"off\")\n",
        "plt.imshow(img2.squeeze(), cmap=\"gray\")\n",
        "plt.show()"
      ],
      "execution_count": 273,
      "outputs": [
        {
          "output_type": "display_data",
          "data": {
            "image/png": "[encoded data removed]",
            "text/plain": [
              "<Figure size 720x576 with 2 Axes>"
            ]
          },
          "metadata": {
            "needs_background": "light"
          }
        }
      ]
    },
    {
      "cell_type": "code",
      "metadata": {
        "id": "iKPL9mXyxtjI"
      },
      "source": [
        ""
      ],
      "execution_count": 268,
      "outputs": []
    }
  ]
}