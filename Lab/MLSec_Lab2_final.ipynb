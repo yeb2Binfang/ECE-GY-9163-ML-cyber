{
  "nbformat": 4,
  "nbformat_minor": 0,
  "metadata": {
    "colab": {
      "name": "MLSec_Lab2_final.ipynb",
      "provenance": [],
      "include_colab_link": true
    },
    "kernelspec": {
      "name": "python3",
      "display_name": "Python 3"
    },
    "language_info": {
      "name": "python"
    }
  },
  "cells": [
    {
      "cell_type": "markdown",
      "metadata": {
        "id": "view-in-github",
        "colab_type": "text"
      },
      "source": [
        "<a href=\"https://colab.research.google.com/github/yeb2Binfang/ECE-GY-9163-ML-cyber/blob/main/Lab/MLSec_Lab2_final.ipynb\" target=\"_parent\"><img src=\"https://colab.research.google.com/assets/colab-badge.svg\" alt=\"Open In Colab\"/></a>"
      ]
    },
    {
      "cell_type": "markdown",
      "metadata": {
        "id": "lahlilVxl2jI"
      },
      "source": [
        "# Lab 2: Adversarial Attacks on Deep Neural Networks\n",
        "\n",
        "## Overview\n",
        "In this lab, you will investigate adversarial perturbation attacks on Deep Neural Networks using the MNIST digits dataset as a benchmark. You will then evaluate adversarial retraining as a defense against adversarial perturbations.\n",
        "\n",
        "## Dataset\n",
        "The fashion_MNIST dataset is a commonly used “toy” benchmarks for machine learning. It contains 28X28 grayscale images with a label from 10 classes, along with the associated labels. The dataset is available as part of the tensorflow package, which you will be using extensively in this lab.\n",
        "\n",
        "## What You Have to Do\n",
        "The sample Google Colab notebook\n",
        "https://colab.research.google.com/github/tensorflow/docs/blob/master/site/en/tutorials/quickstart/beginner.ipynb#scrollTo=h3IKyzTCDNGo\n",
        "that implements a 2-layer DNN for MNIST digit classification. The DNN has a 784 (28x28) dimensional input, a 10-dimensional output (prediction probabilities for each of the 10 classes) and one hidden layer with 300 hidden neurons and ReLU activations. You will implement your attacks and defenses on this baseline DNN.\n",
        "\n",
        "* **FGSM based untargeted attacks**: Your first goal is to implement FGSM based untargeted attacks using images from the test set on the baseline DNN. That is, your goal is to adversarially perturb each image in the test set using the following values of parameter $\\epsilon$ = {1, 5, 10, 20, 30, 40, 50}/255 assuming pixel values are normalized in the range [0,1]. Report the success rate of your attack, i.e., the fraction of test images that were\n",
        "correctly classified by the baseline DNN that are mis-classified after adversarial perturbation, as a function of $\\epsilon$.\n",
        "\n",
        "* **FGSM based targeted attacks**: Next, you will repeat Step 1 above, except this time perform targeted attacks where digit i is classified as (i+1)%10 on the baseline DNN. (Here, i refers to the true ground-truth label of the test images, and you can assume that the attacker has access to these labels.) As before, use the following values of the parameter $\\epsilon$ = {1, 5, 10, 20, 30, 40, 50}/255. Report the attack’s success rate as a function of parameter $\\epsilon$, where success rate is defined as the fraction of test images that were correctly classified by the baseline DNN that are mis-classified after adversarial perturbations with label (i+1)%10.\n",
        "\n",
        "* **Adversarial Retraining against Untargeted FGSM Attacks**: For this step, you can assume $\\epsilon$ = 10/255 throughout. To defend against adversarial perturbations, the defender adversarially perturbs each image in her training set using the attacker’s strategy in Step 1. She then appends the adversarially perturbed images to her training set, but using their correct labels. Then, the defender retrains the baseline DNN with a new training dataset containing both images from the original training dataset and the new adversarially perturbed images. We call the new DNN the adversarially retrained DNN.\n",
        "\n",
        "  *  Report the classification accuracy of the adversarially retrained DNN on the original test dataset that contains only clean inputs.\n",
        "  * Is the adversarially retrained DNN robust against adversarial perturbations?\n",
        "Implement FGSM based untargeted attacks using images from the clean test set on the adversarially retrained DNN. Report the success rate of your attack.\n",
        "\n",
        "* **Challenge**: Finally, you will all compete in an adversarial attack challenge. You are free to use any adversarial attack detection procedure to implement untargeted attacks on a 2-layer baseline DNN. You are welcome to implement IFGSM or PGD attacks for example. For this problem you will simply submit your adversarially perturbed test images from the Fashion_MNIST dataset. The constraint is that the Root Mean Square Error averaged over all the images in the the original and modified datasets should be less than 5/255. assuming images are normalized to lie between [0,1].\n",
        "\n",
        "## What to Submit\n",
        "* Colab Notebook and its pdf format.\n",
        "* Please submit 1 Colab Notebook and 1 PDF file without zipping.\n",
        "* For the Challenge, please submit a file containing your adversarially modified test images"
      ]
    },
    {
      "cell_type": "markdown",
      "metadata": {
        "id": "G-eeA-viL3pg"
      },
      "source": [
        "## Import packages and process data"
      ]
    },
    {
      "cell_type": "code",
      "metadata": {
        "id": "Imrn7KRCL26w"
      },
      "source": [
        "import tensorflow as tf\n",
        "import numpy as np\n",
        "import matplotlib.pyplot as plt\n",
        "import seaborn as sns\n",
        "from sklearn.metrics import confusion_matrix\n",
        "from numpy import newaxis"
      ],
      "execution_count": 1,
      "outputs": []
    },
    {
      "cell_type": "code",
      "metadata": {
        "id": "0Is-5wOfMGsZ",
        "colab": {
          "base_uri": "https://localhost:8080/",
          "height": 0
        },
        "outputId": "9e0cd834-f8fc-4bec-98e7-2e82e1c62839"
      },
      "source": [
        "mnist = tf.keras.datasets.mnist\n",
        "\n",
        "(x_train, y_train), (x_test, y_test) = mnist.load_data()\n",
        "x_train, x_test = x_train / 255.0, x_test / 255.0"
      ],
      "execution_count": 2,
      "outputs": [
        {
          "output_type": "stream",
          "name": "stdout",
          "text": [
            "Downloading data from https://storage.googleapis.com/tensorflow/tf-keras-datasets/mnist.npz\n",
            "11493376/11490434 [==============================] - 0s 0us/step\n",
            "11501568/11490434 [==============================] - 0s 0us/step\n"
          ]
        }
      ]
    },
    {
      "cell_type": "code",
      "metadata": {
        "colab": {
          "base_uri": "https://localhost:8080/",
          "height": 0
        },
        "id": "KPTTfuPuMKAY",
        "outputId": "9274ef52-bf00-4957-be90-54da2cd35d10"
      },
      "source": [
        "print(x_train.shape)\n",
        "print(x_test.shape)\n",
        "print(type(x_train))"
      ],
      "execution_count": 3,
      "outputs": [
        {
          "output_type": "stream",
          "name": "stdout",
          "text": [
            "(60000, 28, 28)\n",
            "(10000, 28, 28)\n",
            "<class 'numpy.ndarray'>\n"
          ]
        }
      ]
    },
    {
      "cell_type": "markdown",
      "metadata": {
        "id": "nJHYkAnWl8ka"
      },
      "source": [
        "We will visualize the data"
      ]
    },
    {
      "cell_type": "code",
      "metadata": {
        "colab": {
          "base_uri": "https://localhost:8080/",
          "height": 482
        },
        "id": "mxR4-j_3MOI6",
        "outputId": "787f2d17-e57b-47dc-9bc2-12c204e50837"
      },
      "source": [
        "figure = plt.figure(figsize=(10,8))\n",
        "cols, rows = 3,3\n",
        "for i in range(1, cols*rows+1):\n",
        "  index = np.random.randint(x_train.shape[0], size=1)\n",
        "  img, label = (x_train[index], y_train[index])\n",
        "  figure.add_subplot(rows, cols, i)\n",
        "  plt.title(\"true label: {}\".format(label))\n",
        "  plt.axis(\"off\")\n",
        "  plt.imshow(img.squeeze(), cmap=\"gray\")\n",
        "plt.show()"
      ],
      "execution_count": 4,
      "outputs": [
        {
          "output_type": "display_data",
          "data": {
            "image/png": "[encoded data removed]",
            "text/plain": [
              "<Figure size 720x576 with 9 Axes>"
            ]
          },
          "metadata": {
            "needs_background": "light"
          }
        }
      ]
    },
    {
      "cell_type": "markdown",
      "metadata": {
        "id": "_205_JGll-HC"
      },
      "source": [
        "## Baseline DNN model\n",
        "The DNN has a 784 (28x28) dimensional input, a 10-dimensional output (prediction probabilities for each of the 10 classes) and one hidden layer with 300 hidden neurons and ReLU activations."
      ]
    },
    {
      "cell_type": "code",
      "metadata": {
        "id": "X44oL9hXOCeK"
      },
      "source": [
        "DNN = tf.keras.models.Sequential([\n",
        "  tf.keras.layers.Flatten(input_shape=(28, 28)),\n",
        "  tf.keras.layers.Dense(300, activation='relu'),\n",
        "  tf.keras.layers.Dense(10)                                 \n",
        "])"
      ],
      "execution_count": 5,
      "outputs": []
    },
    {
      "cell_type": "code",
      "metadata": {
        "id": "qJhCEeFMPAzC"
      },
      "source": [
        "loss_fn = tf.keras.losses.SparseCategoricalCrossentropy(from_logits=True)"
      ],
      "execution_count": 6,
      "outputs": []
    },
    {
      "cell_type": "code",
      "metadata": {
        "id": "ECmpMGmXQNTC"
      },
      "source": [
        "DNN.compile(optimizer='adam', loss=loss_fn,metrics=['accuracy'])"
      ],
      "execution_count": 7,
      "outputs": []
    },
    {
      "cell_type": "code",
      "metadata": {
        "colab": {
          "base_uri": "https://localhost:8080/",
          "height": 0
        },
        "id": "CHXYZB5CQYvA",
        "outputId": "ca55b37b-5d78-4b59-eb4e-f1e726a40328"
      },
      "source": [
        "DNN.fit(x_train, y_train, epochs=5)"
      ],
      "execution_count": 8,
      "outputs": [
        {
          "output_type": "stream",
          "name": "stdout",
          "text": [
            "Epoch 1/5\n",
            "1875/1875 [==============================] - 8s 4ms/step - loss: 0.2184 - accuracy: 0.9361\n",
            "Epoch 2/5\n",
            "1875/1875 [==============================] - 7s 4ms/step - loss: 0.0870 - accuracy: 0.9732\n",
            "Epoch 3/5\n",
            "1875/1875 [==============================] - 7s 4ms/step - loss: 0.0592 - accuracy: 0.9812\n",
            "Epoch 4/5\n",
            "1875/1875 [==============================] - 7s 4ms/step - loss: 0.0399 - accuracy: 0.9872\n",
            "Epoch 5/5\n",
            "1875/1875 [==============================] - 7s 4ms/step - loss: 0.0312 - accuracy: 0.9898\n"
          ]
        },
        {
          "output_type": "execute_result",
          "data": {
            "text/plain": [
              "<keras.callbacks.History at 0x7f08031d4e90>"
            ]
          },
          "metadata": {},
          "execution_count": 8
        }
      ]
    },
    {
      "cell_type": "code",
      "metadata": {
        "colab": {
          "base_uri": "https://localhost:8080/",
          "height": 0
        },
        "id": "kU5Hp4ZZQdyp",
        "outputId": "f54b27ad-3ad9-49b3-d79e-e659e45ac73f"
      },
      "source": [
        "res = DNN.evaluate(x_test,  y_test, verbose=2)"
      ],
      "execution_count": 9,
      "outputs": [
        {
          "output_type": "stream",
          "name": "stdout",
          "text": [
            "313/313 - 1s - loss: 0.0711 - accuracy: 0.9790 - 714ms/epoch - 2ms/step\n"
          ]
        }
      ]
    },
    {
      "cell_type": "code",
      "metadata": {
        "id": "90fzuxkXRKvp"
      },
      "source": [
        "def correct_classified(model, X, Y):\n",
        "  correct_classified_img = []\n",
        "  correct_classified_img_label = []\n",
        "  count = 0\n",
        "  \n",
        "  for i, img in enumerate(X):\n",
        "    img = img[newaxis, ...]\n",
        "    pred = model(img)\n",
        "    pred = tf.nn.softmax(pred)\n",
        "    pred = tf.math.argmax(pred, axis=1).numpy()\n",
        "    if pred == Y[i]:\n",
        "      count+=1\n",
        "      correct_classified_img.append(tf.convert_to_tensor(img, dtype=tf.float32))\n",
        "      correct_classified_img_label.append(tf.convert_to_tensor(Y[i]))\n",
        "  return count, correct_classified_img, correct_classified_img_label"
      ],
      "execution_count": 10,
      "outputs": []
    },
    {
      "cell_type": "markdown",
      "metadata": {
        "id": "xZOGv7aVmdSs"
      },
      "source": [
        "## FGSM based untargeted attacks\n",
        "\n",
        "Aiming to fool the neural network and output a label different than the original one. Non-target FGS method is expresed as below\n",
        "$$\n",
        "x'\\leftarrow clip(x+\\epsilon sign(\\triangledown \\mathcal{l}_{F,y^*}(x)))\n",
        "$$\n",
        "\n",
        "Here, $\\epsilon$ is a small constraint scalar, $\\mathcal{l}$ is the loss function"
      ]
    },
    {
      "cell_type": "code",
      "metadata": {
        "id": "Q63xXK01XU6g"
      },
      "source": [
        "def generate_perturb_untarget_img(model, X, Y, epislon):\n",
        "  X = tf.convert_to_tensor(X, dtype=tf.float32)\n",
        "  x_perturb = []\n",
        "    \n",
        "  x_tensor = tf.convert_to_tensor(X, dtype=tf.float32)\n",
        "  with tf.GradientTape() as tape:\n",
        "    tape.watch(X)\n",
        "    pred = model(X)\n",
        "    loss = loss_fn(Y, pred)\n",
        "  grad = tape.gradient(loss, X)\n",
        "  grad_sign = tf.sign(grad)\n",
        "  x_perturb.append(tf.clip_by_value((X + epislon * grad_sign), clip_value_min = 0, clip_value_max = 1))\n",
        "  return x_perturb"
      ],
      "execution_count": 11,
      "outputs": []
    },
    {
      "cell_type": "code",
      "metadata": {
        "id": "Z9fcil-QfXd4"
      },
      "source": [
        "def generate_perturb_untarget_correct_img(model, X, Y, epislon):\n",
        "  x_perturb = []\n",
        "  for i, img in enumerate(X):\n",
        "    img = tf.convert_to_tensor(img, dtype=tf.float32)\n",
        "         \n",
        "    x_tensor = tf.convert_to_tensor(img, dtype=tf.float32)\n",
        "    with tf.GradientTape() as tape:\n",
        "      tape.watch(img)\n",
        "      pred = model(img)\n",
        "      loss = loss_fn(Y[i], pred)\n",
        "    grad = tape.gradient(loss, img)\n",
        "    grad_sign = tf.sign(grad)\n",
        "    x_perturb.append(tf.clip_by_value((img + epislon * grad_sign), clip_value_min = 0, clip_value_max = 1))\n",
        "  return x_perturb"
      ],
      "execution_count": 12,
      "outputs": []
    },
    {
      "cell_type": "code",
      "metadata": {
        "id": "nLrhykMCjhgd"
      },
      "source": [
        "def cal_Perturb_classify_acc(model, perturbImg, Y):\n",
        "  pred = model.predict(perturbImg)\n",
        "  pred = tf.nn.softmax(pred)\n",
        "  pred = tf.math.argmax(pred, axis=1).numpy()\n",
        "  res = model.evaluate(perturbImg,  Y, verbose=2)\n",
        "  return res, pred"
      ],
      "execution_count": 13,
      "outputs": []
    },
    {
      "cell_type": "code",
      "metadata": {
        "id": "DV2WUVlLZo4u"
      },
      "source": [
        "def cal_Perturb_correct_classify_acc(model, perturbImg, Y):\n",
        "  count = 0\n",
        "  pred_label = []\n",
        "  for i, img in enumerate(perturbImg):\n",
        "    # img = img[newaxis, ...]\n",
        "    pred = model(img)\n",
        "    pred = tf.nn.softmax(pred)\n",
        "    pred = tf.math.argmax(pred, axis=1).numpy()\n",
        "    if pred == Y[i]:\n",
        "      pred_label.append(pred)\n",
        "      count+=1\n",
        "  return count/len(Y), pred_label\n",
        "      "
      ],
      "execution_count": 14,
      "outputs": []
    },
    {
      "cell_type": "code",
      "metadata": {
        "colab": {
          "base_uri": "https://localhost:8080/",
          "height": 0
        },
        "id": "Vy9GdJg2apBH",
        "outputId": "df526a3c-2480-4406-ce27-937bc3c8db5e"
      },
      "source": [
        "epsilons = [1/255, 5/255, 10/255, 20/255, 30/255, 40/255, 50/255]\n",
        "acc_untarget = []\n",
        "success_untarget_attack_rate = []\n",
        "numOfCorrectClassified, correct_classified_img, correct_classified_img_label = correct_classified(DNN, x_test, y_test)\n",
        "for eps in epsilons:\n",
        "  x_perturb = generate_perturb_untarget_img(DNN, x_test, y_test, eps)\n",
        "  acc, y_pred = cal_Perturb_classify_acc(DNN, x_perturb, y_test)\n",
        "  acc_untarget.append(acc[1])\n",
        "  \n",
        "  x_perturb_correct_classified = generate_perturb_untarget_correct_img(DNN, correct_classified_img, correct_classified_img_label, eps)\n",
        "  acc_perturb_classified, y_correct_pred = cal_Perturb_correct_classify_acc(DNN, x_perturb_correct_classified, correct_classified_img_label)\n",
        "  success_untarget_attack_rate.append(1-acc_perturb_classified)"
      ],
      "execution_count": 15,
      "outputs": [
        {
          "output_type": "stream",
          "name": "stdout",
          "text": [
            "313/313 - 1s - loss: 0.0923 - accuracy: 0.9723 - 738ms/epoch - 2ms/step\n",
            "313/313 - 1s - loss: 0.2410 - accuracy: 0.9307 - 691ms/epoch - 2ms/step\n",
            "313/313 - 1s - loss: 0.7116 - accuracy: 0.7959 - 655ms/epoch - 2ms/step\n",
            "313/313 - 1s - loss: 3.3319 - accuracy: 0.3121 - 694ms/epoch - 2ms/step\n",
            "313/313 - 1s - loss: 6.9672 - accuracy: 0.1266 - 714ms/epoch - 2ms/step\n",
            "313/313 - 1s - loss: 10.4109 - accuracy: 0.0665 - 791ms/epoch - 3ms/step\n",
            "313/313 - 1s - loss: 13.6205 - accuracy: 0.0338 - 705ms/epoch - 2ms/step\n"
          ]
        }
      ]
    },
    {
      "cell_type": "code",
      "metadata": {
        "colab": {
          "base_uri": "https://localhost:8080/",
          "height": 296
        },
        "id": "z--rRIKSk4AY",
        "outputId": "6a3c920e-7cf4-46fe-805a-95e54c21d90f"
      },
      "source": [
        "plt.plot(epsilons,acc_untarget,marker='x')\n",
        "plt.plot(epsilons,success_untarget_attack_rate,marker='*')\n",
        "plt.xlabel('epsilon')\n",
        "plt.ylabel('rate')\n",
        "plt.legend(['DNN accuracy','success untarget attack rate'])"
      ],
      "execution_count": 16,
      "outputs": [
        {
          "output_type": "execute_result",
          "data": {
            "text/plain": [
              "<matplotlib.legend.Legend at 0x7f07fd3a9c50>"
            ]
          },
          "metadata": {},
          "execution_count": 16
        },
        {
          "output_type": "display_data",
          "data": {
            "image/png": "[encoded data removed]",
            "text/plain": [
              "<Figure size 432x288 with 1 Axes>"
            ]
          },
          "metadata": {
            "needs_background": "light"
          }
        }
      ]
    },
    {
      "cell_type": "code",
      "metadata": {
        "colab": {
          "base_uri": "https://localhost:8080/",
          "height": 0
        },
        "id": "liNAchtcfvg7",
        "outputId": "275e669c-859f-425c-deae-e33223759029"
      },
      "source": [
        "print(\"Untarget attack\")\n",
        "for i, eps in enumerate(epsilons):\n",
        "  print(\"epsilon is:{}, success attack rate is: {}\".format(eps, success_untarget_attack_rate[i]))"
      ],
      "execution_count": 17,
      "outputs": [
        {
          "output_type": "stream",
          "name": "stdout",
          "text": [
            "Untarget attack\n",
            "epsilon is:0.00392156862745098, success attack rate is: 0.0068437180796731\n",
            "epsilon is:0.0196078431372549, success attack rate is: 0.04933605720122569\n",
            "epsilon is:0.0392156862745098, success attack rate is: 0.18702757916241064\n",
            "epsilon is:0.0784313725490196, success attack rate is: 0.6812053115423902\n",
            "epsilon is:0.11764705882352941, success attack rate is: 0.8706843718079673\n",
            "epsilon is:0.1568627450980392, success attack rate is: 0.932073544433095\n",
            "epsilon is:0.19607843137254902, success attack rate is: 0.9654749744637385\n"
          ]
        }
      ]
    },
    {
      "cell_type": "markdown",
      "metadata": {
        "id": "2m3gWgXqmi2L"
      },
      "source": [
        "## FGSM based targeted attacks\n",
        "\n",
        "Intentionally misleading the network to output a specific label designed by the attacker. The formula is shown below\n",
        "$$\n",
        "x'\\leftarrow clip(x-\\epsilon sign(\\triangledown \\mathcal{l}_{F,y'}(x)))\n",
        "$$\n",
        "\n",
        "Here, $\\epsilon$ is a small constraint scalar, $\\mathcal{l}$ is the loss function"
      ]
    },
    {
      "cell_type": "code",
      "metadata": {
        "id": "trW_UnCkb_6l"
      },
      "source": [
        "def generate_perturb_target_img(model, X, Y, epsilon):\n",
        "  y_test_modify = []\n",
        "  for i in Y:\n",
        "    y_test_modify.append((i+1)%10)\n",
        "  x_perturb = []   \n",
        "  x_tensor = tf.convert_to_tensor(X, dtype=tf.float32)\n",
        "  with tf.GradientTape() as tape:\n",
        "    tape.watch(x_tensor)\n",
        "    pred = model(x_tensor)\n",
        "    loss = loss_fn(y_test_modify, pred)\n",
        "  grad = tape.gradient(loss, x_tensor)\n",
        "  grad_sign = tf.sign(grad)\n",
        "  x_perturb.append(tf.clip_by_value((x_tensor - epsilon * grad_sign), clip_value_min = 0, clip_value_max = 1))\n",
        "  return x_perturb"
      ],
      "execution_count": 18,
      "outputs": []
    },
    {
      "cell_type": "code",
      "metadata": {
        "id": "EXKqJekGJTG9"
      },
      "source": [
        "def generate_perturb_target_correct_img(model, X, Y, epislon):\n",
        "  y_test_modify = []\n",
        "  for i in Y:\n",
        "    y_test_modify.append((i+1)%10)\n",
        "    \n",
        "  x_perturb = []\n",
        "  for i, img in enumerate(X):\n",
        "    # img = tf.convert_to_tensor(img, dtype=tf.float32)\n",
        "         \n",
        "    x_tensor = tf.convert_to_tensor(img, dtype=tf.float32)\n",
        "    with tf.GradientTape() as tape:\n",
        "      tape.watch(x_tensor)\n",
        "      pred = model(x_tensor)\n",
        "      loss = loss_fn(y_test_modify[i], pred)\n",
        "    grad = tape.gradient(loss, x_tensor)\n",
        "    grad_sign = tf.sign(grad)\n",
        "    x_perturb.append(tf.clip_by_value((x_tensor - epislon * grad_sign), clip_value_min = 0, clip_value_max = 1))\n",
        "  return x_perturb"
      ],
      "execution_count": 19,
      "outputs": []
    },
    {
      "cell_type": "code",
      "metadata": {
        "id": "FpbLCOnYOLd9"
      },
      "source": [
        "def cal_Perturb_correct_classify_tar_acc(model, perturbImg, Y):\n",
        "  count = 0\n",
        "  pred_label = []\n",
        "  for i, img in enumerate(perturbImg):\n",
        "    # img = img[newaxis, ...]\n",
        "    pred = model(img)\n",
        "    pred = tf.nn.softmax(pred)\n",
        "    pred = tf.math.argmax(pred, axis=1).numpy()\n",
        "    pred_label.append(pred)\n",
        "    \n",
        "    if pred[0] == (Y[i]+1).numpy():\n",
        "      \n",
        "      pred_label.append(pred)\n",
        "      count+=1\n",
        "  return count/len(Y), pred_label"
      ],
      "execution_count": 20,
      "outputs": []
    },
    {
      "cell_type": "code",
      "metadata": {
        "colab": {
          "base_uri": "https://localhost:8080/",
          "height": 0
        },
        "id": "besuVUKUnb3T",
        "outputId": "62592f7c-0836-435c-8372-cb3d8486a4e8"
      },
      "source": [
        "\n",
        "acc_target = []\n",
        "success_target_attack_rate = []\n",
        "\n",
        "\n",
        "epsilons = [1/255, 5/255, 10/255, 20/255, 30/255, 40/255, 50/255]\n",
        "numOfCorrectClassifiedTar, correct_classified_tar_img, correct_classified_tar_img_label = correct_classified(DNN, x_test, y_test)\n",
        "for eps in epsilons:\n",
        "  x_perturb_tar = generate_perturb_target_img(DNN, x_test, y_test, eps)\n",
        "  acc_tar, y_pred_tar = cal_Perturb_classify_acc(DNN, x_perturb_tar, y_test)\n",
        "  acc_target.append(acc_tar[1])\n",
        "  \n",
        "  x_perturb_correct_tar_classified = generate_perturb_target_correct_img(DNN, correct_classified_tar_img, correct_classified_tar_img_label, eps)\n",
        "\n",
        "  acc_perturb_tar_classified, y_correct_tar_pred = cal_Perturb_correct_classify_tar_acc(DNN, x_perturb_correct_tar_classified, correct_classified_tar_img_label)\n",
        "  success_target_attack_rate.append(acc_perturb_tar_classified)"
      ],
      "execution_count": 22,
      "outputs": [
        {
          "output_type": "stream",
          "name": "stdout",
          "text": [
            "313/313 - 1s - loss: 0.0727 - accuracy: 0.9779 - 699ms/epoch - 2ms/step\n",
            "313/313 - 1s - loss: 0.1054 - accuracy: 0.9629 - 643ms/epoch - 2ms/step\n",
            "313/313 - 1s - loss: 0.2674 - accuracy: 0.9061 - 742ms/epoch - 2ms/step\n",
            "313/313 - 1s - loss: 1.5922 - accuracy: 0.5661 - 704ms/epoch - 2ms/step\n",
            "313/313 - 1s - loss: 4.3363 - accuracy: 0.2526 - 702ms/epoch - 2ms/step\n",
            "313/313 - 1s - loss: 7.4903 - accuracy: 0.1023 - 705ms/epoch - 2ms/step\n",
            "313/313 - 1s - loss: 10.5930 - accuracy: 0.0413 - 666ms/epoch - 2ms/step\n"
          ]
        }
      ]
    },
    {
      "cell_type": "code",
      "metadata": {
        "colab": {
          "base_uri": "https://localhost:8080/",
          "height": 312
        },
        "id": "vq38iASULjIu",
        "outputId": "84681ca1-f168-4256-ff9c-2f0e431b89a5"
      },
      "source": [
        "plt.plot(epsilons,acc_target,marker='x')\n",
        "plt.plot(epsilons,success_target_attack_rate,marker='*')\n",
        "plt.xlabel('epsilon')\n",
        "plt.ylabel('rate')\n",
        "plt.legend(['DNN accuracy','success target attack rate'])\n",
        "plt.title(\"target attack\")"
      ],
      "execution_count": 23,
      "outputs": [
        {
          "output_type": "execute_result",
          "data": {
            "text/plain": [
              "Text(0.5, 1.0, 'target attack')"
            ]
          },
          "metadata": {},
          "execution_count": 23
        },
        {
          "output_type": "display_data",
          "data": {
            "image/png": "[encoded data removed]",
            "text/plain": [
              "<Figure size 432x288 with 1 Axes>"
            ]
          },
          "metadata": {
            "needs_background": "light"
          }
        }
      ]
    },
    {
      "cell_type": "code",
      "metadata": {
        "colab": {
          "base_uri": "https://localhost:8080/",
          "height": 0
        },
        "id": "TjaBEtGWi9Bv",
        "outputId": "b2d73ed8-64a0-494e-d9cd-e0008f3bf003"
      },
      "source": [
        "print(\"target attack\")\n",
        "for i, eps in enumerate(epsilons):\n",
        "  print(\"epsilon is:{}, success attack rate is: {}\".format(eps, success_target_attack_rate[i]))"
      ],
      "execution_count": 24,
      "outputs": [
        {
          "output_type": "stream",
          "name": "stdout",
          "text": [
            "target attack\n",
            "epsilon is:0.00392156862745098, success attack rate is: 0.00040858018386108274\n",
            "epsilon is:0.0196078431372549, success attack rate is: 0.008069458631256384\n",
            "epsilon is:0.0392156862745098, success attack rate is: 0.03207354443309499\n",
            "epsilon is:0.0784313725490196, success attack rate is: 0.21920326864147088\n",
            "epsilon is:0.11764705882352941, success attack rate is: 0.4218590398365679\n",
            "epsilon is:0.1568627450980392, success attack rate is: 0.5540347293156281\n",
            "epsilon is:0.19607843137254902, success attack rate is: 0.6406537282941778\n"
          ]
        }
      ]
    },
    {
      "cell_type": "markdown",
      "metadata": {
        "id": "Y1HR9zMEdcvD"
      },
      "source": [
        "## Adversarial Retraining against Untargeted FGSM Attacks\n",
        "\n",
        "For this step, you can assume $\\epsilon$ = 10/255 throughout. To defend against adversarial perturbations, the defender adversarially perturbs each image in her training set using the attacker’s strategy in Step 1. She then appends the adversarially perturbed images to her training set, but using their correct labels. Then, the defender retrains the baseline DNN with a new training dataset containing both images from the original training dataset and the new adversarially perturbed images. We call the new DNN the adversarially retrained DNN."
      ]
    },
    {
      "cell_type": "code",
      "metadata": {
        "id": "oYJ_jy30dlyY"
      },
      "source": [
        "epsilon = 10/255\n",
        "# x_retraining = x_train\n",
        "x_perturb_retrain = generate_perturb_untarget_img(DNN, x_train, y_train, epsilon)\n",
        "y_retrain = np.hstack((y_train, y_train))\n",
        "x_retrain = []\n",
        "for re in x_perturb_retrain:\n",
        "  x_retrain = np.vstack((x_train, re))\n"
      ],
      "execution_count": 25,
      "outputs": []
    },
    {
      "cell_type": "code",
      "metadata": {
        "colab": {
          "base_uri": "https://localhost:8080/",
          "height": 0
        },
        "id": "3_qSUo_IgJW1",
        "outputId": "f5a45366-c1b7-49e2-9869-bdcd47d60118"
      },
      "source": [
        "print(len(x_retrain))"
      ],
      "execution_count": 26,
      "outputs": [
        {
          "output_type": "stream",
          "name": "stdout",
          "text": [
            "120000\n"
          ]
        }
      ]
    },
    {
      "cell_type": "code",
      "metadata": {
        "id": "YvDJYq4EenWs"
      },
      "source": [
        "DNN_retrain = tf.keras.models.Sequential([\n",
        "  tf.keras.layers.Flatten(input_shape=(28, 28)),\n",
        "  tf.keras.layers.Dense(300, activation='relu'),\n",
        "  tf.keras.layers.Dense(10)                                 \n",
        "])"
      ],
      "execution_count": 27,
      "outputs": []
    },
    {
      "cell_type": "code",
      "metadata": {
        "id": "j-vzqVcCfxYM"
      },
      "source": [
        "DNN_retrain.compile(optimizer='adam', loss=loss_fn,metrics=['accuracy'])"
      ],
      "execution_count": 28,
      "outputs": []
    },
    {
      "cell_type": "code",
      "metadata": {
        "colab": {
          "base_uri": "https://localhost:8080/",
          "height": 0
        },
        "id": "Yupv9mCxf4Ds",
        "outputId": "1fc5ec84-d084-40fc-8bf8-4672dcbeaee6"
      },
      "source": [
        "DNN_retrain.fit(x_retrain, y_retrain, epochs=5)"
      ],
      "execution_count": 29,
      "outputs": [
        {
          "output_type": "stream",
          "name": "stdout",
          "text": [
            "Epoch 1/5\n",
            "3750/3750 [==============================] - 15s 4ms/step - loss: 0.1340 - accuracy: 0.9612\n",
            "Epoch 2/5\n",
            "3750/3750 [==============================] - 14s 4ms/step - loss: 0.0451 - accuracy: 0.9860\n",
            "Epoch 3/5\n",
            "3750/3750 [==============================] - 15s 4ms/step - loss: 0.0278 - accuracy: 0.9908\n",
            "Epoch 4/5\n",
            "3750/3750 [==============================] - 15s 4ms/step - loss: 0.0216 - accuracy: 0.9929\n",
            "Epoch 5/5\n",
            "3750/3750 [==============================] - 15s 4ms/step - loss: 0.0156 - accuracy: 0.9948\n"
          ]
        },
        {
          "output_type": "execute_result",
          "data": {
            "text/plain": [
              "<keras.callbacks.History at 0x7f07f8516b50>"
            ]
          },
          "metadata": {},
          "execution_count": 29
        }
      ]
    },
    {
      "cell_type": "code",
      "metadata": {
        "colab": {
          "base_uri": "https://localhost:8080/",
          "height": 0
        },
        "id": "UAXD1gGbf-wM",
        "outputId": "d785d1d1-1afa-418e-94e5-114a09af9aeb"
      },
      "source": [
        "res_retrain = DNN_retrain.evaluate(x_test,  y_test, verbose=2)"
      ],
      "execution_count": 30,
      "outputs": [
        {
          "output_type": "stream",
          "name": "stdout",
          "text": [
            "313/313 - 1s - loss: 0.0724 - accuracy: 0.9811 - 651ms/epoch - 2ms/step\n"
          ]
        }
      ]
    },
    {
      "cell_type": "markdown",
      "metadata": {
        "id": "gyqn1YhNlQEu"
      },
      "source": [
        "Get perturb image from DNN_retrain"
      ]
    },
    {
      "cell_type": "code",
      "metadata": {
        "colab": {
          "base_uri": "https://localhost:8080/",
          "height": 0
        },
        "id": "zfzWm9QDgvnk",
        "outputId": "9243d615-5381-468a-a7ea-2963377b3f9a"
      },
      "source": [
        "numOfCorrectClassified, correct_classified_img, correct_classified_img_label = correct_classified(DNN, x_test, y_test)\n",
        "x_perturb = generate_perturb_untarget_img(DNN_retrain, x_test, y_test, epsilon)\n",
        "acc_retrain, y_pred_retrain = cal_Perturb_classify_acc(DNN_retrain, x_perturb, y_test)\n",
        "\n",
        "\n",
        "x_perturb_correct_classified = generate_perturb_untarget_correct_img(DNN_retrain, correct_classified_img, correct_classified_img_label, epsilon)\n",
        "acc_perturb_classified, y_correct_pred = cal_Perturb_correct_classify_acc(DNN_retrain, x_perturb_correct_classified, correct_classified_img_label)\n"
      ],
      "execution_count": 31,
      "outputs": [
        {
          "output_type": "stream",
          "name": "stdout",
          "text": [
            "313/313 - 1s - loss: 7.7030 - accuracy: 0.2213 - 775ms/epoch - 2ms/step\n"
          ]
        }
      ]
    },
    {
      "cell_type": "code",
      "metadata": {
        "colab": {
          "base_uri": "https://localhost:8080/",
          "height": 0
        },
        "id": "gEj5Y3-2hNxf",
        "outputId": "ade49845-04b1-4b54-c76e-77d70cbc8a91"
      },
      "source": [
        "print(\"The success attack rate is {}\".format(1-acc_perturb_classified))"
      ],
      "execution_count": 32,
      "outputs": [
        {
          "output_type": "stream",
          "name": "stdout",
          "text": [
            "The success attack rate is 0.773953013278856\n"
          ]
        }
      ]
    },
    {
      "cell_type": "markdown",
      "metadata": {
        "id": "33-_Y7mClV92"
      },
      "source": [
        "Get perturb images from baseline DNN"
      ]
    },
    {
      "cell_type": "code",
      "metadata": {
        "colab": {
          "base_uri": "https://localhost:8080/",
          "height": 0
        },
        "id": "VieRyJVRkbHx",
        "outputId": "225bd7f5-1bde-4147-b165-58d7c2e1425b"
      },
      "source": [
        "x_perturb_DNN = generate_perturb_untarget_img(DNN, x_test, y_test, epsilon)\n",
        "acc_retrain1, y_pred_retrain1 = cal_Perturb_classify_acc(DNN_retrain, x_perturb_DNN, y_test)\n",
        "\n",
        "\n",
        "x_perturb_correct_classified_DNN = generate_perturb_untarget_correct_img(DNN, correct_classified_img, correct_classified_img_label, epsilon)\n",
        "acc_perturb_classified1, y_correct_pred1 = cal_Perturb_correct_classify_acc(DNN_retrain, x_perturb_correct_classified_DNN, correct_classified_img_label)"
      ],
      "execution_count": 33,
      "outputs": [
        {
          "output_type": "stream",
          "name": "stdout",
          "text": [
            "313/313 - 1s - loss: 0.0145 - accuracy: 0.9957 - 734ms/epoch - 2ms/step\n"
          ]
        }
      ]
    },
    {
      "cell_type": "code",
      "metadata": {
        "colab": {
          "base_uri": "https://localhost:8080/",
          "height": 0
        },
        "id": "G-443L1Hk9eq",
        "outputId": "ff4d28eb-189e-41a6-bbb3-1501925bcb2c"
      },
      "source": [
        "print(\"The success attack rate is {}\".format(1-acc_perturb_classified1))"
      ],
      "execution_count": 34,
      "outputs": [
        {
          "output_type": "stream",
          "name": "stdout",
          "text": [
            "The success attack rate is 0.0005107252298263143\n"
          ]
        }
      ]
    },
    {
      "cell_type": "markdown",
      "metadata": {
        "id": "pbxS0aUZ1SrR"
      },
      "source": [
        "We can see that the success atcck rate is high if we use the images that are generated from DNN_retrain. SO, it is not roboust. However, if the images are generated from the baseline DNN, than DNN_retrain works well."
      ]
    },
    {
      "cell_type": "markdown",
      "metadata": {
        "id": "t_P1i3KrqHWq"
      },
      "source": [
        "## Challenge\n",
        "\n",
        "I will implement IFGS here, iterative fast gradient sign methods. It is actually a iterative version of FGS. IFGS will perturb each pixel with a small amount for multiple times. For non-targeted attacks, the formula will be\n",
        "$$\n",
        "x_0'=x,x_{N+1}'\\leftarrow clip_{\\epsilon}(x_N'+\\alpha sign(\\triangledown \\mathcal{l}_{F,y^*}(x)))\n",
        "$$\n",
        "\n",
        "IFGS methods are capable of generating adversarial inputs with smaller distortion when compared to basic FGS methods."
      ]
    },
    {
      "cell_type": "code",
      "metadata": {
        "colab": {
          "base_uri": "https://localhost:8080/",
          "height": 0
        },
        "id": "5NWjpY6Ymls6",
        "outputId": "02769645-b8b3-4405-f4cd-04dda0d5c82d"
      },
      "source": [
        "fashionMnist = tf.keras.datasets.fashion_mnist\n",
        "\n",
        "(x_train_fashion, y_train_fashion), (x_test_fashion, y_test_fashion) = fashionMnist.load_data()\n",
        "x_train_fashion, x_test_fashion = x_train_fashion / 255.0, x_test_fashion / 255.0"
      ],
      "execution_count": 35,
      "outputs": [
        {
          "output_type": "stream",
          "name": "stdout",
          "text": [
            "Downloading data from https://storage.googleapis.com/tensorflow/tf-keras-datasets/train-labels-idx1-ubyte.gz\n",
            "32768/29515 [=================================] - 0s 0us/step\n",
            "40960/29515 [=========================================] - 0s 0us/step\n",
            "Downloading data from https://storage.googleapis.com/tensorflow/tf-keras-datasets/train-images-idx3-ubyte.gz\n",
            "26427392/26421880 [==============================] - 0s 0us/step\n",
            "26435584/26421880 [==============================] - 0s 0us/step\n",
            "Downloading data from https://storage.googleapis.com/tensorflow/tf-keras-datasets/t10k-labels-idx1-ubyte.gz\n",
            "16384/5148 [===============================================================================================] - 0s 0us/step\n",
            "Downloading data from https://storage.googleapis.com/tensorflow/tf-keras-datasets/t10k-images-idx3-ubyte.gz\n",
            "4423680/4422102 [==============================] - 0s 0us/step\n",
            "4431872/4422102 [==============================] - 0s 0us/step\n"
          ]
        }
      ]
    },
    {
      "cell_type": "code",
      "metadata": {
        "colab": {
          "base_uri": "https://localhost:8080/",
          "height": 0
        },
        "id": "6N14_fUtqocx",
        "outputId": "0b54146d-18e8-4532-cbce-c1cb438ab672"
      },
      "source": [
        "print(x_train_fashion.shape)\n",
        "print(x_test_fashion.shape)"
      ],
      "execution_count": 36,
      "outputs": [
        {
          "output_type": "stream",
          "name": "stdout",
          "text": [
            "(60000, 28, 28)\n",
            "(10000, 28, 28)\n"
          ]
        }
      ]
    },
    {
      "cell_type": "code",
      "metadata": {
        "colab": {
          "base_uri": "https://localhost:8080/",
          "height": 482
        },
        "id": "imBG6__3qy0R",
        "outputId": "9426fb50-6d6e-47f8-9263-2311b2f6780f"
      },
      "source": [
        "figure = plt.figure(figsize=(10,8))\n",
        "cols, rows = 3,3\n",
        "for i in range(1, cols*rows+1):\n",
        "  index = np.random.randint(x_train_fashion.shape[0], size=1)\n",
        "  img, label = (x_train_fashion[index], y_train_fashion[index])\n",
        "  figure.add_subplot(rows, cols, i)\n",
        "  plt.title(\"true label: {}\".format(label))\n",
        "  plt.axis(\"off\")\n",
        "  plt.imshow(img.squeeze(), cmap=\"gray\")\n",
        "plt.show()"
      ],
      "execution_count": 37,
      "outputs": [
        {
          "output_type": "display_data",
          "data": {
            "image/png": "[encoded data removed]",
            "text/plain": [
              "<Figure size 720x576 with 9 Axes>"
            ]
          },
          "metadata": {
            "needs_background": "light"
          }
        }
      ]
    },
    {
      "cell_type": "code",
      "metadata": {
        "id": "JZPZQEyZq7xB"
      },
      "source": [
        "DNN_fashion = tf.keras.models.Sequential([\n",
        "  tf.keras.layers.Flatten(input_shape=(28, 28)),\n",
        "  tf.keras.layers.Dense(300, activation='relu'),\n",
        "  tf.keras.layers.Dense(10)                                 \n",
        "])"
      ],
      "execution_count": 38,
      "outputs": []
    },
    {
      "cell_type": "code",
      "metadata": {
        "colab": {
          "base_uri": "https://localhost:8080/",
          "height": 0
        },
        "id": "JwNxNrO6rDvR",
        "outputId": "b4cfbd32-2233-41f1-af30-949ba4217bb0"
      },
      "source": [
        "DNN_fashion.compile(optimizer='adam', loss=loss_fn,metrics=['accuracy'])\n",
        "DNN_fashion.fit(x_train_fashion, y_train_fashion, epochs=5)"
      ],
      "execution_count": 39,
      "outputs": [
        {
          "output_type": "stream",
          "name": "stdout",
          "text": [
            "Epoch 1/5\n",
            "1875/1875 [==============================] - 7s 4ms/step - loss: 0.4819 - accuracy: 0.8282\n",
            "Epoch 2/5\n",
            "1875/1875 [==============================] - 7s 4ms/step - loss: 0.3657 - accuracy: 0.8661\n",
            "Epoch 3/5\n",
            "1875/1875 [==============================] - 7s 4ms/step - loss: 0.3261 - accuracy: 0.8794\n",
            "Epoch 4/5\n",
            "1875/1875 [==============================] - 7s 4ms/step - loss: 0.3014 - accuracy: 0.8885\n",
            "Epoch 5/5\n",
            "1875/1875 [==============================] - 7s 4ms/step - loss: 0.2835 - accuracy: 0.8952\n"
          ]
        },
        {
          "output_type": "execute_result",
          "data": {
            "text/plain": [
              "<keras.callbacks.History at 0x7f080799b410>"
            ]
          },
          "metadata": {},
          "execution_count": 39
        }
      ]
    },
    {
      "cell_type": "code",
      "metadata": {
        "colab": {
          "base_uri": "https://localhost:8080/",
          "height": 0
        },
        "id": "zQd7nHBjrPOJ",
        "outputId": "be3e188f-7b8d-45e8-c0c8-cad0df5cd6e6"
      },
      "source": [
        "res = DNN_fashion.evaluate(x_test_fashion,  y_test_fashion, verbose=2)"
      ],
      "execution_count": 40,
      "outputs": [
        {
          "output_type": "stream",
          "name": "stdout",
          "text": [
            "313/313 - 1s - loss: 0.3515 - accuracy: 0.8709 - 658ms/epoch - 2ms/step\n"
          ]
        }
      ]
    },
    {
      "cell_type": "code",
      "metadata": {
        "id": "LPPQsZoWrV-0"
      },
      "source": [
        "def generate_perturb_untarget_im_iter(iteration, model, X, Y, epislon):\n",
        "  # X = tf.convert_to_tensor(X, dtype=tf.float32)\n",
        "  x_perturb = [] \n",
        "  x_tensor = tf.convert_to_tensor(X, dtype=tf.float32)\n",
        "  for i in range(iteration):\n",
        "    \n",
        "    with tf.GradientTape() as tape:\n",
        "      tape.watch(x_tensor)\n",
        "      pred = model(x_tensor)\n",
        "      loss = loss_fn(Y, pred)\n",
        "    grad = tape.gradient(loss, x_tensor)\n",
        "    grad_sign = tf.sign(grad)\n",
        "    x_tensor = tf.clip_by_value((x_tensor + epislon * grad_sign), clip_value_min = 0, clip_value_max = 1)\n",
        "  x_perturb.append(x_tensor)\n",
        "  return x_perturb"
      ],
      "execution_count": 42,
      "outputs": []
    },
    {
      "cell_type": "code",
      "metadata": {
        "id": "4Xcj_7UisHQ5"
      },
      "source": [
        "def calRMSE(adv_img, ori_img):\n",
        "  RMSE = []\n",
        "  for i, img in enumerate(adv_img):\n",
        "    rmse = np.sqrt(np.sum((img-ori_img[i])**2)/(28*28))\n",
        "    \n",
        "    RMSE.append(rmse)\n",
        "    \n",
        "  return np.sum(RMSE)/len(RMSE)"
      ],
      "execution_count": 43,
      "outputs": []
    },
    {
      "cell_type": "code",
      "metadata": {
        "id": "tgueaHZSs292"
      },
      "source": [
        "x_perturb_fashion = generate_perturb_untarget_im_iter(5, DNN_fashion, x_test_fashion, y_test_fashion, 1/255)"
      ],
      "execution_count": 44,
      "outputs": []
    },
    {
      "cell_type": "code",
      "metadata": {
        "id": "k_jUzgrJtHoh"
      },
      "source": [
        "RMSE = calRMSE(x_perturb_fashion[0], x_test_fashion)"
      ],
      "execution_count": 45,
      "outputs": []
    },
    {
      "cell_type": "code",
      "metadata": {
        "colab": {
          "base_uri": "https://localhost:8080/",
          "height": 0
        },
        "id": "yrODQEtQtdFL",
        "outputId": "f69225a0-9aea-4bc8-b413-7e555554708e"
      },
      "source": [
        "print(\"The RMSE of original images and perturb images is {}\".format(RMSE))"
      ],
      "execution_count": 47,
      "outputs": [
        {
          "output_type": "stream",
          "name": "stdout",
          "text": [
            "The RMSE of original images and perturb images is 0.016751163356010457\n"
          ]
        }
      ]
    },
    {
      "cell_type": "markdown",
      "metadata": {
        "id": "9VgteroBmTN6"
      },
      "source": [
        "The RMSE is less than 5/255 = 0.0196. So, we will do 5 iterations and when epsilon = 1/255."
      ]
    },
    {
      "cell_type": "code",
      "metadata": {
        "colab": {
          "base_uri": "https://localhost:8080/",
          "height": 301
        },
        "id": "cExlHH-qvl0q",
        "outputId": "ee9ec42f-f496-45f2-ce7b-965e58112ae7"
      },
      "source": [
        "figure = plt.figure(figsize=(10,8))\n",
        "index = np.random.randint(x_test_fashion.shape[0], size=1)\n",
        "img1, label1 = (x_test_fashion[index], y_test_fashion[index])\n",
        "figure.add_subplot(1, 2, 1)\n",
        "plt.title(\"ori_img\")\n",
        "plt.axis(\"off\")\n",
        "plt.imshow(img1.squeeze(), cmap=\"gray\")\n",
        "img2, label2 = (np.array(x_perturb_fashion[0][index[0]]), y_test_fashion[index])\n",
        "figure.add_subplot(1, 2, 2)\n",
        "plt.title(\"perturb img\")\n",
        "plt.axis(\"off\")\n",
        "plt.imshow(img2.squeeze(), cmap=\"gray\")\n",
        "plt.show()"
      ],
      "execution_count": 48,
      "outputs": [
        {
          "output_type": "display_data",
          "data": {
            "image/png": "[encoded data removed]",
            "text/plain": [
              "<Figure size 720x576 with 2 Axes>"
            ]
          },
          "metadata": {
            "needs_background": "light"
          }
        }
      ]
    },
    {
      "cell_type": "code",
      "metadata": {
        "id": "iKPL9mXyxtjI"
      },
      "source": [
        ""
      ],
      "execution_count": null,
      "outputs": []
    }
  ]
}