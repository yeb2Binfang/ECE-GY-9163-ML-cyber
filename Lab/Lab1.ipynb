{
  "nbformat": 4,
  "nbformat_minor": 0,
  "metadata": {
    "colab": {
      "name": "Lab1.ipynb",
      "provenance": [],
      "authorship_tag": "ABX9TyMfRONpPLIFVBSBAXpen54x",
      "include_colab_link": true
    },
    "kernelspec": {
      "name": "python3",
      "display_name": "Python 3"
    },
    "language_info": {
      "name": "python"
    }
  },
  "cells": [
    {
      "cell_type": "markdown",
      "metadata": {
        "id": "view-in-github",
        "colab_type": "text"
      },
      "source": [
        "<a href=\"https://colab.research.google.com/github/yeb2Binfang/ECE-GY-9163-ML-cyber/blob/main/Lab/Lab1.ipynb\" target=\"_parent\"><img src=\"https://colab.research.google.com/assets/colab-badge.svg\" alt=\"Open In Colab\"/></a>"
      ]
    },
    {
      "cell_type": "markdown",
      "metadata": {
        "id": "-V_0_tYWBYYu"
      },
      "source": [
        "# ECE-GY 9163 ML Cyber Lab1-Email spam filtering\n",
        "\n",
        "## Overview\n",
        "\n",
        "In this lab, you will design an e-mail spam filter using a Naive Bayes and SVM based classification on the ling-spam dataset. You will explore the impact of feature selection and compare the performance of different variants of an NB classifier and also implement your own SVM based classifier. (Note: You may use the scikitt learn classifiers to only compare the accuracy\n",
        "of their model to yours).\n",
        "\n",
        "## Dataset\n",
        "\n",
        "The ling-spam corpus contains e-mails from the Linguist mailing list categorized as either legitimate or spam emails. The corpus is divided into four sub-folders that contain the same emails that are pre-processed with/without lemmatization and with/without stop-word removal. The e-mails in each sub-folder partitioned into 10 \"folds.\"\n",
        "\n",
        "In this lab, we will use the first 9 folds from the ling-spam corpus as training data, and the $10^{th}$ fold as test data.\n",
        "\n",
        "## What you have to do\n",
        "\n",
        "You will implement your e-mail spam filters in Python. You are free to use any Python libraries that are relevant to the problem.\n",
        "\n",
        "* Download the ling-spam dataset from http://www.aueb.gr/users/on/data/lingspam_public.tar.gz\n",
        "\n",
        "Please use the \"lingspam_public01' corpus with both lemmatization and stop-word enabled (under the lemm_stop folder).\n",
        "\n",
        "* Your first goal is to perform feature selection using the information gain (IG) metric. From the training data, select the top-N features for N = {10, 100, 1000}. Note that feature selection based on the IG metric only accounts for the occurrence of (and not frequency with which terms appear) in the dataset.\n",
        "\n",
        "* Next, implement the following classifiers:\n",
        "  * Bernoulli NB classifier with binary features;\n",
        "  * Multinomial NB with binary features, and\n",
        "  * Multinomial NB with term frequency (TF) features.\n",
        "\n",
        "* For each of the three classifiers above and for N = {10, 100, 1000} report the spam precision and spam recall. Spam precision is defined as the fraction of true spam e-mails among all e-mails predicted as spam, and spam recall is defined as fraction of true spam e-mails predicted as spam. Also report the latency of each model.\n",
        "* Design a Support Vector Machine (SVM) based spam filter. This problem is open ended: for instance, you can choose to use either BF or TF and any feature selection method. Note that you should NOT use the test dataset in picking the hyper-parameters of your spam filter, instead use cross-validation on the training dataset.\n",
        "\n",
        "Finally, we covered \"Adversarial Classification\" (https://dl.acm.org/citation.cfm?id=1014066), an approach to update NB based e-mail spam filters in response to attacks that try to evade a basic NB filter. You are expected to implement the techniques presented in this paper. More specifically, you can make the following assumptions:\n",
        "* The baseline NB classifier uses the **top-10** terms identified using the IG metric and using Boolean features.\n",
        "* The adversary uses the **ADD-WORDS** strategy. Adding a term to an email incurs unit cost. The attacker seeks to find the minimum cost solution such that each spam email in the test set gets classified as legitimate by the baseline NB classifier.\n",
        "* Update the baseline NB classifier in response to the attacker's strategy above. You can assume that the defender\n",
        "pays a unit price for both false positives and false negatives.\n",
        "\n",
        "## What to submit\n",
        "\n",
        "* Your Python code in the form of a Google Colab notebook. Please also include a PDF of your colab notebook.\n",
        "* Your Colab notebook should print:\n",
        "* a list of the top-10 words identified from Part (1) above, and\n",
        "* a list of spam precision and spam recall values for each of the three classifiers for N = {10, 100, 1000}. That is, your list should have 9 rows, one for each classifier and N combination.\n",
        "* For the SVM based spam filter, please describe your methodology, i.e., what kind of features you used, how many features you used and how you selected them, the parameters of the SVM and finally the precision and recall on\n",
        "the test dataset.\n",
        "* For Your Neural network model, please report on the model design, input parameters, number of layers, number\n",
        "of neurons in each layer and finally the accuracy and latency of the model.\n",
        "* For the adversarial attack, report the False Negative rate of the baseline NB classifier before and after the attacker's modifications to test emails. Also, report the average \"cost of the attacker's modifications, averaged\n",
        "over all spam emails in the test set. Finally, report the False Negative and False Positive rate of the updated NBclassifier."
      ]
    },
    {
      "cell_type": "code",
      "metadata": {
        "id": "pJqfltNlBXgk"
      },
      "source": [
        ""
      ],
      "execution_count": null,
      "outputs": []
    }
  ]
}