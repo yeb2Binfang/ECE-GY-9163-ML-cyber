{
  "nbformat": 4,
  "nbformat_minor": 0,
  "metadata": {
    "colab": {
      "name": "MLSec_Lab2.ipynb",
      "provenance": [],
      "authorship_tag": "ABX9TyPsjwjpim57GAfQSJ/lX/Yq",
      "include_colab_link": true
    },
    "kernelspec": {
      "name": "python3",
      "display_name": "Python 3"
    },
    "language_info": {
      "name": "python"
    }
  },
  "cells": [
    {
      "cell_type": "markdown",
      "metadata": {
        "id": "view-in-github",
        "colab_type": "text"
      },
      "source": [
        "<a href=\"https://colab.research.google.com/github/yeb2Binfang/ECE-GY-9163-ML-cyber/blob/main/Lab/MLSec_Lab2.ipynb\" target=\"_parent\"><img src=\"https://colab.research.google.com/assets/colab-badge.svg\" alt=\"Open In Colab\"/></a>"
      ]
    },
    {
      "cell_type": "markdown",
      "metadata": {
        "id": "J2oS1Fr4NJeE"
      },
      "source": [
        "# Lab 2: Adversarial Attacks on Deep Neural Networks\n",
        "\n",
        "## Overview\n",
        "In this lab, you will investigate adversarial perturbation attacks on Deep Neural Networks using the MNIST digits dataset as a benchmark. You will then evaluate adversarial retraining as a defense against adversarial perturbations.\n",
        "\n",
        "## Dataset\n",
        "The fashion_MNIST dataset is a commonly used “toy” benchmarks for machine learning. It contains 28X28 grayscale images with a label from 10 classes, along with the associated labels. The dataset is available as part of the tensorflow package, which you will be using extensively in this lab.\n",
        "\n",
        "## What You Have to Do\n",
        "The sample Google Colab notebook\n",
        "https://colab.research.google.com/github/tensorflow/docs/blob/master/site/en/tutorials/quickstart/beginner.ipynb#scrollTo=h3IKyzTCDNGo\n",
        "that implements a 2-layer DNN for MNIST digit classification. The DNN has a 784 (28x28) dimensional input, a 10-dimensional output (prediction probabilities for each of the 10 classes) and one hidden layer with 300 hidden neurons and ReLU activations. You will implement your attacks and defenses on this baseline DNN.\n",
        "\n",
        "* **FGSM based untargeted attacks**: Your first goal is to implement FGSM based untargeted attacks using images from the test set on the baseline DNN. That is, your goal is to adversarially perturb each image in the test set using the following values of parameter $\\epsilon$ = {1, 5, 10, 20, 30, 40, 50}/255 assuming pixel values are normalized in the range [0,1]. Report the success rate of your attack, i.e., the fraction of test images that were\n",
        "correctly classified by the baseline DNN that are mis-classified after adversarial perturbation, as a function of $\\epsilon$.\n",
        "\n",
        "* **FGSM based targeted attacks**: Next, you will repeat Step 1 above, except this time perform targeted attacks where digit i is classified as (i+1)%10 on the baseline DNN. (Here, i refers to the true ground-truth label of the test images, and you can assume that the attacker has access to these labels.) As before, use the following values of the parameter $\\epsilon$ = {1, 5, 10, 20, 30, 40, 50}/255. Report the attack’s success rate as a function of parameter $\\epsilon$, where success rate is defined as the fraction of test images that were correctly classified by the baseline DNN that are mis-classified after adversarial perturbations with label (i+1)%10.\n",
        "\n",
        "* **Adversarial Retraining against Untargeted FGSM Attacks**: For this step, you can assume $\\epsilon$ = 10/255 throughout. To defend against adversarial perturbations, the defender adversarially perturbs each image in her training set using the attacker’s strategy in Step 1. She then appends the adversarially perturbed images to her training set, but using their correct labels. Then, the defender retrains the baseline DNN with a new training dataset containing both images from the original training dataset and the new adversarially perturbed images. We call the new DNN the adversarially retrained DNN.\n",
        "\n",
        "  *  Report the classification accuracy of the adversarially retrained DNN on the original test dataset that contains only clean inputs.\n",
        "  * Is the adversarially retrained DNN robust against adversarial perturbations?\n",
        "Implement FGSM based untargeted attacks using images from the clean test set on the adversarially retrained DNN. Report the success rate of your attack.\n",
        "\n",
        "* **Challenge**: Finally, you will all compete in an adversarial attack challenge. You are free to use any adversarial attack detection procedure to implement untargeted attacks on a 2-layer baseline DNN. You are welcome to implement IFGSM or PGD attacks for example. For this problem you will simply submit your adversarially perturbed test images from the Fashion_MNIST dataset. The constraint is that the Root Mean Square Error averaged over all the images in the the original and modified datasets should be less than 5/255. assuming images are normalized to lie between [0,1].\n",
        "\n",
        "## What to Submit\n",
        "* Colab Notebook and its pdf format.\n",
        "* Please submit 1 Colab Notebook and 1 PDF file without zipping.\n",
        "* For the Challenge, please submit a file containing your adversarially modified test images\n",
        "\n"
      ]
    },
    {
      "cell_type": "markdown",
      "metadata": {
        "id": "oj26NHKtS89o"
      },
      "source": [
        "https://nextjournal.com/gkoehler/pytorch-mnist\n",
        "\n",
        "https://pytorch.org/tutorials/beginner/fgsm_tutorial.html\n",
        "\n",
        "https://towardsdatascience.com/know-your-enemy-the-fascinating-implications-of-adversarial-examples-5936bccb24af\n",
        "\n",
        "https://towardsdatascience.com/know-your-enemy-7f7c5038bdf3\n",
        "\n",
        "https://www.pyimagesearch.com/2020/10/19/adversarial-images-and-attacks-with-keras-and-tensorflow/\n",
        "\n",
        "https://www.pyimagesearch.com/2020/10/26/targeted-adversarial-attacks-with-keras-and-tensorflow/\n",
        "\n",
        "https://www.pyimagesearch.com/2020/10/19/adversarial-images-and-attacks-with-keras-and-tensorflow/\n",
        "\n",
        "https://www.pyimagesearch.com/2021/03/01/adversarial-attacks-with-fgsm-fast-gradient-sign-method/"
      ]
    },
    {
      "cell_type": "markdown",
      "metadata": {
        "id": "qLzFhn6JTxco"
      },
      "source": [
        "## Import packages and Get Data"
      ]
    },
    {
      "cell_type": "code",
      "metadata": {
        "id": "g8oT8bCITz7h"
      },
      "source": [
        "import numpy as np\n",
        "import torch\n",
        "import torch.nn as nn\n",
        "import torch.nn.functional as F\n",
        "import matplotlib.pyplot as plt\n",
        "import seaborn as sns\n",
        "from torchvision import datasets, transforms\n",
        "from torchvision.transforms import ToTensor\n",
        "from torch.utils.data import DataLoader\n",
        "from torch import nn, optim\n",
        "from torch.autograd import Variable\n",
        "from sklearn.metrics import confusion_matrix\n"
      ],
      "execution_count": 1,
      "outputs": []
    },
    {
      "cell_type": "code",
      "metadata": {
        "id": "lO5s6YWmwHq0"
      },
      "source": [
        "transform = transforms.Compose([transforms.ToTensor(),\n",
        "                              ## transform range to [0,1],default is [0,1]\n",
        "                              #transforms.Normalize((0.5,), (0.5,)),\n",
        "                              ])"
      ],
      "execution_count": 2,
      "outputs": []
    },
    {
      "cell_type": "code",
      "metadata": {
        "id": "gMrEvka-U5Mq"
      },
      "source": [
        "train_data = datasets.MNIST(\n",
        "    root = 'data',\n",
        "    train = True,                         \n",
        "    transform = transform, \n",
        "    download = True,            \n",
        ")\n",
        "test_data = datasets.MNIST(\n",
        "    root = 'data', \n",
        "    train = False, \n",
        "    transform = transform,\n",
        "    download = True,  \n",
        ")"
      ],
      "execution_count": 3,
      "outputs": []
    },
    {
      "cell_type": "code",
      "metadata": {
        "colab": {
          "base_uri": "https://localhost:8080/"
        },
        "id": "9EOjqQSUVSr1",
        "outputId": "39850501-0526-47a8-c22f-4d86cb999ed6"
      },
      "source": [
        "print(\"The train data size is: \", train_data.data.size())\n",
        "print(\"The test data size is: \", test_data.data.size())"
      ],
      "execution_count": 4,
      "outputs": [
        {
          "output_type": "stream",
          "name": "stdout",
          "text": [
            "The train data size is:  torch.Size([60000, 28, 28])\n",
            "The test data size is:  torch.Size([10000, 28, 28])\n"
          ]
        }
      ]
    },
    {
      "cell_type": "markdown",
      "metadata": {
        "id": "NpIoWW7wPWrJ"
      },
      "source": [
        "We will visualize the data"
      ]
    },
    {
      "cell_type": "code",
      "metadata": {
        "colab": {
          "base_uri": "https://localhost:8080/",
          "height": 482
        },
        "id": "bxwV1l3BPWAw",
        "outputId": "055cc052-ed49-4817-feb0-7f28bf203f80"
      },
      "source": [
        "figure = plt.figure(figsize=(10,8))\n",
        "cols, rows = 3,3\n",
        "for i in range(1, cols*rows+1):\n",
        "  index = torch.randint(len(train_data),size=(1,)).item()\n",
        "  img, label = train_data[index]\n",
        "  figure.add_subplot(rows, cols, i)\n",
        "  plt.title(\"true label: {}\".format(label))\n",
        "  plt.axis(\"off\")\n",
        "  plt.imshow(img.squeeze(), cmap=\"gray\")\n",
        "plt.show()"
      ],
      "execution_count": 5,
      "outputs": [
        {
          "output_type": "display_data",
          "data": {
            "image/png": "[encoded data removed]",
            "text/plain": [
              "<Figure size 720x576 with 9 Axes>"
            ]
          },
          "metadata": {
            "needs_background": "light"
          }
        }
      ]
    },
    {
      "cell_type": "markdown",
      "metadata": {
        "id": "tgqsdWQcRIJq"
      },
      "source": [
        "We need to prepare the dataloader for training"
      ]
    },
    {
      "cell_type": "code",
      "metadata": {
        "colab": {
          "base_uri": "https://localhost:8080/"
        },
        "id": "fqGjc0p8RLdL",
        "outputId": "0a5f1477-cc04-43ac-916f-bd48632b042b"
      },
      "source": [
        "loaders = {\n",
        "    'train':DataLoader(train_data,\n",
        "                       batch_size = 64,\n",
        "                       shuffle = True,\n",
        "                       ),\n",
        "    'test':DataLoader(test_data,\n",
        "                      batch_size = 64,\n",
        "                      shuffle = True,\n",
        "                      ),\n",
        "}\n",
        "loaders"
      ],
      "execution_count": 57,
      "outputs": [
        {
          "output_type": "execute_result",
          "data": {
            "text/plain": [
              "{'test': <torch.utils.data.dataloader.DataLoader at 0x7f6a77413fd0>,\n",
              " 'train': <torch.utils.data.dataloader.DataLoader at 0x7f6a77413e90>}"
            ]
          },
          "metadata": {},
          "execution_count": 57
        }
      ]
    },
    {
      "cell_type": "code",
      "metadata": {
        "colab": {
          "base_uri": "https://localhost:8080/",
          "height": 332
        },
        "id": "ToPfc4yFWWGg",
        "outputId": "2ed2325b-9bcc-4a4e-9177-2863e943f464"
      },
      "source": [
        "dataiter = iter(loaders['train'])\n",
        "images, labels = dataiter.next()\n",
        "\n",
        "print(images.shape)\n",
        "print(images.dtype)\n",
        "print(labels.shape)\n",
        "plt.imshow(images[0].squeeze(), cmap=\"gray\")"
      ],
      "execution_count": 9,
      "outputs": [
        {
          "output_type": "stream",
          "name": "stdout",
          "text": [
            "torch.Size([64, 1, 28, 28])\n",
            "torch.float32\n",
            "torch.Size([64])\n"
          ]
        },
        {
          "output_type": "execute_result",
          "data": {
            "text/plain": [
              "<matplotlib.image.AxesImage at 0x7f6a77e174d0>"
            ]
          },
          "metadata": {},
          "execution_count": 9
        },
        {
          "output_type": "display_data",
          "data": {
            "image/png": "[encoded data removed]",
            "text/plain": [
              "<Figure size 432x288 with 1 Axes>"
            ]
          },
          "metadata": {
            "needs_background": "light"
          }
        }
      ]
    },
    {
      "cell_type": "markdown",
      "metadata": {
        "id": "XJpidKHuSRvw"
      },
      "source": [
        "## Baseline DNN model\n",
        "The DNN has a 784 (28x28) dimensional input, a 10-dimensional output (prediction probabilities for each of the 10 classes) and one hidden layer with 300 hidden neurons and ReLU activations."
      ]
    },
    {
      "cell_type": "code",
      "metadata": {
        "id": "mY-oblAhzRv4",
        "colab": {
          "base_uri": "https://localhost:8080/"
        },
        "outputId": "c1f9b0d4-64df-4aac-8cfc-8d421ffe69df"
      },
      "source": [
        "class DNN(nn.Module):\n",
        "  def __init__(self):\n",
        "    super(DNN, self).__init__()\n",
        "    self.DNNBlock = nn.Sequential(\n",
        "        # DNN has 28*28 dimensional input and one hidden layer with 300 neurons\n",
        "        nn.Linear(28*28, 300),\n",
        "        nn.ReLU(),\n",
        "        nn.Linear(300, 10),\n",
        "        nn.LogSoftmax(dim=1)\n",
        "    )\n",
        "  def forward(self, x):\n",
        "    # flatten the input to 784\n",
        "    x = x.view(x.shape[0],-1)\n",
        "    x = self.DNNBlock(x)\n",
        "    return x\n",
        "DNN = DNN()\n",
        "# ## we will print out the structure to see if it is correct\n",
        "print(DNN)"
      ],
      "execution_count": 10,
      "outputs": [
        {
          "output_type": "stream",
          "name": "stdout",
          "text": [
            "DNN(\n",
            "  (DNNBlock): Sequential(\n",
            "    (0): Linear(in_features=784, out_features=300, bias=True)\n",
            "    (1): ReLU()\n",
            "    (2): Linear(in_features=300, out_features=10, bias=True)\n",
            "    (3): LogSoftmax(dim=1)\n",
            "  )\n",
            ")\n"
          ]
        }
      ]
    },
    {
      "cell_type": "code",
      "metadata": {
        "id": "UUjxpxpcU7pV"
      },
      "source": [
        "loss_func = nn.NLLLoss()"
      ],
      "execution_count": 11,
      "outputs": []
    },
    {
      "cell_type": "markdown",
      "metadata": {
        "id": "kkf6U8lAUMzY"
      },
      "source": [
        "We will start to train the DNN model"
      ]
    },
    {
      "cell_type": "code",
      "metadata": {
        "colab": {
          "base_uri": "https://localhost:8080/"
        },
        "id": "wZT0Zbn7ULlS",
        "outputId": "2ab4f8b0-05ec-4aec-be56-2b6ddeed1539"
      },
      "source": [
        "optimizer = optim.Adam(DNN.parameters(), lr = 0.01) \n",
        "optimizer"
      ],
      "execution_count": 12,
      "outputs": [
        {
          "output_type": "execute_result",
          "data": {
            "text/plain": [
              "Adam (\n",
              "Parameter Group 0\n",
              "    amsgrad: False\n",
              "    betas: (0.9, 0.999)\n",
              "    eps: 1e-08\n",
              "    lr: 0.01\n",
              "    weight_decay: 0\n",
              ")"
            ]
          },
          "metadata": {},
          "execution_count": 12
        }
      ]
    },
    {
      "cell_type": "code",
      "metadata": {
        "colab": {
          "base_uri": "https://localhost:8080/"
        },
        "id": "ju7RXcnnVZct",
        "outputId": "47e00d43-d176-4177-826b-665dbf299b74"
      },
      "source": [
        "num_epochs = 10\n",
        "def train_DNN(num_epochs, model, loaders, trainOrTest):\n",
        "  model.train()\n",
        "  loss_record = []\n",
        "  total_step = len(loaders['train'])\n",
        "  for epoch in range(num_epochs):\n",
        "    sum_loss = []\n",
        "    for i, (imgs, labels) in enumerate(loaders[trainOrTest]):\n",
        "      optimizer.zero_grad()\n",
        "      x = Variable(imgs) # batch size is 64\n",
        "      y = Variable(labels) # batch size is 64\n",
        "      pred = model(x)\n",
        "      loss = loss_func(pred, y)    \n",
        "      loss.backward()\n",
        "      optimizer.step()\n",
        "      sum_loss.append(loss.item())\n",
        "    final_loss = np.sum(sum_loss)/len(sum_loss)\n",
        "    loss_record.append(final_loss)\n",
        "    print('epoch:[{}/{}], loss:{:.4f}'.format(epoch+1, num_epochs,final_loss))\n",
        "  return loss_record\n",
        "\n",
        "loss = train_DNN(num_epochs, DNN, loaders, 'train')\n"
      ],
      "execution_count": 13,
      "outputs": [
        {
          "output_type": "stream",
          "name": "stdout",
          "text": [
            "epoch:[1/10], loss:0.2365\n",
            "epoch:[2/10], loss:0.1437\n",
            "epoch:[3/10], loss:0.1240\n",
            "epoch:[4/10], loss:0.1123\n",
            "epoch:[5/10], loss:0.1008\n",
            "epoch:[6/10], loss:0.0910\n",
            "epoch:[7/10], loss:0.0801\n",
            "epoch:[8/10], loss:0.0864\n",
            "epoch:[9/10], loss:0.0784\n",
            "epoch:[10/10], loss:0.0759\n"
          ]
        }
      ]
    },
    {
      "cell_type": "code",
      "metadata": {
        "colab": {
          "base_uri": "https://localhost:8080/",
          "height": 279
        },
        "id": "17D5l88sOuU2",
        "outputId": "5e15b34b-ad53-4fd7-ccaa-d4d34eac7985"
      },
      "source": [
        "plt.plot(range(1,11),loss)\n",
        "plt.xlabel(\"iteration\")\n",
        "plt.ylabel(\"loss\")\n",
        "plt.show()"
      ],
      "execution_count": 14,
      "outputs": [
        {
          "output_type": "display_data",
          "data": {
            "image/png": "[encoded data removed]",
            "text/plain": [
              "<Figure size 432x288 with 1 Axes>"
            ]
          },
          "metadata": {
            "needs_background": "light"
          }
        }
      ]
    },
    {
      "cell_type": "code",
      "metadata": {
        "id": "Ku2G8E2Ydz4f"
      },
      "source": [
        "def DNN_acc(model, loaders, trainOrTest):\n",
        "  correct_count, all_count = 0, 0\n",
        "  y_pred = []\n",
        "  y_true = []\n",
        "  for img, label in loaders[trainOrTest]:\n",
        "    for i in range(len(label)):\n",
        "      prob = model(img[i])\n",
        "      ps = torch.exp(prob)\n",
        "      probab = list(ps.detach().numpy()[0])\n",
        "      pred_label = probab.index(max(probab))\n",
        "      true_label = label.numpy()[i]\n",
        "      y_pred.append(pred_label)\n",
        "      y_true.append(true_label)\n",
        "      \n",
        "      if(true_label==pred_label):\n",
        "        correct_count+=1\n",
        "      all_count+=1\n",
        "  return correct_count/all_count, y_pred, y_true"
      ],
      "execution_count": 94,
      "outputs": []
    },
    {
      "cell_type": "code",
      "metadata": {
        "id": "X7S4qJCWN4_e"
      },
      "source": [
        "acc, y_pred, y_test = DNN_acc(DNN, loaders, 'test')"
      ],
      "execution_count": null,
      "outputs": []
    },
    {
      "cell_type": "code",
      "metadata": {
        "colab": {
          "base_uri": "https://localhost:8080/"
        },
        "id": "c0KNBtTCOkt_",
        "outputId": "5fe70804-4789-4a7d-d54f-0c97666756cf"
      },
      "source": [
        "print(\"The accuracy of DNN model is: \",acc)"
      ],
      "execution_count": null,
      "outputs": [
        {
          "output_type": "stream",
          "name": "stdout",
          "text": [
            "The accuracy of DNN model is:  0.9681\n"
          ]
        }
      ]
    },
    {
      "cell_type": "code",
      "metadata": {
        "colab": {
          "base_uri": "https://localhost:8080/",
          "height": 337
        },
        "id": "XsJ1F1giPWPw",
        "outputId": "1dacb86a-edc4-4873-eb80-942243fd88de"
      },
      "source": [
        "cf_matrix = confusion_matrix(y_test, y_pred)\n",
        "ax = sns.heatmap(cf_matrix, annot=True, cmap='Blues', fmt='d')\n",
        "\n",
        "ax.set_title('Baseline DNN Confusion Matrix with labels\\n\\n');\n",
        "ax.set_xlabel('\\nPredicted Values')\n",
        "ax.set_ylabel('Actual Values ');\n",
        "plt.show()"
      ],
      "execution_count": null,
      "outputs": [
        {
          "output_type": "display_data",
          "data": {
            "image/png": "[encoded data removed]",
            "text/plain": [
              "<Figure size 432x288 with 2 Axes>"
            ]
          },
          "metadata": {
            "needs_background": "light"
          }
        }
      ]
    },
    {
      "cell_type": "markdown",
      "metadata": {
        "id": "0SLKYlUFSWZg"
      },
      "source": [
        "## FGSM based untargeted attacks"
      ]
    },
    {
      "cell_type": "code",
      "metadata": {
        "id": "XtDZWD4rTnL8"
      },
      "source": [
        "def generate_adv_img(model, loaders, epsilon, trainOrTest):\n",
        "  adv_img = []\n",
        "  img_label = []\n",
        "  for i, (img, label) in enumerate(loaders[trainOrTest]):\n",
        "    x = Variable(img, requires_grad=True) # batch size is 64\n",
        "    y = Variable(label) # batch size is 64\n",
        "\n",
        "    pred = model(x)\n",
        "    loss = loss_func(pred, y)  \n",
        "    loss.backward()\n",
        "    grad = x.grad.data\n",
        "    sign = torch.sign(grad)\n",
        "    new_img = torch.clamp((x+(sign*epsilon)),min=0,max=1)\n",
        "    adv_img.append(new_img)\n",
        "    img_label.append(y)\n",
        "  return adv_img, img_label"
      ],
      "execution_count": 16,
      "outputs": []
    },
    {
      "cell_type": "code",
      "metadata": {
        "id": "tcwkOsoUwOik"
      },
      "source": [
        "def DNN_acc_adv(model, adv_img, img_label):\n",
        "  correct_count, all_count = 0, 0\n",
        "  y_pred = []\n",
        "  y_true = []\n",
        "  for i,img in enumerate(adv_img):\n",
        "    for j in range(adv_img[i].shape[0]):\n",
        "      prob = DNN(img[j])\n",
        "      ps = torch.exp(prob)\n",
        "      probab = list(ps.detach().numpy()[0])\n",
        "      pred_label = probab.index(max(probab))\n",
        "      true_label = img_label[i].numpy()[j]\n",
        "      y_pred.append(pred_label)\n",
        "      y_true.append(true_label)\n",
        "      \n",
        "      if(true_label==pred_label):\n",
        "        correct_count+=1\n",
        "      all_count+=1\n",
        "  return correct_count/all_count, y_pred, y_true"
      ],
      "execution_count": 17,
      "outputs": []
    },
    {
      "cell_type": "code",
      "metadata": {
        "id": "qPaTRxh5YMEd"
      },
      "source": [
        "epsilon = [1/255, 5/255, 10/255, 20/255, 30/255, 40/255, 50/255]\n",
        "acc_adv_final = []\n",
        "y_pred_final = []\n",
        "success_attack_rate = []\n",
        "for eps in epsilon:\n",
        "  adv_img, img_label = generate_adv_img(DNN, loaders, eps, 'test')\n",
        "  acc_adv, y_pred_adv, y_test_adv = DNN_acc_adv(DNN, adv_img, img_label)\n",
        "  success_attack_rate.append(1-accuracy_score(y_pred_adv, y_test_adv))\n",
        "  acc_adv_final.append(acc_adv)\n",
        "  y_pred_final.append(y_pred_adv)"
      ],
      "execution_count": null,
      "outputs": []
    },
    {
      "cell_type": "code",
      "metadata": {
        "id": "eGeCpBG1qESX",
        "colab": {
          "base_uri": "https://localhost:8080/",
          "height": 300
        },
        "outputId": "4b42c0ba-629e-4732-8882-2b3f31d3ac57"
      },
      "source": [
        "plt.plot(epsilon,acc_adv_final,marker='x')\n",
        "plt.plot(epsilon,success_attack_rate,marker='*')\n",
        "plt.xlabel('epsilon')\n",
        "plt.ylabel('notation')\n",
        "plt.legend(['DNN accuracy','success attack rate'])"
      ],
      "execution_count": null,
      "outputs": [
        {
          "output_type": "execute_result",
          "data": {
            "text/plain": [
              "<matplotlib.legend.Legend at 0x7fbce078b750>"
            ]
          },
          "metadata": {},
          "execution_count": 118
        },
        {
          "output_type": "display_data",
          "data": {
            "image/png": "[encoded data removed]",
            "text/plain": [
              "<Figure size 432x288 with 1 Axes>"
            ]
          },
          "metadata": {
            "needs_background": "light"
          }
        }
      ]
    },
    {
      "cell_type": "markdown",
      "metadata": {
        "id": "3U7-MBmzrxUK"
      },
      "source": [
        "we can check the image too"
      ]
    },
    {
      "cell_type": "code",
      "metadata": {
        "id": "EFLrnzDorKG-"
      },
      "source": [
        ""
      ],
      "execution_count": null,
      "outputs": []
    },
    {
      "cell_type": "markdown",
      "metadata": {
        "id": "_HvB2nzrSbLP"
      },
      "source": [
        "## FGSM based targeted attacks"
      ]
    },
    {
      "cell_type": "code",
      "metadata": {
        "id": "0Wvs8GjBr0Ug"
      },
      "source": [
        "def generate_target_adv(model, loaders, epsilon, trainOrTest):\n",
        "  adv_tar_img = []\n",
        "  true_label =[]\n",
        "  modify_label = []\n",
        "  for i, (img, label) in enumerate(loaders[trainOrTest]):\n",
        "    x = Variable(img, requires_grad=True) # batch size is 64\n",
        "    y = Variable(label) # batch size is 64\n",
        "    true_label.append(y.clone())\n",
        "    pred = model(x)\n",
        "    \n",
        "    for index, real_label in enumerate(y):\n",
        "      y[index] = (real_label + 1)%10\n",
        "    modify_label.append(y)\n",
        "    loss = loss_func(pred, y)\n",
        "    loss.backward()\n",
        "    grad = x.grad.data\n",
        "    sign = torch.sign(grad)\n",
        "    new_img = torch.clamp((x-(sign*epsilon)),min=0,max=1)\n",
        "    adv_tar_img.append(new_img)\n",
        "  return adv_tar_img, true_label, modify_label"
      ],
      "execution_count": 54,
      "outputs": []
    },
    {
      "cell_type": "code",
      "metadata": {
        "id": "8ItIhhja0Fpo"
      },
      "source": [
        "adv_tar_img, true_label, modify_label = generate_target_adv(DNN, loaders, 50/255, 'test')"
      ],
      "execution_count": 91,
      "outputs": []
    },
    {
      "cell_type": "code",
      "metadata": {
        "colab": {
          "base_uri": "https://localhost:8080/"
        },
        "id": "MptFyypbP5ya",
        "outputId": "1791278f-8621-45dd-a95d-f4b1b785f6c4"
      },
      "source": [
        "print(modify_label[0])\n",
        "print(true_label[0])\n",
        "print(y_tar_pred_adv.count(8))"
      ],
      "execution_count": 96,
      "outputs": [
        {
          "output_type": "stream",
          "name": "stdout",
          "text": [
            "tensor([4, 6, 4, 7, 8, 8, 5, 3, 2, 6, 4, 2, 7, 2, 7, 6, 7, 3, 3, 1, 4, 2, 4, 0,\n",
            "        5, 2, 8, 3, 2, 3, 0, 4, 2, 7, 5, 8, 2, 2, 7, 1, 0, 2, 5, 9, 9, 7, 4, 3,\n",
            "        5, 9, 2, 0, 0, 8, 4, 8, 2, 9, 6, 0, 1, 5, 0, 5])\n",
            "tensor([3, 5, 3, 6, 7, 7, 4, 2, 1, 5, 3, 1, 6, 1, 6, 5, 6, 2, 2, 0, 3, 1, 3, 9,\n",
            "        4, 1, 7, 2, 1, 2, 9, 3, 1, 6, 4, 7, 1, 1, 6, 0, 9, 1, 4, 8, 8, 6, 3, 2,\n",
            "        4, 8, 1, 9, 9, 7, 3, 7, 1, 8, 5, 9, 0, 4, 9, 4])\n",
            "6313\n"
          ]
        }
      ]
    },
    {
      "cell_type": "code",
      "metadata": {
        "id": "98ZzrjyLQCKA"
      },
      "source": [
        ""
      ],
      "execution_count": 72,
      "outputs": []
    },
    {
      "cell_type": "code",
      "metadata": {
        "id": "w6pKrCH60eX0"
      },
      "source": [
        "acc_tar_adv, y_tar_pred_adv, y_tar_test_adv = DNN_acc_adv(DNN, adv_tar_img, true_label)"
      ],
      "execution_count": 92,
      "outputs": []
    },
    {
      "cell_type": "code",
      "metadata": {
        "id": "7mhY3fV20oOJ",
        "colab": {
          "base_uri": "https://localhost:8080/"
        },
        "outputId": "1be0b42b-f77d-4389-9164-c530f13fc962"
      },
      "source": [
        "print(acc_tar_adv)"
      ],
      "execution_count": 93,
      "outputs": [
        {
          "output_type": "stream",
          "name": "stdout",
          "text": [
            "0.0811\n"
          ]
        }
      ]
    },
    {
      "cell_type": "code",
      "metadata": {
        "id": "Y4FHoJOy0rdB",
        "colab": {
          "base_uri": "https://localhost:8080/"
        },
        "outputId": "e466b3cc-95a2-481d-9065-90512656c9bf"
      },
      "source": [
        "print(len(y_tar_pred_adv))\n",
        "li_tal = []\n",
        "for li in modify_label:\n",
        "  li_tal+=li\n",
        "print(type(li_tal))"
      ],
      "execution_count": 94,
      "outputs": [
        {
          "output_type": "stream",
          "name": "stdout",
          "text": [
            "10000\n",
            "<class 'list'>\n"
          ]
        }
      ]
    },
    {
      "cell_type": "code",
      "metadata": {
        "id": "6PSWiBOFvFZ4"
      },
      "source": [
        "print(y_tar_pred_adv)\n",
        "print(li_tal)"
      ],
      "execution_count": null,
      "outputs": []
    },
    {
      "cell_type": "code",
      "metadata": {
        "colab": {
          "base_uri": "https://localhost:8080/"
        },
        "id": "TPwmZQAjQZg3",
        "outputId": "3940a9dc-64ff-466a-a560-4fcf0e9dd40c"
      },
      "source": [
        "from sklearn.metrics import accuracy_score\n",
        "score = accuracy_score(y_tar_pred_adv, li_tal)\n",
        "print(score)"
      ],
      "execution_count": 76,
      "outputs": [
        {
          "output_type": "stream",
          "name": "stdout",
          "text": [
            "0.0357\n"
          ]
        }
      ]
    },
    {
      "cell_type": "code",
      "metadata": {
        "colab": {
          "base_uri": "https://localhost:8080/"
        },
        "id": "PcD3PljyvoIg",
        "outputId": "a4700407-f752-4d93-9eed-68b34de6af9e"
      },
      "source": [
        "count=0\n",
        "for index, val in enumerate(li_tal):\n",
        "  if (val)==y_tar_pred_adv[index]:\n",
        "    count+=1\n",
        "print(count)"
      ],
      "execution_count": 95,
      "outputs": [
        {
          "output_type": "stream",
          "name": "stdout",
          "text": [
            "2445\n"
          ]
        }
      ]
    },
    {
      "cell_type": "markdown",
      "metadata": {
        "id": "AfhfxFJGSh0O"
      },
      "source": [
        "## Adversarial Retraining against Untargeted FGSM Attacks"
      ]
    },
    {
      "cell_type": "code",
      "metadata": {
        "colab": {
          "base_uri": "https://localhost:8080/"
        },
        "id": "HgkL6riBhIKV",
        "outputId": "2fdd1c82-a361-47a6-fa44-ecbddc12b5df"
      },
      "source": [
        "class DNN_adv(nn.Module):\n",
        "  def __init__(self):\n",
        "    super(DNN_adv, self).__init__()\n",
        "    self.DNNBlock = nn.Sequential(\n",
        "        # DNN has 28*28 dimensional input and one hidden layer with 300 neurons\n",
        "        nn.Linear(28*28, 300),\n",
        "        nn.ReLU(),\n",
        "        nn.Linear(300, 10),\n",
        "        nn.LogSoftmax(dim=1)\n",
        "    )\n",
        "  def forward(self, x):\n",
        "    # flatten the input to 784\n",
        "    x = x.view(x.shape[0],-1)\n",
        "    x = self.DNNBlock(x)\n",
        "    return x\n",
        "DNN_adv = DNN_adv()\n",
        "# ## we will print out the structure to see if it is correct\n",
        "print(DNN_adv)"
      ],
      "execution_count": 18,
      "outputs": [
        {
          "output_type": "stream",
          "name": "stdout",
          "text": [
            "DNN_adv(\n",
            "  (DNNBlock): Sequential(\n",
            "    (0): Linear(in_features=784, out_features=300, bias=True)\n",
            "    (1): ReLU()\n",
            "    (2): Linear(in_features=300, out_features=10, bias=True)\n",
            "    (3): LogSoftmax(dim=1)\n",
            "  )\n",
            ")\n"
          ]
        }
      ]
    },
    {
      "cell_type": "code",
      "metadata": {
        "id": "Jzp5z0000FNQ"
      },
      "source": [
        "epsilon_adv = 10/255\n",
        "\n",
        "adv_img_new, img_label_new = generate_adv_img(DNN, loaders, epsilon_adv, 'train')\n",
        "for i, (img, label) in enumerate(loaders['train']):\n",
        "  adv_img_new.append(img)\n",
        "  img_label_new.append(label)"
      ],
      "execution_count": 19,
      "outputs": []
    },
    {
      "cell_type": "code",
      "metadata": {
        "id": "Y4TToXwEs47X"
      },
      "source": [
        "print(adv_img_new[0])\n",
        "print(adv_img_new[938])"
      ],
      "execution_count": null,
      "outputs": []
    },
    {
      "cell_type": "code",
      "metadata": {
        "colab": {
          "base_uri": "https://localhost:8080/"
        },
        "id": "GcF6aJQksZDf",
        "outputId": "1846c829-01eb-4299-9217-19c852be1b4e"
      },
      "source": [
        "optimizer_adv = optim.Adam(DNN_adv.parameters(), lr = 0.01) \n",
        "optimizer_adv"
      ],
      "execution_count": 20,
      "outputs": [
        {
          "output_type": "execute_result",
          "data": {
            "text/plain": [
              "Adam (\n",
              "Parameter Group 0\n",
              "    amsgrad: False\n",
              "    betas: (0.9, 0.999)\n",
              "    eps: 1e-08\n",
              "    lr: 0.01\n",
              "    weight_decay: 0\n",
              ")"
            ]
          },
          "metadata": {},
          "execution_count": 20
        }
      ]
    },
    {
      "cell_type": "code",
      "metadata": {
        "colab": {
          "base_uri": "https://localhost:8080/"
        },
        "id": "RlI15nucmh4U",
        "outputId": "c9095ce0-fdc8-417d-9bc6-6faa5ed63188"
      },
      "source": [
        "num_epochs = 10\n",
        "def train_DNN_adv(num_epochs, model, adv_img_new, img_label_new):\n",
        "  model.train()\n",
        "  loss_record = []\n",
        "  for epoch in range(num_epochs):\n",
        "    sum_loss = []\n",
        "    for i, imgs in enumerate(adv_img_new):\n",
        "      optimizer_adv.zero_grad()\n",
        "      x = Variable(imgs) # batch size is 64\n",
        "      y = Variable(img_label_new[i]) # batch size is 64\n",
        "      pred = model(x)\n",
        "      loss = loss_func(pred, y)    \n",
        "\n",
        "      \n",
        "      loss.backward()\n",
        "      optimizer_adv.step()\n",
        "      sum_loss.append(loss.item())\n",
        "    final_loss = np.sum(sum_loss)/len(sum_loss)\n",
        "    loss_record.append(final_loss)\n",
        "    print('epoch:[{}/{}], loss:{:.4f}'.format(epoch+1, num_epochs,final_loss))\n",
        "  return loss_record\n",
        "\n",
        "loss_adv = train_DNN_adv(num_epochs, DNN_adv, adv_img_new, img_label_new)"
      ],
      "execution_count": 21,
      "outputs": [
        {
          "output_type": "stream",
          "name": "stdout",
          "text": [
            "epoch:[1/10], loss:0.1960\n",
            "epoch:[2/10], loss:0.1154\n",
            "epoch:[3/10], loss:0.0991\n",
            "epoch:[4/10], loss:0.0862\n",
            "epoch:[5/10], loss:0.0760\n",
            "epoch:[6/10], loss:0.0737\n",
            "epoch:[7/10], loss:0.0695\n",
            "epoch:[8/10], loss:0.0607\n",
            "epoch:[9/10], loss:0.0659\n",
            "epoch:[10/10], loss:0.0634\n"
          ]
        }
      ]
    },
    {
      "cell_type": "code",
      "metadata": {
        "colab": {
          "base_uri": "https://localhost:8080/",
          "height": 279
        },
        "id": "_qr576wTtLWb",
        "outputId": "b1d1773c-ccdb-4c82-a6ca-75b872d77ff1"
      },
      "source": [
        "plt.plot(range(1,11),loss_adv)\n",
        "plt.xlabel(\"iteration\")\n",
        "plt.ylabel(\"loss_adv\")\n",
        "plt.show()"
      ],
      "execution_count": 22,
      "outputs": [
        {
          "output_type": "display_data",
          "data": {
            "image/png": "[encoded data removed]",
            "text/plain": [
              "<Figure size 432x288 with 1 Axes>"
            ]
          },
          "metadata": {
            "needs_background": "light"
          }
        }
      ]
    },
    {
      "cell_type": "code",
      "metadata": {
        "id": "hy2PWCthn4_b"
      },
      "source": [
        "def DNN_adv_acc_new(model, loaders, trainOrTest):\n",
        "  correct_count, all_count = 0, 0\n",
        "  y_pred = []\n",
        "  y_true = []\n",
        "  for img, label in loaders[trainOrTest]:\n",
        "    for i in range(len(label)):\n",
        "      prob = model(img[i])\n",
        "      ps = torch.exp(prob)\n",
        "      probab = list(ps.detach().numpy()[0])\n",
        "      pred_label = probab.index(max(probab))\n",
        "      true_label = label.numpy()[i]\n",
        "      y_pred.append(pred_label)\n",
        "      y_true.append(true_label)\n",
        "      \n",
        "      if(true_label==pred_label):\n",
        "        correct_count+=1\n",
        "      all_count+=1\n",
        "  return correct_count/all_count, y_pred, y_true\n",
        "\n",
        "acc_adv_new, y_pred_new, y_test_new = DNN_adv_acc_new(DNN_adv, loaders, 'test')"
      ],
      "execution_count": 23,
      "outputs": []
    },
    {
      "cell_type": "code",
      "metadata": {
        "colab": {
          "base_uri": "https://localhost:8080/"
        },
        "id": "2-qfZIz7t6NZ",
        "outputId": "5b8f765a-d2a4-4f18-fb7b-d52171629444"
      },
      "source": [
        "print(acc_adv_new)"
      ],
      "execution_count": 24,
      "outputs": [
        {
          "output_type": "stream",
          "name": "stdout",
          "text": [
            "0.9687\n"
          ]
        }
      ]
    },
    {
      "cell_type": "code",
      "metadata": {
        "id": "C-SF529nonOY"
      },
      "source": [
        "adv_test_img, img_test_label = generate_adv_img(DNN_adv, loaders, epsilon_adv, 'test')"
      ],
      "execution_count": 25,
      "outputs": []
    },
    {
      "cell_type": "code",
      "metadata": {
        "id": "VCRJqHTvpBPl"
      },
      "source": [
        "acc_adv_new_test, y_pred_adv_new, y_test_adv_new = DNN_acc_adv(DNN_adv, adv_test_img, img_test_label)"
      ],
      "execution_count": 26,
      "outputs": []
    },
    {
      "cell_type": "code",
      "metadata": {
        "colab": {
          "base_uri": "https://localhost:8080/"
        },
        "id": "-cPOrjuNpW-8",
        "outputId": "af6d1a88-4892-48e1-b07e-b43537e9a329"
      },
      "source": [
        "print(acc_adv_new_test)"
      ],
      "execution_count": 27,
      "outputs": [
        {
          "output_type": "stream",
          "name": "stdout",
          "text": [
            "0.9496\n"
          ]
        }
      ]
    },
    {
      "cell_type": "markdown",
      "metadata": {
        "id": "bsjbcPi2SuK5"
      },
      "source": [
        "## Challenge"
      ]
    },
    {
      "cell_type": "code",
      "metadata": {
        "id": "1HV-eR0n9sM6"
      },
      "source": [
        "fashion_train_data = datasets.FashionMNIST(\n",
        "    root = 'data', \n",
        "    train = True, \n",
        "    transform = transform,\n",
        "    download = True,  \n",
        ")\n",
        "fashion_test_data = datasets.FashionMNIST(\n",
        "    root = 'data', \n",
        "    train = False, \n",
        "    transform = transform,\n",
        "    download = True,  \n",
        ")"
      ],
      "execution_count": 69,
      "outputs": []
    },
    {
      "cell_type": "code",
      "metadata": {
        "colab": {
          "base_uri": "https://localhost:8080/"
        },
        "id": "8SmuLSnq-GgQ",
        "outputId": "bf78aec4-60cb-45b9-e7ef-8bb55e72c850"
      },
      "source": [
        "print(\"The train data size is: \", fashion_train_data.data.size())\n",
        "print(\"The test data size is: \", fashion_test_data.data.size())"
      ],
      "execution_count": 70,
      "outputs": [
        {
          "output_type": "stream",
          "name": "stdout",
          "text": [
            "The train data size is:  torch.Size([60000, 28, 28])\n",
            "The test data size is:  torch.Size([10000, 28, 28])\n"
          ]
        }
      ]
    },
    {
      "cell_type": "code",
      "metadata": {
        "colab": {
          "base_uri": "https://localhost:8080/"
        },
        "id": "5iDmi9zM-UOG",
        "outputId": "8399b014-ed3a-42fa-8d37-8a8b0ce3ffc9"
      },
      "source": [
        "fashion_loaders = {\n",
        "    'train':DataLoader(fashion_train_data,\n",
        "                      batch_size = 64,\n",
        "                      shuffle = True,\n",
        "                      ),\n",
        "    'test':DataLoader(fashion_test_data,\n",
        "                      batch_size = 64,\n",
        "                      shuffle = True,\n",
        "                      ),\n",
        "}\n",
        "fashion_loaders"
      ],
      "execution_count": 71,
      "outputs": [
        {
          "output_type": "execute_result",
          "data": {
            "text/plain": [
              "{'test': <torch.utils.data.dataloader.DataLoader at 0x7f6a77240fd0>,\n",
              " 'train': <torch.utils.data.dataloader.DataLoader at 0x7f6a77240f50>}"
            ]
          },
          "metadata": {},
          "execution_count": 71
        }
      ]
    },
    {
      "cell_type": "code",
      "metadata": {
        "id": "G4m3CH9gCq43",
        "outputId": "40f5d22c-cea2-42ed-8ae5-f6adb1c70d14",
        "colab": {
          "base_uri": "https://localhost:8080/",
          "height": 298
        }
      },
      "source": [
        "dataiter_fashion = iter(fashion_loaders['train'])\n",
        "fashion_images, fashion_labels = dataiter_fashion.next()\n",
        "\n",
        "print(fashion_images.shape)\n",
        "# print(images.dtype)\n",
        "# print(labels.shape)\n",
        "plt.imshow(fashion_images[0].squeeze(), cmap=\"gray\")"
      ],
      "execution_count": 90,
      "outputs": [
        {
          "output_type": "stream",
          "name": "stdout",
          "text": [
            "torch.Size([64, 1, 28, 28])\n"
          ]
        },
        {
          "output_type": "execute_result",
          "data": {
            "text/plain": [
              "<matplotlib.image.AxesImage at 0x7f6a77424cd0>"
            ]
          },
          "metadata": {},
          "execution_count": 90
        },
        {
          "output_type": "display_data",
          "data": {
            "image/png": "[encoded data removed]",
            "text/plain": [
              "<Figure size 432x288 with 1 Axes>"
            ]
          },
          "metadata": {
            "needs_background": "light"
          }
        }
      ]
    },
    {
      "cell_type": "code",
      "metadata": {
        "colab": {
          "base_uri": "https://localhost:8080/"
        },
        "id": "pTrgqBPz-nNl",
        "outputId": "fcd91c11-be1a-4e96-a0b6-57b522f986fd"
      },
      "source": [
        "class fashion_DNN(nn.Module):\n",
        "  def __init__(self):\n",
        "    super(fashion_DNN, self).__init__()\n",
        "    self.DNNBlock = nn.Sequential(\n",
        "        # DNN has 28*28 dimensional input and one hidden layer with 300 neurons\n",
        "        nn.Linear(28*28, 300),\n",
        "        nn.ReLU(),\n",
        "        nn.Linear(300, 10),\n",
        "        nn.LogSoftmax(dim=1)\n",
        "    )\n",
        "  def forward(self, x):\n",
        "    # flatten the input to 784\n",
        "    x = x.view(x.shape[0],-1)\n",
        "    x = self.DNNBlock(x)\n",
        "    return x\n",
        "fashion_DNN = fashion_DNN()\n",
        "# ## we will print out the structure to see if it is correct\n",
        "print(fashion_DNN)"
      ],
      "execution_count": 91,
      "outputs": [
        {
          "output_type": "stream",
          "name": "stdout",
          "text": [
            "fashion_DNN(\n",
            "  (DNNBlock): Sequential(\n",
            "    (0): Linear(in_features=784, out_features=300, bias=True)\n",
            "    (1): ReLU()\n",
            "    (2): Linear(in_features=300, out_features=10, bias=True)\n",
            "    (3): LogSoftmax(dim=1)\n",
            "  )\n",
            ")\n"
          ]
        }
      ]
    },
    {
      "cell_type": "code",
      "metadata": {
        "colab": {
          "base_uri": "https://localhost:8080/"
        },
        "id": "BalJDR-EAFCY",
        "outputId": "2f563ced-0803-4e16-f5fc-fef67f9d15b4"
      },
      "source": [
        "optimizer_challenge = optim.Adam(fashion_DNN.parameters(), lr = 0.01) \n",
        "optimizer_challenge"
      ],
      "execution_count": 92,
      "outputs": [
        {
          "output_type": "execute_result",
          "data": {
            "text/plain": [
              "Adam (\n",
              "Parameter Group 0\n",
              "    amsgrad: False\n",
              "    betas: (0.9, 0.999)\n",
              "    eps: 1e-08\n",
              "    lr: 0.01\n",
              "    weight_decay: 0\n",
              ")"
            ]
          },
          "metadata": {},
          "execution_count": 92
        }
      ]
    },
    {
      "cell_type": "code",
      "metadata": {
        "colab": {
          "base_uri": "https://localhost:8080/"
        },
        "id": "coYVcJ0Y_VtY",
        "outputId": "6844348d-8d79-4791-f318-7b2450cf728c"
      },
      "source": [
        "num_epochs = 10\n",
        "def train_fashion_DNN(num_epochs, model, loaders, trainOrTest):\n",
        "  model.train()\n",
        "  loss_record = []\n",
        "  total_step = len(loaders[trainOrTest])\n",
        "  for epoch in range(num_epochs):\n",
        "    sum_loss = []\n",
        "    for i, (imgs, labels) in enumerate(loaders[trainOrTest]):\n",
        "      optimizer_challenge.zero_grad()\n",
        "      x = Variable(imgs) # batch size is 64\n",
        "      y = Variable(labels) # batch size is 64\n",
        "      pred = model(x)\n",
        "      loss = loss_func(pred, y)    \n",
        "      loss.backward()\n",
        "      optimizer_challenge.step()\n",
        "      sum_loss.append(loss.item())\n",
        "    final_loss = np.sum(sum_loss)/len(sum_loss)\n",
        "    loss_record.append(final_loss)\n",
        "    print('epoch:[{}/{}], loss:{:.4f}'.format(epoch+1, num_epochs,final_loss))\n",
        "  return loss_record\n",
        "\n",
        "loss = train_fashion_DNN(num_epochs, fashion_DNN, fashion_loaders, 'train')"
      ],
      "execution_count": 93,
      "outputs": [
        {
          "output_type": "stream",
          "name": "stdout",
          "text": [
            "epoch:[1/10], loss:0.5094\n",
            "epoch:[2/10], loss:0.4051\n",
            "epoch:[3/10], loss:0.3758\n",
            "epoch:[4/10], loss:0.3651\n",
            "epoch:[5/10], loss:0.3572\n",
            "epoch:[6/10], loss:0.3454\n",
            "epoch:[7/10], loss:0.3430\n",
            "epoch:[8/10], loss:0.3365\n",
            "epoch:[9/10], loss:0.3257\n",
            "epoch:[10/10], loss:0.3236\n"
          ]
        }
      ]
    },
    {
      "cell_type": "code",
      "metadata": {
        "colab": {
          "base_uri": "https://localhost:8080/",
          "height": 279
        },
        "id": "iRV5gwC__oNY",
        "outputId": "8b2de692-0b52-4d6f-c212-a789c165732b"
      },
      "source": [
        "plt.plot(range(1,11),loss)\n",
        "plt.xlabel(\"iteration\")\n",
        "plt.ylabel(\"loss_challenge\")\n",
        "plt.show()"
      ],
      "execution_count": 95,
      "outputs": [
        {
          "output_type": "display_data",
          "data": {
            "image/png": "[encoded data removed]",
            "text/plain": [
              "<Figure size 432x288 with 1 Axes>"
            ]
          },
          "metadata": {
            "needs_background": "light"
          }
        }
      ]
    },
    {
      "cell_type": "code",
      "metadata": {
        "id": "9xyKbnVKBwtK"
      },
      "source": [
        "acc_challenge, y_pred_challenge, y_test_challenge = DNN_acc(fashion_DNN, fashion_loaders, 'test')"
      ],
      "execution_count": 98,
      "outputs": []
    },
    {
      "cell_type": "code",
      "metadata": {
        "id": "cX654INNB_T4",
        "outputId": "27e85e3d-f710-4a65-f64d-43eb96935591",
        "colab": {
          "base_uri": "https://localhost:8080/"
        }
      },
      "source": [
        "print(acc_challenge)"
      ],
      "execution_count": 99,
      "outputs": [
        {
          "output_type": "stream",
          "name": "stdout",
          "text": [
            "0.8472\n"
          ]
        }
      ]
    },
    {
      "cell_type": "code",
      "metadata": {
        "id": "kXY4Fmv0x24e"
      },
      "source": [
        "def generate_adv_img_challenge(model, numberOfEpoch, loaders, alpha, trainOrTest):\n",
        "  adv_img = []\n",
        "  ori_img = []\n",
        "  \n",
        "  for i, (img, label) in enumerate(loaders[trainOrTest]):\n",
        "    new_img = img\n",
        "    ori_img.append(img)\n",
        "    image_label = label\n",
        "    for epoch in range(numberOfEpoch):\n",
        "      x = Variable(new_img, requires_grad=True) # batch size is 64\n",
        "      y = Variable(label) # batch size is 64\n",
        "\n",
        "      pred = model(x)\n",
        "      loss = loss_func(pred, y)  \n",
        "      loss.backward()\n",
        "      grad = x.grad.data\n",
        "      sign = torch.sign(grad)\n",
        "      new_img = torch.clamp((x+(sign*alpha)),min=0,max=1)\n",
        "    adv_img.append(new_img)\n",
        "  return adv_img, ori_img"
      ],
      "execution_count": 100,
      "outputs": []
    },
    {
      "cell_type": "code",
      "metadata": {
        "id": "8YU1d14KB-Wz"
      },
      "source": [
        ""
      ],
      "execution_count": null,
      "outputs": []
    },
    {
      "cell_type": "code",
      "metadata": {
        "id": "H4JogSh81XIz"
      },
      "source": [
        "adv_img_challenge, ori_img = generate_adv_img_challenge(fashion_DNN, 5, fashion_loaders, 1/255, 'test')"
      ],
      "execution_count": 101,
      "outputs": []
    },
    {
      "cell_type": "code",
      "metadata": {
        "id": "myDOoJp0yrBO"
      },
      "source": [
        "def calRMSE(adv_img, ori_img):\n",
        "  RMSE = []\n",
        "  for i, img in enumerate(adv_img):\n",
        "    for index, image in enumerate(img):\n",
        "      rmse = torch.sqrt(torch.sum((image-ori_img[i][index])**2)/(28*28))\n",
        "      RMSE.append(rmse)\n",
        "    #rmse = torch.sqrt(torch.sum((img-adv_img[i])**2)/(28*28*64))\n",
        "    #print(rmse)\n",
        "    \n",
        "  return RMSE"
      ],
      "execution_count": 102,
      "outputs": []
    },
    {
      "cell_type": "code",
      "metadata": {
        "id": "N_MnwOCE1-lc"
      },
      "source": [
        "RMSE = calRMSE(adv_img_challenge, ori_img)"
      ],
      "execution_count": 103,
      "outputs": []
    },
    {
      "cell_type": "code",
      "metadata": {
        "colab": {
          "base_uri": "https://localhost:8080/"
        },
        "id": "sThNcKbL5LMH",
        "outputId": "23d084d8-c243-4da0-c969-7fef499c5382"
      },
      "source": [
        "print(len(RMSE))"
      ],
      "execution_count": 82,
      "outputs": [
        {
          "output_type": "stream",
          "name": "stdout",
          "text": [
            "10000\n"
          ]
        }
      ]
    },
    {
      "cell_type": "code",
      "metadata": {
        "colab": {
          "base_uri": "https://localhost:8080/"
        },
        "id": "T-LzEg4_2OWc",
        "outputId": "46b0aee7-2fb2-4254-b81c-a7df11b10335"
      },
      "source": [
        "print(np.sum(RMSE)/len(RMSE))"
      ],
      "execution_count": 104,
      "outputs": [
        {
          "output_type": "stream",
          "name": "stdout",
          "text": [
            "tensor(0.0160, grad_fn=<DivBackward0>)\n"
          ]
        }
      ]
    },
    {
      "cell_type": "code",
      "metadata": {
        "colab": {
          "base_uri": "https://localhost:8080/",
          "height": 233
        },
        "id": "LFstz_iA84wi",
        "outputId": "57039c0f-41e8-41cb-faba-e3ee74a51893"
      },
      "source": [
        "plt.subplot(1,2,1)\n",
        "plt.imshow(adv_img_challenge[0][0].detach().numpy().squeeze(), cmap=\"gray\")\n",
        "plt.title(\"perturb image\")\n",
        "plt.subplot(1,2,2)\n",
        "plt.imshow(ori_img[0][0].detach().numpy().squeeze(), cmap=\"gray\")\n",
        "plt.title(\"original image\")"
      ],
      "execution_count": 109,
      "outputs": [
        {
          "output_type": "execute_result",
          "data": {
            "text/plain": [
              "Text(0.5, 1.0, 'original image')"
            ]
          },
          "metadata": {},
          "execution_count": 109
        },
        {
          "output_type": "display_data",
          "data": {
            "image/png": "[encoded data removed]",
            "text/plain": [
              "<Figure size 432x288 with 2 Axes>"
            ]
          },
          "metadata": {
            "needs_background": "light"
          }
        }
      ]
    },
    {
      "cell_type": "code",
      "metadata": {
        "id": "oPxbTXEmEaWz"
      },
      "source": [
        ""
      ],
      "execution_count": null,
      "outputs": []
    }
  ]
}