{
  "nbformat": 4,
  "nbformat_minor": 0,
  "metadata": {
    "colab": {
      "name": "MLSec_Lab2.ipynb",
      "provenance": [],
      "authorship_tag": "ABX9TyOujulGSeb7V6J6LzeuXMbA",
      "include_colab_link": true
    },
    "kernelspec": {
      "name": "python3",
      "display_name": "Python 3"
    },
    "language_info": {
      "name": "python"
    },
    "accelerator": "GPU"
  },
  "cells": [
    {
      "cell_type": "markdown",
      "metadata": {
        "id": "view-in-github",
        "colab_type": "text"
      },
      "source": [
        "<a href=\"https://colab.research.google.com/github/yeb2Binfang/ECE-GY-9163-ML-cyber/blob/main/Lab/MLSec_Lab2.ipynb\" target=\"_parent\"><img src=\"https://colab.research.google.com/assets/colab-badge.svg\" alt=\"Open In Colab\"/></a>"
      ]
    },
    {
      "cell_type": "markdown",
      "metadata": {
        "id": "J2oS1Fr4NJeE"
      },
      "source": [
        "# Lab 2: Adversarial Attacks on Deep Neural Networks\n",
        "\n",
        "## Overview\n",
        "In this lab, you will investigate adversarial perturbation attacks on Deep Neural Networks using the MNIST digits dataset as a benchmark. You will then evaluate adversarial retraining as a defense against adversarial perturbations.\n",
        "\n",
        "## Dataset\n",
        "The fashion_MNIST dataset is a commonly used “toy” benchmarks for machine learning. It contains 28X28 grayscale images with a label from 10 classes, along with the associated labels. The dataset is available as part of the tensorflow package, which you will be using extensively in this lab.\n",
        "\n",
        "## What You Have to Do\n",
        "The sample Google Colab notebook\n",
        "https://colab.research.google.com/github/tensorflow/docs/blob/master/site/en/tutorials/quickstart/beginner.ipynb#scrollTo=h3IKyzTCDNGo\n",
        "that implements a 2-layer DNN for MNIST digit classification. The DNN has a 784 (28x28) dimensional input, a 10-dimensional output (prediction probabilities for each of the 10 classes) and one hidden layer with 300 hidden neurons and ReLU activations. You will implement your attacks and defenses on this baseline DNN.\n",
        "\n",
        "* **FGSM based untargeted attacks**: Your first goal is to implement FGSM based untargeted attacks using images from the test set on the baseline DNN. That is, your goal is to adversarially perturb each image in the test set using the following values of parameter $\\epsilon$ = {1, 5, 10, 20, 30, 40, 50}/255 assuming pixel values are normalized in the range [0,1]. Report the success rate of your attack, i.e., the fraction of test images that were\n",
        "correctly classified by the baseline DNN that are mis-classified after adversarial perturbation, as a function of $\\epsilon$.\n",
        "\n",
        "* **FGSM based targeted attacks**: Next, you will repeat Step 1 above, except this time perform targeted attacks where digit i is classified as (i+1)%10 on the baseline DNN. (Here, i refers to the true ground-truth label of the test images, and you can assume that the attacker has access to these labels.) As before, use the following values of the parameter $\\epsilon$ = {1, 5, 10, 20, 30, 40, 50}/255. Report the attack’s success rate as a function of parameter $\\epsilon$, where success rate is defined as the fraction of test images that were correctly classified by the baseline DNN that are mis-classified after adversarial perturbations with label (i+1)%10.\n",
        "\n",
        "* **Adversarial Retraining against Untargeted FGSM Attacks**: For this step, you can assume $\\epsilon$ = 10/255 throughout. To defend against adversarial perturbations, the defender adversarially perturbs each image in her training set using the attacker’s strategy in Step 1. She then appends the adversarially perturbed images to her training set, but using their correct labels. Then, the defender retrains the baseline DNN with a new training dataset containing both images from the original training dataset and the new adversarially perturbed images. We call the new DNN the adversarially retrained DNN.\n",
        "\n",
        "  *  Report the classification accuracy of the adversarially retrained DNN on the original test dataset that contains only clean inputs.\n",
        "  * Is the adversarially retrained DNN robust against adversarial perturbations?\n",
        "Implement FGSM based untargeted attacks using images from the clean test set on the adversarially retrained DNN. Report the success rate of your attack.\n",
        "\n",
        "* **Challenge**: Finally, you will all compete in an adversarial attack challenge. You are free to use any adversarial attack detection procedure to implement untargeted attacks on a 2-layer baseline DNN. You are welcome to implement IFGSM or PGD attacks for example. For this problem you will simply submit your adversarially perturbed test images from the Fashion_MNIST dataset. The constraint is that the Root Mean Square Error averaged over all the images in the the original and modified datasets should be less than 5/255. assuming images are normalized to lie between [0,1].\n",
        "\n",
        "## What to Submit\n",
        "* Colab Notebook and its pdf format.\n",
        "* Please submit 1 Colab Notebook and 1 PDF file without zipping.\n",
        "* For the Challenge, please submit a file containing your adversarially modified test images\n",
        "\n"
      ]
    },
    {
      "cell_type": "markdown",
      "metadata": {
        "id": "oj26NHKtS89o"
      },
      "source": [
        "https://nextjournal.com/gkoehler/pytorch-mnist\n",
        "\n",
        "https://pytorch.org/tutorials/beginner/fgsm_tutorial.html\n",
        "\n",
        "https://towardsdatascience.com/know-your-enemy-the-fascinating-implications-of-adversarial-examples-5936bccb24af\n",
        "\n",
        "https://towardsdatascience.com/know-your-enemy-7f7c5038bdf3\n",
        "\n",
        "https://www.pyimagesearch.com/2020/10/19/adversarial-images-and-attacks-with-keras-and-tensorflow/\n",
        "\n",
        "https://www.pyimagesearch.com/2020/10/26/targeted-adversarial-attacks-with-keras-and-tensorflow/\n",
        "\n",
        "https://www.pyimagesearch.com/2020/10/19/adversarial-images-and-attacks-with-keras-and-tensorflow/\n",
        "\n",
        "https://www.pyimagesearch.com/2021/03/01/adversarial-attacks-with-fgsm-fast-gradient-sign-method/"
      ]
    },
    {
      "cell_type": "markdown",
      "metadata": {
        "id": "qLzFhn6JTxco"
      },
      "source": [
        "## Import packages and Get Data"
      ]
    },
    {
      "cell_type": "code",
      "metadata": {
        "id": "g8oT8bCITz7h"
      },
      "source": [
        "import torch\n",
        "from torchvision import datasets\n",
        "from torchvision.transforms import ToTensor\n",
        "from torch.utils.data import DataLoader\n",
        "from torch import optim\n",
        "from torch.autograd import Variable\n",
        "import torch.nn as nn\n",
        "import torch.nn.functional as F\n",
        "import matplotlib.pyplot as plt"
      ],
      "execution_count": 1,
      "outputs": []
    },
    {
      "cell_type": "markdown",
      "metadata": {
        "id": "kI8HoeTiWuKX"
      },
      "source": [
        "Make sure we can use GPU"
      ]
    },
    {
      "cell_type": "code",
      "metadata": {
        "id": "Z5KuL6TBWqh6",
        "outputId": "de65af7d-32cf-419e-8e8b-9a6bd6544da1",
        "colab": {
          "base_uri": "https://localhost:8080/"
        }
      },
      "source": [
        "torch.cuda.is_available()"
      ],
      "execution_count": 2,
      "outputs": [
        {
          "output_type": "execute_result",
          "data": {
            "text/plain": [
              "True"
            ]
          },
          "metadata": {},
          "execution_count": 2
        }
      ]
    },
    {
      "cell_type": "code",
      "metadata": {
        "id": "gMrEvka-U5Mq"
      },
      "source": [
        "train_data = datasets.MNIST(\n",
        "    root = 'data',\n",
        "    train = True,                         \n",
        "    transform = ToTensor(), \n",
        "    download = True,            \n",
        ")\n",
        "test_data = datasets.MNIST(\n",
        "    root = 'data', \n",
        "    train = False, \n",
        "    transform = ToTensor()\n",
        ")"
      ],
      "execution_count": 4,
      "outputs": []
    },
    {
      "cell_type": "code",
      "metadata": {
        "colab": {
          "base_uri": "https://localhost:8080/"
        },
        "id": "9EOjqQSUVSr1",
        "outputId": "17f6a1d0-2782-475d-de5e-d4534c4133e9"
      },
      "source": [
        "print(\"The train data size is: \", train_data.data.size())\n",
        "print(\"The test data size is: \", test_data.data.size())"
      ],
      "execution_count": 5,
      "outputs": [
        {
          "output_type": "stream",
          "name": "stdout",
          "text": [
            "The train data size is:  torch.Size([60000, 28, 28])\n",
            "The test data size is:  torch.Size([10000, 28, 28])\n"
          ]
        }
      ]
    },
    {
      "cell_type": "markdown",
      "metadata": {
        "id": "NpIoWW7wPWrJ"
      },
      "source": [
        "We will visualize the data"
      ]
    },
    {
      "cell_type": "code",
      "metadata": {
        "id": "bxwV1l3BPWAw",
        "outputId": "50ebf567-074a-4510-8721-ee12d0f43c34",
        "colab": {
          "base_uri": "https://localhost:8080/",
          "height": 482
        }
      },
      "source": [
        "figure = plt.figure(figsize=(10,8))\n",
        "cols, rows = 3,3\n",
        "for i in range(1, cols*rows+1):\n",
        "  index = torch.randint(len(train_data),size=(1,)).item()\n",
        "  img, label = train_data[index]\n",
        "  figure.add_subplot(rows, cols, i)\n",
        "  plt.title(\"true label: {}\".format(label))\n",
        "  plt.axis(\"off\")\n",
        "  plt.imshow(img.squeeze(), cmap=\"gray\")\n",
        "plt.show()"
      ],
      "execution_count": 6,
      "outputs": [
        {
          "output_type": "display_data",
          "data": {
            "image/png": "[encoded data removed]",
            "text/plain": [
              "<Figure size 720x576 with 9 Axes>"
            ]
          },
          "metadata": {
            "needs_background": "light"
          }
        }
      ]
    },
    {
      "cell_type": "markdown",
      "metadata": {
        "id": "tgqsdWQcRIJq"
      },
      "source": [
        "We need to prepare the dataloader for training"
      ]
    },
    {
      "cell_type": "code",
      "metadata": {
        "id": "fqGjc0p8RLdL",
        "outputId": "cc03fe11-170c-4a0c-a8cc-706f102ac4db",
        "colab": {
          "base_uri": "https://localhost:8080/"
        }
      },
      "source": [
        "loaders = {\n",
        "    'train':DataLoader(train_data,\n",
        "                       batch_size = 64,\n",
        "                       shuffle = True,\n",
        "                       ),\n",
        "    'test':DataLoader(test_data,\n",
        "                      batch_size = 64,\n",
        "                      shuffle = True),\n",
        "}\n",
        "loaders"
      ],
      "execution_count": 7,
      "outputs": [
        {
          "output_type": "execute_result",
          "data": {
            "text/plain": [
              "{'test': <torch.utils.data.dataloader.DataLoader at 0x7f9d04ee6790>,\n",
              " 'train': <torch.utils.data.dataloader.DataLoader at 0x7f9d04ee6450>}"
            ]
          },
          "metadata": {},
          "execution_count": 7
        }
      ]
    },
    {
      "cell_type": "code",
      "metadata": {
        "id": "ToPfc4yFWWGg"
      },
      "source": [
        ""
      ],
      "execution_count": null,
      "outputs": []
    },
    {
      "cell_type": "markdown",
      "metadata": {
        "id": "XJpidKHuSRvw"
      },
      "source": [
        "## Baseline DNN model\n",
        "The DNN has a 784 (28x28) dimensional input, a 10-dimensional output (prediction probabilities for each of the 10 classes) and one hidden layer with 300 hidden neurons and ReLU activations."
      ]
    },
    {
      "cell_type": "code",
      "metadata": {
        "id": "-C46aFNLND0K",
        "colab": {
          "base_uri": "https://localhost:8080/"
        },
        "outputId": "db5b8288-d830-46fa-91bb-5484bade575c"
      },
      "source": [
        "class DNN(nn.Module):\n",
        "  def __init__(self):\n",
        "    super(DNN, self).__init__()\n",
        "    # DNN has 28*28 dimensional input and one hidden layer with 300 neurons\n",
        "    self.firstLayer = nn.Linear(28*28, 300)\n",
        "    # 10 dimensional output\n",
        "    self.secondLayer = nn.Linear(300, 10)\n",
        "  \n",
        "  def forward(self, x):\n",
        "    # flatten the input to 784\n",
        "    x = torch.flatten(x, 1) \n",
        "    x = F.relu(self.firstLayer(x))\n",
        "    x = self.secondLayer(x)\n",
        "    x = F.log_softmax(x)\n",
        "    return x\n",
        "DNN = DNN()\n",
        "## we will print out the structure to see if it is correct\n",
        "print(DNN)"
      ],
      "execution_count": 46,
      "outputs": [
        {
          "output_type": "stream",
          "name": "stdout",
          "text": [
            "DNN(\n",
            "  (firstLayer): Linear(in_features=784, out_features=300, bias=True)\n",
            "  (secondLayer): Linear(in_features=300, out_features=10, bias=True)\n",
            ")\n"
          ]
        }
      ]
    },
    {
      "cell_type": "code",
      "metadata": {
        "id": "UUjxpxpcU7pV"
      },
      "source": [
        "loss_func = nn.NLLLoss()"
      ],
      "execution_count": 27,
      "outputs": []
    },
    {
      "cell_type": "markdown",
      "metadata": {
        "id": "kkf6U8lAUMzY"
      },
      "source": [
        "We will start to train the DNN model"
      ]
    },
    {
      "cell_type": "code",
      "metadata": {
        "id": "wZT0Zbn7ULlS",
        "outputId": "e9863c94-c1d4-4b99-8d01-370f8daa0b65",
        "colab": {
          "base_uri": "https://localhost:8080/"
        }
      },
      "source": [
        "optimizer = optim.Adam(DNN.parameters(), lr = 0.01) \n",
        "optimizer"
      ],
      "execution_count": 18,
      "outputs": [
        {
          "output_type": "execute_result",
          "data": {
            "text/plain": [
              "Adam (\n",
              "Parameter Group 0\n",
              "    amsgrad: False\n",
              "    betas: (0.9, 0.999)\n",
              "    eps: 1e-08\n",
              "    lr: 0.01\n",
              "    weight_decay: 0\n",
              ")"
            ]
          },
          "metadata": {},
          "execution_count": 18
        }
      ]
    },
    {
      "cell_type": "code",
      "metadata": {
        "id": "JVR2cKAXdihs"
      },
      "source": [
        ""
      ],
      "execution_count": null,
      "outputs": []
    },
    {
      "cell_type": "code",
      "metadata": {
        "id": "ju7RXcnnVZct",
        "outputId": "16a1d431-d985-40d0-b2c2-636d951fd998",
        "colab": {
          "base_uri": "https://localhost:8080/"
        }
      },
      "source": [
        "\n",
        "#DNN = DNN()\n",
        "num_epochs = 1\n",
        "def train_DNN(num_epochs, model, loaders):\n",
        "  #model.train()\n",
        "  total_step = len(loaders['train'])\n",
        "  for epoch in range(num_epochs):\n",
        "    for i, (imgs, labels) in enumerate(loaders['train']):\n",
        "      # imgs = imgs.view(imgs.shape[0],-1)\n",
        "      x = Variable(imgs) # batch size is 64\n",
        "      y = Variable(labels) # batch size is 64\n",
        "      pred = model(x)\n",
        "      loss = loss_func(pred, y)\n",
        "      optimizer.zero_grad()\n",
        "      loss.backward()\n",
        "      optimizer.step()\n",
        "      if (i%64)==0:\n",
        "        print('epoch:[{}/{}], step[{}/{}], loss:{:.4f}'.format(epoch+1, num_epochs, i+1, total_step, loss.item()))\n",
        "\n",
        "\n",
        "\n",
        "train_DNN(num_epochs, DNN, loaders)\n"
      ],
      "execution_count": 49,
      "outputs": [
        {
          "output_type": "stream",
          "name": "stderr",
          "text": [
            "/usr/local/lib/python3.7/dist-packages/ipykernel_launcher.py:14: UserWarning: Implicit dimension choice for log_softmax has been deprecated. Change the call to include dim=X as an argument.\n",
            "  \n"
          ]
        },
        {
          "output_type": "stream",
          "name": "stdout",
          "text": [
            "epoch:[1/1], step[1/938], loss:2.2944\n",
            "epoch:[1/1], step[65/938], loss:2.3006\n",
            "epoch:[1/1], step[129/938], loss:2.2860\n",
            "epoch:[1/1], step[193/938], loss:2.2757\n",
            "epoch:[1/1], step[257/938], loss:2.2940\n",
            "epoch:[1/1], step[321/938], loss:2.2915\n",
            "epoch:[1/1], step[385/938], loss:2.2867\n",
            "epoch:[1/1], step[449/938], loss:2.2908\n",
            "epoch:[1/1], step[513/938], loss:2.2840\n",
            "epoch:[1/1], step[577/938], loss:2.2915\n",
            "epoch:[1/1], step[641/938], loss:2.2832\n",
            "epoch:[1/1], step[705/938], loss:2.3110\n",
            "epoch:[1/1], step[769/938], loss:2.2972\n",
            "epoch:[1/1], step[833/938], loss:2.2865\n",
            "epoch:[1/1], step[897/938], loss:2.2948\n"
          ]
        }
      ]
    },
    {
      "cell_type": "code",
      "metadata": {
        "id": "Ku2G8E2Ydz4f",
        "outputId": "d9e8281d-cee8-438f-bd9e-7a2a60042d20",
        "colab": {
          "base_uri": "https://localhost:8080/"
        }
      },
      "source": [
        "correct_count, all_count = 0, 0\n",
        "for img, label in loaders['test']:\n",
        "  for i in range(len(label)):\n",
        "    prob = DNN(img)\n",
        "    ps = torch.exp(prob)\n",
        "    probab = list(ps.detach().numpy()[0])\n",
        "    pred_label = probab.index(max(probab))\n",
        "    true_label = label.numpy()[i]\n",
        "    if(true_label==pred_label):\n",
        "      correct_count+=1\n",
        "    all_count+=1\n",
        "print(correct_count/all_count)"
      ],
      "execution_count": 35,
      "outputs": [
        {
          "output_type": "stream",
          "name": "stderr",
          "text": [
            "/usr/local/lib/python3.7/dist-packages/ipykernel_launcher.py:14: UserWarning: Implicit dimension choice for log_softmax has been deprecated. Change the call to include dim=X as an argument.\n",
            "  \n"
          ]
        },
        {
          "output_type": "stream",
          "name": "stdout",
          "text": [
            "0.1018\n"
          ]
        }
      ]
    },
    {
      "cell_type": "markdown",
      "metadata": {
        "id": "0SLKYlUFSWZg"
      },
      "source": [
        "## FGSM based untargeted attacks"
      ]
    },
    {
      "cell_type": "markdown",
      "metadata": {
        "id": "_HvB2nzrSbLP"
      },
      "source": [
        "## FGSM based targeted attacks"
      ]
    },
    {
      "cell_type": "markdown",
      "metadata": {
        "id": "AfhfxFJGSh0O"
      },
      "source": [
        "## Adversarial Retraining against Untargeted FGSM Attacks"
      ]
    },
    {
      "cell_type": "markdown",
      "metadata": {
        "id": "bsjbcPi2SuK5"
      },
      "source": [
        "## Challenge"
      ]
    }
  ]
}