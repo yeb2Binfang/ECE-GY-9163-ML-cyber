{
  "nbformat": 4,
  "nbformat_minor": 0,
  "metadata": {
    "colab": {
      "name": "MLSec_Lab2.ipynb",
      "provenance": [],
      "authorship_tag": "ABX9TyONI+4rmPBHJo5EdEvUca5N",
      "include_colab_link": true
    },
    "kernelspec": {
      "name": "python3",
      "display_name": "Python 3"
    },
    "language_info": {
      "name": "python"
    }
  },
  "cells": [
    {
      "cell_type": "markdown",
      "metadata": {
        "id": "view-in-github",
        "colab_type": "text"
      },
      "source": [
        "<a href=\"https://colab.research.google.com/github/yeb2Binfang/ECE-GY-9163-ML-cyber/blob/main/Lab/MLSec_Lab2.ipynb\" target=\"_parent\"><img src=\"https://colab.research.google.com/assets/colab-badge.svg\" alt=\"Open In Colab\"/></a>"
      ]
    },
    {
      "cell_type": "markdown",
      "metadata": {
        "id": "J2oS1Fr4NJeE"
      },
      "source": [
        "# Lab 2: Adversarial Attacks on Deep Neural Networks\n",
        "\n",
        "## Overview\n",
        "In this lab, you will investigate adversarial perturbation attacks on Deep Neural Networks using the MNIST digits dataset as a benchmark. You will then evaluate adversarial retraining as a defense against adversarial perturbations.\n",
        "\n",
        "## Dataset\n",
        "The fashion_MNIST dataset is a commonly used “toy” benchmarks for machine learning. It contains 28X28 grayscale images with a label from 10 classes, along with the associated labels. The dataset is available as part of the tensorflow package, which you will be using extensively in this lab.\n",
        "\n",
        "## What You Have to Do\n",
        "The sample Google Colab notebook\n",
        "https://colab.research.google.com/github/tensorflow/docs/blob/master/site/en/tutorials/quickstart/beginner.ipynb#scrollTo=h3IKyzTCDNGo\n",
        "that implements a 2-layer DNN for MNIST digit classification. The DNN has a 784 (28x28) dimensional input, a 10-dimensional output (prediction probabilities for each of the 10 classes) and one hidden layer with 300 hidden neurons and ReLU activations. You will implement your attacks and defenses on this baseline DNN.\n",
        "\n",
        "* **FGSM based untargeted attacks**: Your first goal is to implement FGSM based untargeted attacks using images from the test set on the baseline DNN. That is, your goal is to adversarially perturb each image in the test set using the following values of parameter $\\epsilon$ = {1, 5, 10, 20, 30, 40, 50}/255 assuming pixel values are normalized in the range [0,1]. Report the success rate of your attack, i.e., the fraction of test images that were\n",
        "correctly classified by the baseline DNN that are mis-classified after adversarial perturbation, as a function of $\\epsilon$.\n",
        "\n",
        "* **FGSM based targeted attacks**: Next, you will repeat Step 1 above, except this time perform targeted attacks where digit i is classified as (i+1)%10 on the baseline DNN. (Here, i refers to the true ground-truth label of the test images, and you can assume that the attacker has access to these labels.) As before, use the following values of the parameter $\\epsilon$ = {1, 5, 10, 20, 30, 40, 50}/255. Report the attack’s success rate as a function of parameter $\\epsilon$, where success rate is defined as the fraction of test images that were correctly classified by the baseline DNN that are mis-classified after adversarial perturbations with label (i+1)%10.\n",
        "\n",
        "* **Adversarial Retraining against Untargeted FGSM Attacks**: For this step, you can assume $\\epsilon$ = 10/255 throughout. To defend against adversarial perturbations, the defender adversarially perturbs each image in her training set using the attacker’s strategy in Step 1. She then appends the adversarially perturbed images to her training set, but using their correct labels. Then, the defender retrains the baseline DNN with a new training dataset containing both images from the original training dataset and the new adversarially perturbed images. We call the new DNN the adversarially retrained DNN.\n",
        "\n",
        "  *  Report the classification accuracy of the adversarially retrained DNN on the original test dataset that contains only clean inputs.\n",
        "  * Is the adversarially retrained DNN robust against adversarial perturbations?\n",
        "Implement FGSM based untargeted attacks using images from the clean test set on the adversarially retrained DNN. Report the success rate of your attack.\n",
        "\n",
        "* **Challenge**: Finally, you will all compete in an adversarial attack challenge. You are free to use any adversarial attack detection procedure to implement untargeted attacks on a 2-layer baseline DNN. You are welcome to implement IFGSM or PGD attacks for example. For this problem you will simply submit your adversarially perturbed test images from the Fashion_MNIST dataset. The constraint is that the Root Mean Square Error averaged over all the images in the the original and modified datasets should be less than 5/255. assuming images are normalized to lie between [0,1].\n",
        "\n",
        "## What to Submit\n",
        "* Colab Notebook and its pdf format.\n",
        "* Please submit 1 Colab Notebook and 1 PDF file without zipping.\n",
        "* For the Challenge, please submit a file containing your adversarially modified test images\n",
        "\n"
      ]
    },
    {
      "cell_type": "markdown",
      "metadata": {
        "id": "oj26NHKtS89o"
      },
      "source": [
        "https://nextjournal.com/gkoehler/pytorch-mnist\n",
        "\n",
        "https://pytorch.org/tutorials/beginner/fgsm_tutorial.html\n",
        "\n",
        "https://towardsdatascience.com/know-your-enemy-the-fascinating-implications-of-adversarial-examples-5936bccb24af\n",
        "\n",
        "https://towardsdatascience.com/know-your-enemy-7f7c5038bdf3\n",
        "\n",
        "https://www.pyimagesearch.com/2020/10/19/adversarial-images-and-attacks-with-keras-and-tensorflow/\n",
        "\n",
        "https://www.pyimagesearch.com/2020/10/26/targeted-adversarial-attacks-with-keras-and-tensorflow/\n",
        "\n",
        "https://www.pyimagesearch.com/2020/10/19/adversarial-images-and-attacks-with-keras-and-tensorflow/\n",
        "\n",
        "https://www.pyimagesearch.com/2021/03/01/adversarial-attacks-with-fgsm-fast-gradient-sign-method/"
      ]
    },
    {
      "cell_type": "markdown",
      "metadata": {
        "id": "qLzFhn6JTxco"
      },
      "source": [
        "## Import packages and Get Data"
      ]
    },
    {
      "cell_type": "code",
      "metadata": {
        "id": "g8oT8bCITz7h"
      },
      "source": [
        "import numpy as np\n",
        "import torch\n",
        "import torch.nn as nn\n",
        "import torch.nn.functional as F\n",
        "import matplotlib.pyplot as plt\n",
        "import seaborn as sns\n",
        "from torchvision import datasets, transforms\n",
        "from torchvision.transforms import ToTensor\n",
        "from torch.utils.data import DataLoader\n",
        "from torch import nn, optim\n",
        "from torch.autograd import Variable\n",
        "from sklearn.metrics import confusion_matrix\n"
      ],
      "execution_count": 18,
      "outputs": []
    },
    {
      "cell_type": "code",
      "metadata": {
        "id": "lO5s6YWmwHq0"
      },
      "source": [
        "transform = transforms.Compose([transforms.ToTensor(),\n",
        "                              transforms.Normalize((0.5,), (0.5,)),\n",
        "                              ])"
      ],
      "execution_count": 2,
      "outputs": []
    },
    {
      "cell_type": "code",
      "metadata": {
        "id": "gMrEvka-U5Mq"
      },
      "source": [
        "train_data = datasets.MNIST(\n",
        "    root = 'data',\n",
        "    train = True,                         \n",
        "    transform = transform, \n",
        "    download = True,            \n",
        ")\n",
        "test_data = datasets.MNIST(\n",
        "    root = 'data', \n",
        "    train = False, \n",
        "    transform = transform\n",
        ")"
      ],
      "execution_count": 3,
      "outputs": []
    },
    {
      "cell_type": "code",
      "metadata": {
        "colab": {
          "base_uri": "https://localhost:8080/"
        },
        "id": "9EOjqQSUVSr1",
        "outputId": "083755c6-7455-4a60-9845-893253c80108"
      },
      "source": [
        "print(\"The train data size is: \", train_data.data.size())\n",
        "print(\"The test data size is: \", test_data.data.size())"
      ],
      "execution_count": 4,
      "outputs": [
        {
          "output_type": "stream",
          "name": "stdout",
          "text": [
            "The train data size is:  torch.Size([60000, 28, 28])\n",
            "The test data size is:  torch.Size([10000, 28, 28])\n"
          ]
        }
      ]
    },
    {
      "cell_type": "markdown",
      "metadata": {
        "id": "NpIoWW7wPWrJ"
      },
      "source": [
        "We will visualize the data"
      ]
    },
    {
      "cell_type": "code",
      "metadata": {
        "colab": {
          "base_uri": "https://localhost:8080/",
          "height": 482
        },
        "id": "bxwV1l3BPWAw",
        "outputId": "d173342b-7748-44e3-fb10-5477a91f95cc"
      },
      "source": [
        "figure = plt.figure(figsize=(10,8))\n",
        "cols, rows = 3,3\n",
        "for i in range(1, cols*rows+1):\n",
        "  index = torch.randint(len(train_data),size=(1,)).item()\n",
        "  img, label = train_data[index]\n",
        "  figure.add_subplot(rows, cols, i)\n",
        "  plt.title(\"true label: {}\".format(label))\n",
        "  plt.axis(\"off\")\n",
        "  plt.imshow(img.squeeze(), cmap=\"gray\")\n",
        "plt.show()"
      ],
      "execution_count": 5,
      "outputs": [
        {
          "output_type": "display_data",
          "data": {
            "image/png": "[encoded data removed]",
            "text/plain": [
              "<Figure size 720x576 with 9 Axes>"
            ]
          },
          "metadata": {
            "needs_background": "light"
          }
        }
      ]
    },
    {
      "cell_type": "markdown",
      "metadata": {
        "id": "tgqsdWQcRIJq"
      },
      "source": [
        "We need to prepare the dataloader for training"
      ]
    },
    {
      "cell_type": "code",
      "metadata": {
        "colab": {
          "base_uri": "https://localhost:8080/"
        },
        "id": "fqGjc0p8RLdL",
        "outputId": "549bba52-504a-4137-c4e7-662c77981479"
      },
      "source": [
        "loaders = {\n",
        "    'train':DataLoader(train_data,\n",
        "                       batch_size = 64,\n",
        "                       shuffle = True,\n",
        "                       ),\n",
        "    'test':DataLoader(test_data,\n",
        "                      batch_size = 64,\n",
        "                      shuffle = True),\n",
        "}\n",
        "loaders"
      ],
      "execution_count": 6,
      "outputs": [
        {
          "output_type": "execute_result",
          "data": {
            "text/plain": [
              "{'test': <torch.utils.data.dataloader.DataLoader at 0x7f3a935d6590>,\n",
              " 'train': <torch.utils.data.dataloader.DataLoader at 0x7f3a8f917f10>}"
            ]
          },
          "metadata": {},
          "execution_count": 6
        }
      ]
    },
    {
      "cell_type": "code",
      "metadata": {
        "colab": {
          "base_uri": "https://localhost:8080/"
        },
        "id": "ToPfc4yFWWGg",
        "outputId": "57ac0573-58c8-42b3-8110-cf821dbb6c53"
      },
      "source": [
        "dataiter = iter(loaders['train'])\n",
        "images, labels = dataiter.next()\n",
        "\n",
        "print(images.shape)\n",
        "print(labels.shape)"
      ],
      "execution_count": 7,
      "outputs": [
        {
          "output_type": "stream",
          "name": "stdout",
          "text": [
            "torch.Size([64, 1, 28, 28])\n",
            "torch.Size([64])\n"
          ]
        }
      ]
    },
    {
      "cell_type": "markdown",
      "metadata": {
        "id": "XJpidKHuSRvw"
      },
      "source": [
        "## Baseline DNN model\n",
        "The DNN has a 784 (28x28) dimensional input, a 10-dimensional output (prediction probabilities for each of the 10 classes) and one hidden layer with 300 hidden neurons and ReLU activations."
      ]
    },
    {
      "cell_type": "code",
      "metadata": {
        "id": "mY-oblAhzRv4",
        "colab": {
          "base_uri": "https://localhost:8080/"
        },
        "outputId": "a6df3594-5f84-4d75-c1b9-19a53e5cb62a"
      },
      "source": [
        "class DNN(nn.Module):\n",
        "  def __init__(self):\n",
        "    super(DNN, self).__init__()\n",
        "    self.DNNBlock = nn.Sequential(\n",
        "        # DNN has 28*28 dimensional input and one hidden layer with 300 neurons\n",
        "        nn.Linear(28*28, 300),\n",
        "        nn.ReLU(),\n",
        "        nn.Linear(300, 10),\n",
        "        nn.LogSoftmax(dim=1)\n",
        "    )\n",
        "  def forward(self, x):\n",
        "    # flatten the input to 784\n",
        "    x = x.view(x.shape[0],-1)\n",
        "    x = self.DNNBlock(x)\n",
        "    return x\n",
        "DNN = DNN()\n",
        "# ## we will print out the structure to see if it is correct\n",
        "print(DNN)"
      ],
      "execution_count": 8,
      "outputs": [
        {
          "output_type": "stream",
          "name": "stdout",
          "text": [
            "DNN(\n",
            "  (DNNBlock): Sequential(\n",
            "    (0): Linear(in_features=784, out_features=300, bias=True)\n",
            "    (1): ReLU()\n",
            "    (2): Linear(in_features=300, out_features=10, bias=True)\n",
            "    (3): LogSoftmax(dim=1)\n",
            "  )\n",
            ")\n"
          ]
        }
      ]
    },
    {
      "cell_type": "code",
      "metadata": {
        "id": "UUjxpxpcU7pV"
      },
      "source": [
        "loss_func = nn.NLLLoss()"
      ],
      "execution_count": 9,
      "outputs": []
    },
    {
      "cell_type": "markdown",
      "metadata": {
        "id": "kkf6U8lAUMzY"
      },
      "source": [
        "We will start to train the DNN model"
      ]
    },
    {
      "cell_type": "code",
      "metadata": {
        "colab": {
          "base_uri": "https://localhost:8080/"
        },
        "id": "wZT0Zbn7ULlS",
        "outputId": "dff34de6-02a4-4e2f-fe49-4767972b940c"
      },
      "source": [
        "optimizer = optim.Adam(DNN.parameters(), lr = 0.01) \n",
        "optimizer"
      ],
      "execution_count": 10,
      "outputs": [
        {
          "output_type": "execute_result",
          "data": {
            "text/plain": [
              "Adam (\n",
              "Parameter Group 0\n",
              "    amsgrad: False\n",
              "    betas: (0.9, 0.999)\n",
              "    eps: 1e-08\n",
              "    lr: 0.01\n",
              "    weight_decay: 0\n",
              ")"
            ]
          },
          "metadata": {},
          "execution_count": 10
        }
      ]
    },
    {
      "cell_type": "code",
      "metadata": {
        "colab": {
          "base_uri": "https://localhost:8080/"
        },
        "id": "ju7RXcnnVZct",
        "outputId": "058af206-3599-4511-b8ea-e1eeb0bac974"
      },
      "source": [
        "num_epochs = 10\n",
        "def train_DNN(num_epochs, model, loaders):\n",
        "  model.train()\n",
        "  model = model\n",
        "  loss_record = []\n",
        "  total_step = len(loaders['train'])\n",
        "  for epoch in range(num_epochs):\n",
        "    sum_loss = []\n",
        "    for i, (imgs, labels) in enumerate(loaders['train']):\n",
        "      optimizer.zero_grad()\n",
        "      x = Variable(imgs) # batch size is 64\n",
        "      y = Variable(labels) # batch size is 64\n",
        "      pred = model(x)\n",
        "      loss = loss_func(pred, y)    \n",
        "\n",
        "      \n",
        "      loss.backward()\n",
        "      optimizer.step()\n",
        "      sum_loss.append(loss.item())\n",
        "    final_loss = np.sum(sum_loss)/len(sum_loss)\n",
        "    loss_record.append(final_loss)\n",
        "    print('epoch:[{}/{}], loss:{:.4f}'.format(epoch+1, num_epochs,final_loss))\n",
        "  return loss_record\n",
        "\n",
        "loss = train_DNN(num_epochs, DNN, loaders)\n"
      ],
      "execution_count": 11,
      "outputs": [
        {
          "output_type": "stream",
          "name": "stdout",
          "text": [
            "epoch:[1/10], loss:0.3865\n",
            "epoch:[2/10], loss:0.2590\n",
            "epoch:[3/10], loss:0.2398\n",
            "epoch:[4/10], loss:0.2274\n",
            "epoch:[5/10], loss:0.2241\n",
            "epoch:[6/10], loss:0.2174\n",
            "epoch:[7/10], loss:0.2125\n",
            "epoch:[8/10], loss:0.2089\n",
            "epoch:[9/10], loss:0.2093\n",
            "epoch:[10/10], loss:0.2051\n"
          ]
        }
      ]
    },
    {
      "cell_type": "code",
      "metadata": {
        "id": "17D5l88sOuU2",
        "outputId": "b36b65a5-63dc-465d-ba93-d365237e4e54",
        "colab": {
          "base_uri": "https://localhost:8080/",
          "height": 279
        }
      },
      "source": [
        "plt.plot(range(1,11),loss)\n",
        "plt.xlabel(\"iteration\")\n",
        "plt.ylabel(\"loss\")\n",
        "plt.show()"
      ],
      "execution_count": 17,
      "outputs": [
        {
          "output_type": "display_data",
          "data": {
            "image/png": "[encoded data removed]",
            "text/plain": [
              "<Figure size 432x288 with 1 Axes>"
            ]
          },
          "metadata": {
            "needs_background": "light"
          }
        }
      ]
    },
    {
      "cell_type": "code",
      "metadata": {
        "id": "Ku2G8E2Ydz4f"
      },
      "source": [
        "def DNN_acc(model, loaders):\n",
        "  correct_count, all_count = 0, 0\n",
        "  y_pred = []\n",
        "  y_true = []\n",
        "  for img, label in loaders['test']:\n",
        "    for i in range(len(label)):\n",
        "      prob = DNN(img[i])\n",
        "      ps = torch.exp(prob)\n",
        "      probab = list(ps.detach().numpy()[0])\n",
        "      # print(probab)\n",
        "      pred_label = probab.index(max(probab))\n",
        "      true_label = label.numpy()[i]\n",
        "      y_pred.append(pred_label)\n",
        "      y_true.append(true_label)\n",
        "      \n",
        "      if(true_label==pred_label):\n",
        "        correct_count+=1\n",
        "      all_count+=1\n",
        "  return correct_count/all_count, y_pred, y_true"
      ],
      "execution_count": 12,
      "outputs": []
    },
    {
      "cell_type": "code",
      "metadata": {
        "id": "X7S4qJCWN4_e"
      },
      "source": [
        "acc, y_pred, y_test = DNN_acc(DNN, loaders)"
      ],
      "execution_count": 19,
      "outputs": []
    },
    {
      "cell_type": "code",
      "metadata": {
        "id": "c0KNBtTCOkt_",
        "outputId": "34514afe-b88c-472b-c15e-e68d7d4002f5",
        "colab": {
          "base_uri": "https://localhost:8080/"
        }
      },
      "source": [
        "print(\"The accuracy of DNN model is: \",acc)"
      ],
      "execution_count": 20,
      "outputs": [
        {
          "output_type": "stream",
          "name": "stdout",
          "text": [
            "The accuracy of DNN model is:  0.9386\n"
          ]
        }
      ]
    },
    {
      "cell_type": "code",
      "metadata": {
        "id": "XsJ1F1giPWPw",
        "outputId": "7cff68ef-8e61-46a3-b4c3-e32ddac6ba5f",
        "colab": {
          "base_uri": "https://localhost:8080/",
          "height": 337
        }
      },
      "source": [
        "cf_matrix = confusion_matrix(y_test, y_pred)\n",
        "ax = sns.heatmap(cf_matrix, annot=True, cmap='Blues', fmt='d')\n",
        "\n",
        "ax.set_title('Seaborn Confusion Matrix with labels\\n\\n');\n",
        "ax.set_xlabel('\\nPredicted Values')\n",
        "ax.set_ylabel('Actual Values ');\n",
        "plt.show()"
      ],
      "execution_count": 23,
      "outputs": [
        {
          "output_type": "display_data",
          "data": {
            "image/png": "[encoded data removed]",
            "text/plain": [
              "<Figure size 432x288 with 2 Axes>"
            ]
          },
          "metadata": {
            "needs_background": "light"
          }
        }
      ]
    },
    {
      "cell_type": "markdown",
      "metadata": {
        "id": "0SLKYlUFSWZg"
      },
      "source": [
        "## FGSM based untargeted attacks"
      ]
    },
    {
      "cell_type": "markdown",
      "metadata": {
        "id": "_HvB2nzrSbLP"
      },
      "source": [
        "## FGSM based targeted attacks"
      ]
    },
    {
      "cell_type": "markdown",
      "metadata": {
        "id": "AfhfxFJGSh0O"
      },
      "source": [
        "## Adversarial Retraining against Untargeted FGSM Attacks"
      ]
    },
    {
      "cell_type": "markdown",
      "metadata": {
        "id": "bsjbcPi2SuK5"
      },
      "source": [
        "## Challenge"
      ]
    }
  ]
}