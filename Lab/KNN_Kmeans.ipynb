{
  "nbformat": 4,
  "nbformat_minor": 0,
  "metadata": {
    "colab": {
      "name": "KNN_Kmeans.ipynb",
      "provenance": [],
      "authorship_tag": "ABX9TyOMCw6wOGUsFsaVDQ9wAvdQ",
      "include_colab_link": true
    },
    "kernelspec": {
      "name": "python3",
      "display_name": "Python 3"
    },
    "language_info": {
      "name": "python"
    }
  },
  "cells": [
    {
      "cell_type": "markdown",
      "metadata": {
        "id": "view-in-github",
        "colab_type": "text"
      },
      "source": [
        "<a href=\"https://colab.research.google.com/github/yeb2Binfang/ECE-GY-9163-ML-cyber/blob/main/Lab/KNN_Kmeans.ipynb\" target=\"_parent\"><img src=\"https://colab.research.google.com/assets/colab-badge.svg\" alt=\"Open In Colab\"/></a>"
      ]
    },
    {
      "cell_type": "markdown",
      "source": [
        ">[Clustering](#updateTitle=true&folderId=1lhj0T0yPibCAKPmTEkvoX4ct3Y8PWMfL&scrollTo=QerrWnNI3zw8)\n",
        "\n",
        ">>[KNN](#updateTitle=true&folderId=1lhj0T0yPibCAKPmTEkvoX4ct3Y8PWMfL&scrollTo=QerrWnNI3zw8)\n",
        "\n",
        ">>[Kmeans](#updateTitle=true&folderId=1lhj0T0yPibCAKPmTEkvoX4ct3Y8PWMfL&scrollTo=fwSK9C3r4duk)\n",
        "\n"
      ],
      "metadata": {
        "colab_type": "toc",
        "id": "W5Rfk2Nf-77w"
      }
    },
    {
      "cell_type": "markdown",
      "source": [
        "# Clustering\n",
        "\n",
        "关于聚类clustering，KNN和Kmeans是最重要的，我们要理解这两个算法，KNN是supervised algorithm， kmeans是unsupervised algorithm。\n",
        "\n",
        "## KNN\n",
        "\n",
        "K nearest neighbor. 我们要理解这个k是什么？这个k的意思是选择k个跟这个点最近的neighbors，也就是要计算距离，选择距离近的neighbors，然后看这些个neighbors中，属于哪一个类的neighbor更多，我们就assign这个新的新为哪一个类，所以在使用KNN时，我们一般会选择奇数，odd number为k的数值。所以呢，对k的选择是很重要的。\n",
        "\n",
        "KNN的model里面呢，其实是没有training的过程的，我们的\n",
        "\n",
        "clf.fit()\n",
        "\n",
        "里面参与的过程就是内存分配，把数据存下来，没有进行训练的过程，因为不需要\n",
        "\n",
        "这里我们来讲一下parameters\n",
        "* model parameter: 这是模型的参数，有训练得到\n",
        "* hyper paratemer: 这是我们人工设置的参数\n",
        "\n",
        "KNN是一个no parametric model，意思就是它的模型是没有参数的，也就是没有训练的过程。KNN有个hyper parameter，也就是k的选择\n",
        "\n",
        "这是一个非常简单的algorithm，非常容易理解\n",
        "\n",
        "<img src=\"https://user-images.githubusercontent.com/68700549/147421587-d602eccd-c86e-4517-844e-500cfc787ab8.png\"  width=\"600\" height=\"300\">\n"
      ],
      "metadata": {
        "id": "QerrWnNI3zw8"
      }
    },
    {
      "cell_type": "code",
      "execution_count": null,
      "metadata": {
        "id": "7yiqEr6v3Qmk"
      },
      "outputs": [],
      "source": [
        ""
      ]
    },
    {
      "cell_type": "markdown",
      "source": [
        "## Kmeans"
      ],
      "metadata": {
        "id": "fwSK9C3r4duk"
      }
    }
  ]
}