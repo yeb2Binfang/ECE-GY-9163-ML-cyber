{
  "nbformat": 4,
  "nbformat_minor": 0,
  "metadata": {
    "colab": {
      "name": "Lab1.ipynb",
      "provenance": [],
      "authorship_tag": "ABX9TyNIlSQGs+hu5E1xdZPAMx7r",
      "include_colab_link": true
    },
    "kernelspec": {
      "name": "python3",
      "display_name": "Python 3"
    },
    "language_info": {
      "name": "python"
    }
  },
  "cells": [
    {
      "cell_type": "markdown",
      "metadata": {
        "id": "view-in-github",
        "colab_type": "text"
      },
      "source": [
        "<a href=\"https://colab.research.google.com/github/yeb2Binfang/ECE-GY-9163-ML-cyber/blob/main/Lab/MLSec_Lab1.ipynb\" target=\"_parent\"><img src=\"https://colab.research.google.com/assets/colab-badge.svg\" alt=\"Open In Colab\"/></a>"
      ]
    },
    {
      "cell_type": "markdown",
      "metadata": {
        "id": "-V_0_tYWBYYu"
      },
      "source": [
        "# ECE-GY 9163 ML Cyber Lab1-Email spam filtering\n",
        "\n",
        "## Overview\n",
        "\n",
        "In this lab, you will design an e-mail spam filter using a Naive Bayes and SVM based classification on the ling-spam dataset. You will explore the impact of feature selection and compare the performance of different variants of an NB classifier and also implement your own SVM based classifier. (Note: You may use the scikitt learn classifiers to only compare the accuracy\n",
        "of their model to yours).\n",
        "\n",
        "## Dataset\n",
        "\n",
        "The ling-spam corpus contains e-mails from the Linguist mailing list categorized as either legitimate or spam emails. The corpus is divided into four sub-folders that contain the same emails that are pre-processed with/without lemmatization and with/without stop-word removal. The e-mails in each sub-folder partitioned into 10 \"folds.\"\n",
        "\n",
        "In this lab, we will use the first 9 folds from the ling-spam corpus as training data, and the $10^{th}$ fold as test data.\n",
        "\n",
        "## What you have to do\n",
        "\n",
        "You will implement your e-mail spam filters in Python. You are free to use any Python libraries that are relevant to the problem.\n",
        "\n",
        "* Download the ling-spam dataset from http://www.aueb.gr/users/ion/data/lingspam_public.tar.gz\n",
        "\n",
        "Please use the \"lingspam_public01' corpus with both lemmatization and stop-word enabled (under the lemm_stop folder).\n",
        "\n",
        "* Your first goal is to perform feature selection using the information gain (IG) metric. From the training data, select the top-N features for N = {10, 100, 1000}. Note that feature selection based on the IG metric only accounts for the occurrence of (and not frequency with which terms appear) in the dataset.\n",
        "\n",
        "* Next, implement the following classifiers:\n",
        "  * Bernoulli NB classifier with binary features;\n",
        "  * Multinomial NB with binary features, and\n",
        "  * Multinomial NB with term frequency (TF) features.\n",
        "\n",
        "* For each of the three classifiers above and for N = {10, 100, 1000} report the spam precision and spam recall. Spam precision is defined as the fraction of true spam e-mails among all e-mails predicted as spam, and spam recall is defined as fraction of true spam e-mails predicted as spam. Also report the latency of each model.\n",
        "* Design a Support Vector Machine (SVM) based spam filter. This problem is open ended: for instance, you can choose to use either BF or TF and any feature selection method. Note that you should NOT use the test dataset in picking the hyper-parameters of your spam filter, instead use cross-validation on the training dataset.\n",
        "\n",
        "Finally, we covered \"Adversarial Classification\" (https://dl.acm.org/citation.cfm?id=1014066), an approach to update NB based e-mail spam filters in response to attacks that try to evade a basic NB filter. You are expected to implement the techniques presented in this paper. More specifically, you can make the following assumptions:\n",
        "* The baseline NB classifier uses the **top-10** terms identified using the IG metric and using Boolean features.\n",
        "* The adversary uses the **ADD-WORDS** strategy. Adding a term to an email incurs unit cost. The attacker seeks to find the minimum cost solution such that each spam email in the test set gets classified as legitimate by the baseline NB classifier.\n",
        "* Update the baseline NB classifier in response to the attacker's strategy above. You can assume that the defender\n",
        "pays a unit price for both false positives and false negatives.\n",
        "\n",
        "## What to submit\n",
        "\n",
        "* Your Python code in the form of a Google Colab notebook. Please also include a PDF of your colab notebook.\n",
        "* Your Colab notebook should print:\n",
        "* a list of the top-10 words identified from Part (1) above, and\n",
        "* a list of spam precision and spam recall values for each of the three classifiers for N = {10, 100, 1000}. That is, your list should have 9 rows, one for each classifier and N combination.\n",
        "* For the SVM based spam filter, please describe your methodology, i.e., what kind of features you used, how many features you used and how you selected them, the parameters of the SVM and finally the precision and recall on\n",
        "the test dataset.\n",
        "* For Your Neural network model, please report on the model design, input parameters, number of layers, number\n",
        "of neurons in each layer and finally the accuracy and latency of the model.\n",
        "* For the adversarial attack, report the False Negative rate of the baseline NB classifier before and after the attacker's modifications to test emails. Also, report the average \"cost of the attacker's modifications, averaged\n",
        "over all spam emails in the test set. Finally, report the False Negative and False Positive rate of the updated NBclassifier."
      ]
    },
    {
      "cell_type": "markdown",
      "metadata": {
        "id": "nD8ZH3yoXWiX"
      },
      "source": [
        "## Import packages"
      ]
    },
    {
      "cell_type": "code",
      "metadata": {
        "id": "pJqfltNlBXgk"
      },
      "source": [
        "import numpy as np\n",
        "import pandas as pd\n",
        "import tarfile\n",
        "import os\n",
        "import string\n",
        "import re\n",
        "import operator\n",
        "import seaborn as sns\n",
        "import copy\n",
        "from sklearn.metrics import confusion_matrix\n",
        "from sklearn.metrics import accuracy_score\n",
        "from sklearn.metrics import recall_score\n",
        "from sklearn.metrics import precision_score\n",
        "from sklearn import svm\n",
        "from sklearn.model_selection import cross_val_score\n",
        "from sklearn.model_selection import cross_validate\n",
        "from sklearn.metrics import classification_report\n",
        "from sklearn.model_selection import GridSearchCV\n",
        "from sklearn.model_selection import KFold\n",
        "from sklearn.preprocessing import StandardScaler\n",
        "from sklearn.decomposition import PCA\n",
        "import matplotlib.pyplot as plt"
      ],
      "execution_count": 69,
      "outputs": []
    },
    {
      "cell_type": "markdown",
      "metadata": {
        "id": "aUJ11mx8Xbzk"
      },
      "source": [
        "## Load dataset and process data\n",
        "\n",
        "Here, we will use files that under lemm_stop folder"
      ]
    },
    {
      "cell_type": "code",
      "metadata": {
        "id": "hLKCAze6Y-je",
        "colab": {
          "base_uri": "https://localhost:8080/"
        },
        "outputId": "b8a125b7-3958-4389-daf1-f6ab068da8c0"
      },
      "source": [
        "!wget \"http://www.aueb.gr/users/ion/data/lingspam_public.tar.gz\" -O lingspam_public.tar.gz"
      ],
      "execution_count": 2,
      "outputs": [
        {
          "output_type": "stream",
          "name": "stdout",
          "text": [
            "--2021-11-01 18:53:47--  http://www.aueb.gr/users/ion/data/lingspam_public.tar.gz\n",
            "Resolving www.aueb.gr (www.aueb.gr)... 195.251.255.156\n",
            "Connecting to www.aueb.gr (www.aueb.gr)|195.251.255.156|:80... connected.\n",
            "HTTP request sent, awaiting response... 301 Moved Permanently\n",
            "Location: http://www2.aueb.gr/users/ion/data/lingspam_public.tar.gz [following]\n",
            "--2021-11-01 18:53:47--  http://www2.aueb.gr/users/ion/data/lingspam_public.tar.gz\n",
            "Resolving www2.aueb.gr (www2.aueb.gr)... 195.251.255.138\n",
            "Connecting to www2.aueb.gr (www2.aueb.gr)|195.251.255.138|:80... connected.\n",
            "HTTP request sent, awaiting response... 200 OK\n",
            "Length: 11564714 (11M) [application/x-gzip]\n",
            "Saving to: ‘lingspam_public.tar.gz’\n",
            "\n",
            "lingspam_public.tar 100%[===================>]  11.03M  5.63MB/s    in 2.0s    \n",
            "\n",
            "2021-11-01 18:53:49 (5.63 MB/s) - ‘lingspam_public.tar.gz’ saved [11564714/11564714]\n",
            "\n"
          ]
        }
      ]
    },
    {
      "cell_type": "code",
      "metadata": {
        "id": "VeXjzVm4ahj1"
      },
      "source": [
        "!tar -xvzf \"lingspam_public.tar.gz\""
      ],
      "execution_count": null,
      "outputs": []
    },
    {
      "cell_type": "markdown",
      "metadata": {
        "id": "lmeySJYWpz6Q"
      },
      "source": [
        "Lemmatisation: Lemmatisation (or lemmatization) in linguistics is the process of grouping together the inflected forms of a word so they can be analysed as a single item, identified by the word's lemma, or dictionary form. n many languages, words appear in several inflected forms. For example, in English, the verb 'to walk' may appear as 'walk', 'walked', 'walks' or 'walking'. The base form, 'walk', that one might look up in a dictionary, is called the lemma for the word. The association of the base form with a part of speech is often called a lexeme of the word."
      ]
    },
    {
      "cell_type": "markdown",
      "metadata": {
        "id": "D7iISbRgSYc6"
      },
      "source": [
        "We will use the lemm_stop dataset. There are 10 folders totally. We need to count how many spam emails and how many ham email. We will use it later to calculate the probability"
      ]
    },
    {
      "cell_type": "code",
      "metadata": {
        "id": "UT0Rh6w2TET7"
      },
      "source": [
        "lemm_stop = ['lingspam_public/lemm_stop/part1/', 'lingspam_public/lemm_stop/part2/', 'lingspam_public/lemm_stop/part3/',\n",
        "             'lingspam_public/lemm_stop/part4/', 'lingspam_public/lemm_stop/part5/', 'lingspam_public/lemm_stop/part6/',\n",
        "             'lingspam_public/lemm_stop/part7/', 'lingspam_public/lemm_stop/part8/', 'lingspam_public/lemm_stop/part9/',\n",
        "             'lingspam_public/lemm_stop/part10/']"
      ],
      "execution_count": 4,
      "outputs": []
    },
    {
      "cell_type": "markdown",
      "metadata": {
        "id": "UjAG-5Onlkh0"
      },
      "source": [
        "processData function will process all txt data. The function will return a nested dict finally. It will remove all \"\\n\",\"\\t\" and all punctuation such as '!\"#$%&'()*+,-./:;<=>?@[\\]^_`{|}~'. Finally, the txt data will become a list. For example: ['hello','world']. For each email, it will be put to a nest fict. Here, we have 10 folders totally, the final result for this function is \n",
        "\n",
        "{\n",
        "  \n",
        "\"lingspam_public/lemm_stop/part1\":\n",
        "\n",
        "{\n",
        "  \n",
        "\"3-565msg2.txt\":[],\n",
        "\n",
        "\"3-1msg1.txt\":[],...\n",
        "\n",
        "}\n",
        "\n",
        "}\n",
        "\n"
      ]
    },
    {
      "cell_type": "code",
      "metadata": {
        "id": "vYBPjxXRWpCN"
      },
      "source": [
        "def processData(dir_list):\n",
        "  all_data = {}\n",
        "  for dir in dir_list:\n",
        "     all_data[dir]={} # a nested dict\n",
        "     file_list = os.listdir(dir) # list all files in a dir   \n",
        "     for file_name in file_list: # go through all files   \n",
        "        f = open(dir+file_name, \"r\")\n",
        "        data = f.read()\n",
        "        data = data.lower() # make all letters to lowercase\n",
        "        data = data.replace('\\n','') # remove all next_line\n",
        "        data = data.replace('\\t','') # remove all tag\n",
        "        data = data.replace(\"subject\",'') # remove subject, it exists all emails, that is why we remove it.\n",
        "        data = re.sub(r\"\\d+\", \"\", data) # remove numbers, for example, \"123abc\" -> \"abc\"\n",
        "        punctuation_string = string.punctuation # remove all punctuation such as !\"#$%&'()*+,-./:;<=>?@[\\]^_`{|}~\n",
        "        for i in punctuation_string:\n",
        "          data = data.replace(i,'')\n",
        "        data = data.split(' ')\n",
        "        data = ' '.join(data).split()\n",
        "        \n",
        "        all_data[dir][file_name] = data # add to dict\n",
        "        f.close()\n",
        "  return all_data"
      ],
      "execution_count": 5,
      "outputs": []
    },
    {
      "cell_type": "code",
      "metadata": {
        "id": "hmPO5cWjnkrR"
      },
      "source": [
        "all_data = processData(lemm_stop)"
      ],
      "execution_count": 6,
      "outputs": []
    },
    {
      "cell_type": "code",
      "metadata": {
        "colab": {
          "base_uri": "https://localhost:8080/"
        },
        "id": "bGPyrmVmiQ2g",
        "outputId": "6b3d0ba8-08a2-46d9-d2e0-e842093c77cd"
      },
      "source": [
        "## Show one example here to see what does data look like\n",
        "## print one list\n",
        "print(all_data['lingspam_public/lemm_stop/part10/']['9-878msg1.txt'][0:20])"
      ],
      "execution_count": 7,
      "outputs": [
        {
          "output_type": "stream",
          "name": "stdout",
          "text": [
            "['conf', 'computerm', 'workshop', 'colingacl', 'computerm', 'workshop', 'announcement', 'first', 'workshop', 'computational', 'terminology', 'august', 'after', 'colingacl', 'where', 'university', 'montreal', 'montreal', 'quebec', 'canada']\n"
          ]
        }
      ]
    },
    {
      "cell_type": "markdown",
      "metadata": {
        "id": "H0IX7R_lK1r9"
      },
      "source": [
        "We need to get the feature list"
      ]
    },
    {
      "cell_type": "code",
      "metadata": {
        "id": "50jyJbbpK2zr"
      },
      "source": [
        "def getFeatureList(dir_list, all_data):\n",
        "  feature_list = []\n",
        "  for dir in dir_list:\n",
        "    file_list = os.listdir(dir) # list all files in a dir  \n",
        "    for file_name in file_list: # go through all files   \n",
        "      for item in all_data[dir][file_name]:\n",
        "        if item not in feature_list:\n",
        "          feature_list.append(item)\n",
        "  return feature_list"
      ],
      "execution_count": 8,
      "outputs": []
    },
    {
      "cell_type": "code",
      "metadata": {
        "id": "2JPxH74cQaKf"
      },
      "source": [
        "feature_list = getFeatureList(lemm_stop, all_data)"
      ],
      "execution_count": 9,
      "outputs": []
    },
    {
      "cell_type": "code",
      "metadata": {
        "id": "GUqWJ6F9Qfhe",
        "colab": {
          "base_uri": "https://localhost:8080/"
        },
        "outputId": "9c99034d-3aa0-4a18-9182-cd32191976af"
      },
      "source": [
        "print(\"we have {} features in total.\".format(len(feature_list)))"
      ],
      "execution_count": 10,
      "outputs": [
        {
          "output_type": "stream",
          "name": "stdout",
          "text": [
            "we have 53207 features in total.\n"
          ]
        }
      ]
    },
    {
      "cell_type": "markdown",
      "metadata": {
        "id": "gEUhPvTriSCW"
      },
      "source": [
        "We already process data. We need to separate spam email and ham email list"
      ]
    },
    {
      "cell_type": "code",
      "metadata": {
        "id": "6dXobsqZiRKE"
      },
      "source": [
        "def separateSpamAndHam(dir_list, all_data):\n",
        "  spam_email_dict = {}\n",
        "  ham_email_dict = {}\n",
        "  for dir in dir_list:\n",
        "    file_list = os.listdir(dir) # list all files in a dir  \n",
        "    for file_name in file_list: # go through all files\n",
        "      \n",
        "      if 'spm' in file_name:\n",
        "        spam_email_dict[file_name]=all_data[dir][file_name]\n",
        "      else:\n",
        "        ham_email_dict[file_name]=all_data[dir][file_name]\n",
        "  return spam_email_dict, ham_email_dict"
      ],
      "execution_count": 11,
      "outputs": []
    },
    {
      "cell_type": "code",
      "metadata": {
        "id": "HRnl0Ki1nGox"
      },
      "source": [
        "spam_email_dict, ham_email_dict = separateSpamAndHam(lemm_stop, all_data)"
      ],
      "execution_count": 12,
      "outputs": []
    },
    {
      "cell_type": "code",
      "metadata": {
        "id": "DANgV-x4SUMK",
        "colab": {
          "base_uri": "https://localhost:8080/"
        },
        "outputId": "575d2175-0878-4768-b204-288a15115c57"
      },
      "source": [
        "print(spam_email_dict['spmsga11.txt'])"
      ],
      "execution_count": 13,
      "outputs": [
        {
          "output_type": "stream",
          "name": "stdout",
          "text": [
            "['challengedesk', 'robert', 'g', 'allen', 'dear', 'nlpeople', 'first', 'let', 'ask', 'question', 'want', 'build', 'extra', 'stream', 'income', 'yes', 'let', 'show', 'begin', 'live', 'dream', 'instead', 'wait', 'until', 's', 'too', 'late', 'interest', 'please', 'forgive', 'intrusion', 'delete', 'letter', 'contact', 'again', 'letterhead', 'name', 'robert', 'allen', 'm', 'book', 'nothe', 'down', 'creat', 'wealth', 'york', 'best', 'seller', 'recent', 'audio', 'program', 'road', 'wealth', 'multiple', 'stream', 'income', 'accord', 'independent', 'research', 'book', 'program', 'create', 'hundred', 'millionaire', 'third', 'book', 'call', 'challenge', 's', 'true', 'story', 'select', 'woman', 'unemployment', 'line', 'teach', 'success', 'secret', 'ninety', 'day', 'later', 'earn', 'earn', 'm', 'work', 'next', 'challenge', 'call', 'multiple', 'stream', 'income', 'challenge', 'here', 's', 'challenge', 'test', 'select', 'small', 'group', 'teach', 'brand', 'earn', 'extra', 'stream', 'income', 'want', 'work', 'next', 'challenge', 'join', 'work', 'team', 'highly', 'successful', 'our', 'financial', 'success', 'tie', 'directly', 'successful', 'successful', 's', 'simple', 'nt', 'want', 're', 'really', 'add', 'extra', 'stream', 'income', 'therefore', 've', 'record', 'message', 'hour', 'voice', 'mail', 'number', 'basic', 'information', 'here', 's', 'number', 'access', 'fax', 'machine', 'call', 'our', 'fax', 'demand', 'complete', 'overview', 'our', 'company', 'check', 'our', 'web', 'site', 'www', 'usana', 'com', 'call', 'hotline', 'number', 'retrieve', 'fax', 'check', 'web', 'site', 'today', 'glad', 'someone', 'contact', 'information', 'join', 'please', 'send', 'request', 'plumb', 'aristotle', 'net', 'someone', 'respond', 'soon', 'possible', 'wish', 'contact', 'phone', 'please', 'include', 'phone', 'number', 'area', 'code', 'massive', 'success', 'bob', 'allen']\n"
          ]
        }
      ]
    },
    {
      "cell_type": "markdown",
      "metadata": {
        "id": "nIDhlzcPqCj2"
      },
      "source": [
        "## Information gain calculation\n",
        "\n",
        "We can measure \"information\" which measures the reduction in entropy or surprise by splitting a dataset according to a given value of a random variable.Here, it is a bernoulli process and the result has two variables $X\\in \\{0,1\\}$ where 0 is ham email and 1 is spam email. We assume that $P(X=1)=p$. We can calculate H(X). The formula is below\n",
        "$$\n",
        "H(X)=-plog(p)-(1-p)log(1-p)\n",
        "$$\n",
        "where $p$ is the prior probability of spam email. \n",
        "\n",
        "So we need to count how many spam and ham emails in the dataset.\n"
      ]
    },
    {
      "cell_type": "code",
      "metadata": {
        "id": "9Z4uITZvqHMf"
      },
      "source": [
        "def countTheNumberOfHamAndSpam(dir_list):\n",
        "  count_spam = 0\n",
        "  count_ham = 0\n",
        "  for dir in dir_list:\n",
        "    file_list = os.listdir(dir) # list all files in a dir \n",
        "    for file_name in file_list: \n",
        "      if 'spm' in file_name:\n",
        "        count_spam+=1\n",
        "      else:\n",
        "        count_ham+=1\n",
        "  return count_spam, count_ham"
      ],
      "execution_count": 14,
      "outputs": []
    },
    {
      "cell_type": "code",
      "metadata": {
        "id": "Q5gCANLSGYPl"
      },
      "source": [
        "count_spam, count_ham = countTheNumberOfHamAndSpam(lemm_stop)"
      ],
      "execution_count": 15,
      "outputs": []
    },
    {
      "cell_type": "code",
      "metadata": {
        "id": "s-yo1CB3HT_1",
        "colab": {
          "base_uri": "https://localhost:8080/"
        },
        "outputId": "13baffa4-e6d0-4011-f74e-cac0b2c3d36f"
      },
      "source": [
        "## print out the number of spam and ham emails\n",
        "print(\"We have {} spam emails, and {} ham emails totally\".format(count_spam, count_ham))"
      ],
      "execution_count": 16,
      "outputs": [
        {
          "output_type": "stream",
          "name": "stdout",
          "text": [
            "We have 481 spam emails, and 2412 ham emails totally\n"
          ]
        }
      ]
    },
    {
      "cell_type": "code",
      "metadata": {
        "id": "o053bA0Ol6uo",
        "colab": {
          "base_uri": "https://localhost:8080/",
          "height": 351
        },
        "outputId": "2ed0aec2-3936-4c7d-bb2b-42fa9d20218d"
      },
      "source": [
        "# creating the dataset\n",
        "d_value = {'Spam':481, 'Ham':2412}\n",
        "email_types = list(d_value.keys())\n",
        "values = list(d_value.values())\n",
        "  \n",
        "fig = plt.figure(figsize = (10, 5))\n",
        " \n",
        "# creating the bar plot\n",
        "plt.bar(email_types, values, color ='blue',\n",
        "        width = 0.4)\n",
        " \n",
        "plt.xlabel(\"email_types\")\n",
        "plt.ylabel(\"Count\")\n",
        "plt.title(\"distribution of dataset\")\n",
        "plt.show()"
      ],
      "execution_count": 17,
      "outputs": [
        {
          "output_type": "display_data",
          "data": {
            "image/png": "[encoded data removed]",
            "text/plain": [
              "<Figure size 720x360 with 1 Axes>"
            ]
          },
          "metadata": {
            "needs_background": "light"
          }
        }
      ]
    },
    {
      "cell_type": "markdown",
      "metadata": {
        "id": "kqbdlWo_j3Uq"
      },
      "source": [
        "For each word, we need to count how many spam emails containing the word and how many ham emails containing the same word. We need to use these numbers to calculate the probability later. We already separate spam and ham email above. We got two dicts and we can go through them and count."
      ]
    },
    {
      "cell_type": "code",
      "metadata": {
        "id": "chRv3flRkHWC"
      },
      "source": [
        "def countWordsInSpamAndHam(wordSet, dict):\n",
        "  word_count = {}\n",
        "  for word in wordSet:\n",
        "    count = 0\n",
        "    for key in dict:\n",
        "      if word in dict[key]:\n",
        "        count+=1\n",
        "    word_count[word] = count\n",
        "  return word_count "
      ],
      "execution_count": 18,
      "outputs": []
    },
    {
      "cell_type": "code",
      "metadata": {
        "id": "ySb8b4CXn5tJ"
      },
      "source": [
        "spam_word_count = countWordsInSpamAndHam(feature_list, spam_email_dict)\n",
        "ham_word_count = countWordsInSpamAndHam(feature_list, ham_email_dict)"
      ],
      "execution_count": 19,
      "outputs": []
    },
    {
      "cell_type": "code",
      "metadata": {
        "id": "FVAjRYU_oK3t",
        "colab": {
          "base_uri": "https://localhost:8080/"
        },
        "outputId": "23c9367c-4f10-4496-dbe5-41ea98910d72"
      },
      "source": [
        "print(len(ham_word_count))"
      ],
      "execution_count": 20,
      "outputs": [
        {
          "output_type": "stream",
          "name": "stdout",
          "text": [
            "53207\n"
          ]
        }
      ]
    },
    {
      "cell_type": "markdown",
      "metadata": {
        "id": "N1hRV_ObJesV"
      },
      "source": [
        "Here, we can calculate H(X). We probably need to use Laplacian smoothing here because we need to calculate the probability."
      ]
    },
    {
      "cell_type": "code",
      "metadata": {
        "id": "J5E2V6-NH9m8",
        "colab": {
          "base_uri": "https://localhost:8080/"
        },
        "outputId": "b962c501-e2ef-4590-c7a5-bd1b475a26bb"
      },
      "source": [
        "p_spam = (count_spam+1)/(count_spam+count_ham+2)\n",
        "H_p_spam = -p_spam*np.log(p_spam)-(1-p_spam)*np.log((1-p_spam))\n",
        "print(\"The H(X) is {}:\".format(H_p_spam))"
      ],
      "execution_count": 21,
      "outputs": [
        {
          "output_type": "stream",
          "name": "stdout",
          "text": [
            "The H(X) is 0.45028313289981026:\n"
          ]
        }
      ]
    },
    {
      "cell_type": "markdown",
      "metadata": {
        "id": "0fVY3hM3U4-E"
      },
      "source": [
        "For a specific word, we can calculate the information gain too. The formula is \n",
        "$$\n",
        "IG(C,X_i)=H(C)-H(C|X_i)\n",
        "$$\n",
        "\n",
        "We have calculated $H(C)$ above, which is H(X). And the larger $IG(C,X_i)$, the better classified variable \n",
        "\n",
        "Here, we need to calculate $H(C|X_i)$.\n",
        "\n",
        "We have the formula\n",
        "$$\n",
        "\\begin{gathered}\n",
        "H(C|X_i)=-\\sum_x P(X_i=x)H(C|X=x)\\\\\n",
        "=\\sum_{x,c}P(X_i=x,C=c)log(P(C=x|X_i=x)\\\\\n",
        "=\\sum_{c\\in \\{\\text{spam, legit}\\}} \\sum_{x\\in \\{0,1\\}}P(X_i=x,C=c)log(P(C=x|X_i=x))\n",
        "\\end{gathered}\n",
        "$$\n",
        "\n",
        "where $P(X_i=x,C=c)=P(X_i=x|C=c)\\times P(C=c)$\n",
        "\n",
        "and $P(C=x|X_i=x)=\\frac{P(X_i=x|C=c)\\times P(C=c)}{P(X_i=x)}$\n",
        "\n",
        "Here, $P(X_i=x)$ means, for example, when $P(X_i=0)$, it means how manny emails that do not contain the word divide by total number of emails.\n",
        "\n",
        "Let's explain this.\n",
        "\n",
        "for example\n",
        "\n",
        "we need to calculate $H(C|x_i)$. Then we have\n",
        "$$\n",
        "\\begin{gathered}\n",
        "H(C|x_i)=P(c=spam,x_i=0)\\times log(P(c=spam|x_i=0))\\\\\n",
        "+P(c=spam,x_i=1)\\times log(P(c=spam|x_i=1))\\\\\n",
        "+P(c=ham,x_i=0)\\times log(P(c=ham|x_i=0))\\\\\n",
        "+P(c=ham,x_i=1)\\times log(P(c=ham|x_i=1))\n",
        "\\end{gathered}\n",
        "$$\n",
        "\n",
        "When we calculate IG, we need to use Lapalcian smoothing."
      ]
    },
    {
      "cell_type": "code",
      "metadata": {
        "id": "5QkO8JDjKSIj"
      },
      "source": [
        "def calIGForEachWord(wordSet, count_ham, count_spam, spam_word_count, ham_word_count, H_p_spam):\n",
        "  IG_dict = {} # to record IG for each word\n",
        "  for word in wordSet:\n",
        "    total = count_ham + count_spam # total number of emails\n",
        "    spam_word = spam_word_count[word] # numer of spam emails contain this specific word\n",
        "    ham_word = ham_word_count[word] # numer of ham emails contain this specific word\n",
        "\n",
        "    IG_word = (-1) * (((count_spam-spam_word+1)/(count_spam+2)) * ((count_spam+1)/(total+2)) * \n",
        "                      np.log(((count_spam-spam_word+1)/(count_spam+2)) * ((count_spam+1)/(total+2))/((total-spam_word-ham_word+1)/(total+2))) # P(c=spam, x=0) log(P(c=spam|x=0))\n",
        "                  + ((spam_word+1)/(count_spam+2)) * ((count_spam+1)/(total+2)) * \n",
        "                      np.log(((spam_word+1)/(count_spam+2)) * ((count_spam+1)/(total+2))/((spam_word+ham_word+1)/(total+2))) # P(c=spam, x=1) log(P(c=spam|x=1))\n",
        "                  + ((count_ham-ham_word+1)/(count_ham+2)) * ((count_ham+1)/(total+2)) *\n",
        "                      np.log(((count_ham-ham_word+1)/(count_ham+2)) * ((count_ham+1)/(total+2))/((total-spam_word-ham_word+1)/(total+2))) # P(c=ham, x=0) log(P(c=ham|x=0))\n",
        "                  + ((ham_word+1)/(count_ham+2)) * ((count_ham+1)/(total+2)) * \n",
        "                      np.log(((ham_word+1)/(count_ham+2)) * ((count_ham+1)/(total+2))/((spam_word+ham_word+1)/(total+2)))) # P(c=ham, x=1) log(P(c=ham|x=1))\n",
        "      \n",
        "    IG_dict[word] = H_p_spam - IG_word # H(C) - H(C|X_i)\n",
        "  return IG_dict     "
      ],
      "execution_count": 22,
      "outputs": []
    },
    {
      "cell_type": "code",
      "metadata": {
        "id": "oNqaogQc5vh4"
      },
      "source": [
        "IG_dict = calIGForEachWord(feature_list, count_ham, count_spam, spam_word_count, ham_word_count, H_p_spam)"
      ],
      "execution_count": 23,
      "outputs": []
    },
    {
      "cell_type": "markdown",
      "metadata": {
        "id": "vRIegAo-CkPg"
      },
      "source": [
        "After we calculate the IG for each word, we need to sort them in descending order. We need to select the larger value."
      ]
    },
    {
      "cell_type": "code",
      "metadata": {
        "id": "X798MYdPAl0N"
      },
      "source": [
        "IG_dict_sorted = dict(sorted(IG_dict.items(), key=operator.itemgetter(1),reverse=True))"
      ],
      "execution_count": 24,
      "outputs": []
    },
    {
      "cell_type": "markdown",
      "metadata": {
        "id": "_6_zA8uGDykA"
      },
      "source": [
        "Here, we will select top {10, 100, 1000} words based on the IG calculation result."
      ]
    },
    {
      "cell_type": "code",
      "metadata": {
        "id": "ymh8dxt6BQG-"
      },
      "source": [
        "top_10_words = {}\n",
        "top_100_words = {}\n",
        "top_1000_words = {}\n",
        "\n",
        "i=0\n",
        "j=0\n",
        "k=0\n",
        "for key in IG_dict_sorted.keys():\n",
        "  if i<10:\n",
        "    i+=1\n",
        "    top_10_words[key] = IG_dict_sorted[key]\n",
        "  \n",
        "  if j<100:\n",
        "    j+=1\n",
        "    top_100_words[key] = IG_dict_sorted[key]\n",
        "  \n",
        "  if k<1000:\n",
        "    k+=1\n",
        "    top_1000_words[key] = IG_dict_sorted[key]"
      ],
      "execution_count": 25,
      "outputs": []
    },
    {
      "cell_type": "code",
      "metadata": {
        "id": "7NOeri4uH_3h"
      },
      "source": [
        "# get all words\n",
        "all_of_words = {}\n",
        "for key in IG_dict_sorted.keys():\n",
        "  all_of_words[key] = IG_dict_sorted[key]"
      ],
      "execution_count": 26,
      "outputs": []
    },
    {
      "cell_type": "code",
      "metadata": {
        "id": "6mrtcrUXFeSI",
        "colab": {
          "base_uri": "https://localhost:8080/"
        },
        "outputId": "ed01a5f9-c22c-42b7-c1c0-4e54a3f06933"
      },
      "source": [
        "# print out top 10 words and check their IG values\n",
        "for key in top_10_words.keys():\n",
        "  print(key, top_10_words[key])"
      ],
      "execution_count": 27,
      "outputs": [
        {
          "output_type": "stream",
          "name": "stdout",
          "text": [
            "language 0.14326012650087844\n",
            "remove 0.11330213365324149\n",
            "free 0.10568069639925093\n",
            "university 0.10561860619065228\n",
            "linguistic 0.10286155209981812\n",
            "money 0.07516328678905015\n",
            "click 0.06857733773076702\n",
            "our 0.05895458386952379\n",
            "today 0.05450011637777258\n",
            "sell 0.05364248242586378\n"
          ]
        }
      ]
    },
    {
      "cell_type": "code",
      "metadata": {
        "colab": {
          "base_uri": "https://localhost:8080/",
          "height": 351
        },
        "id": "ZDWn0RU2BonS",
        "outputId": "354d88e8-5606-4a21-ba75-8a92d86a60c1"
      },
      "source": [
        "# We can also visualize them\n",
        "top_10_IG_words = list(top_10_words.keys())\n",
        "top_10_IG_words_values = list(top_10_words.values())\n",
        "\n",
        "top_100_IG_words = list(top_100_words.keys())\n",
        "top_1000_IG_words = list(top_1000_words.keys())\n",
        "  \n",
        "fig = plt.figure(figsize = (10, 5))\n",
        " \n",
        "# creating the bar plot\n",
        "plt.bar(top_10_IG_words, top_10_IG_words_values, color ='blue',\n",
        "        width = 0.4)\n",
        " \n",
        "plt.xlabel(\"top_10_IG_words\")\n",
        "plt.ylabel(\"top_10_IG_words_values\")\n",
        "plt.title(\"list top 10 IG words\")\n",
        "plt.show()"
      ],
      "execution_count": 28,
      "outputs": [
        {
          "output_type": "display_data",
          "data": {
            "image/png": "[encoded data removed]",
            "text/plain": [
              "<Figure size 720x360 with 1 Axes>"
            ]
          },
          "metadata": {
            "needs_background": "light"
          }
        }
      ]
    },
    {
      "cell_type": "markdown",
      "metadata": {
        "id": "wixmntIoGEBt"
      },
      "source": [
        "## Implement classifiers\n",
        "\n",
        "Here, we need to implement three NB classifiers.\n",
        "\n",
        "  * Bernoulli NB classifier with binary features;\n",
        "  * Multinomial NB with binary features, and\n",
        "  * Multinomial NB with term frequency (TF) features."
      ]
    },
    {
      "cell_type": "markdown",
      "metadata": {
        "id": "nmJE02CSJGnX"
      },
      "source": [
        "### Build data\n",
        "Before we build the classifers, we need to get the train data and test data. We need to create both binary features and feature frequency features. We need to create top {10, 100, 1000} features."
      ]
    },
    {
      "cell_type": "code",
      "metadata": {
        "id": "KbXxFHpBI_8E",
        "colab": {
          "base_uri": "https://localhost:8080/"
        },
        "outputId": "58ae6e99-aa5e-46a9-968c-6b4833f9b63a"
      },
      "source": [
        "train_lemm_stop = lemm_stop[0:9]\n",
        "test_lemm_stop = ['lingspam_public/lemm_stop/part10/']\n",
        "print(test_lemm_stop)"
      ],
      "execution_count": 29,
      "outputs": [
        {
          "output_type": "stream",
          "name": "stdout",
          "text": [
            "['lingspam_public/lemm_stop/part10/']\n"
          ]
        }
      ]
    },
    {
      "cell_type": "code",
      "metadata": {
        "id": "y7EIR7LFKGN7"
      },
      "source": [
        "def generateData(top_N_words, email_dict):\n",
        "  feature_list = []\n",
        "  if top_N_words==10:\n",
        "    feature_list = list(top_10_words.keys())\n",
        "  elif top_N_words==100:\n",
        "    feature_list = list(top_100_words.keys())\n",
        "  elif top_N_words==1000:\n",
        "    feature_list = list(top_1000_words.keys())\n",
        "  else:\n",
        "    feature_list = list(all_of_words.keys())\n",
        "\n",
        "  data_binary = []\n",
        "  data_TF = []\n",
        "  for key in email_dict.keys():\n",
        "    temp_dict_binary = dict.fromkeys(feature_list, 0)\n",
        "    temp_dict_TF = dict.fromkeys(feature_list, 0)\n",
        "    for word in email_dict[key]:\n",
        "      if word in feature_list:\n",
        "        temp_dict_binary[word] = 1\n",
        "        temp_dict_TF[word] = email_dict[key].count(word)\n",
        "\n",
        "\n",
        "    if 'spm' in key:\n",
        "      temp_dict_binary['spam_or_ham_label'] = 1\n",
        "      temp_dict_TF['spam_or_ham_label'] = 1\n",
        "    else:\n",
        "      temp_dict_binary['spam_or_ham_label'] = 0\n",
        "      temp_dict_TF['spam_or_ham_label'] = 0\n",
        "\n",
        "    data_binary.append(temp_dict_binary)\n",
        "    data_TF.append(temp_dict_TF)\n",
        "  return data_binary, data_TF"
      ],
      "execution_count": 30,
      "outputs": []
    },
    {
      "cell_type": "code",
      "metadata": {
        "id": "PWh8el-yVQmK"
      },
      "source": [
        "train_spam_email_dict, train_ham_email_dict = separateSpamAndHam(train_lemm_stop, all_data)\n",
        "test_spam_email_dict, test_ham_email_dict = separateSpamAndHam(test_lemm_stop, all_data)"
      ],
      "execution_count": 31,
      "outputs": []
    },
    {
      "cell_type": "markdown",
      "metadata": {
        "id": "L_ONY9I6rFPe"
      },
      "source": [
        "Create top {10, 100, 1000} binary features and TF features"
      ]
    },
    {
      "cell_type": "code",
      "metadata": {
        "id": "wCnR3YPFRxG0"
      },
      "source": [
        "# top 10\n",
        "train_data_10_binary_feature_spam, train_data_10_TF_feature_spam = generateData(10, train_spam_email_dict)\n",
        "train_data_10_binary_feature_ham, train_data_10_TF_feature_ham = generateData(10, train_ham_email_dict)\n",
        "train_data_10_binary_feature = train_data_10_binary_feature_spam + train_data_10_binary_feature_ham\n",
        "train_data_10_TF_feature = train_data_10_TF_feature_spam + train_data_10_TF_feature_ham\n",
        "\n",
        "test_data_10_binary_feature_spam, test_data_10_TF_feature_spam = generateData(10, test_spam_email_dict)\n",
        "test_data_10_binary_feature_ham, test_data_10_TF_feature_ham = generateData(10, test_ham_email_dict)\n",
        "test_data_10_binary_feature = test_data_10_binary_feature_spam + test_data_10_binary_feature_ham\n",
        "test_data_10_TF_feature = test_data_10_TF_feature_spam + test_data_10_TF_feature_ham\n",
        "\n",
        "# top 100\n",
        "train_data_100_binary_feature_spam, train_data_100_TF_feature_spam = generateData(100, train_spam_email_dict)\n",
        "train_data_100_binary_feature_ham, train_data_100_TF_feature_ham = generateData(100, train_ham_email_dict)\n",
        "train_data_100_binary_feature = train_data_100_binary_feature_spam + train_data_100_binary_feature_ham\n",
        "train_data_100_TF_feature = train_data_100_TF_feature_spam + train_data_100_TF_feature_ham\n",
        "\n",
        "test_data_100_binary_feature_spam, test_data_100_TF_feature_spam = generateData(100, test_spam_email_dict)\n",
        "test_data_100_binary_feature_ham, test_data_100_TF_feature_ham = generateData(100, test_ham_email_dict)\n",
        "test_data_100_binary_feature = test_data_100_binary_feature_spam + test_data_100_binary_feature_ham\n",
        "test_data_100_TF_feature = test_data_100_TF_feature_spam + test_data_100_TF_feature_ham\n",
        "\n",
        "# top 1000\n",
        "train_data_1000_binary_feature_spam, train_data_1000_TF_feature_spam = generateData(1000, train_spam_email_dict)\n",
        "train_data_1000_binary_feature_ham, train_data_1000_TF_feature_ham = generateData(1000, train_ham_email_dict)\n",
        "train_data_1000_binary_feature = train_data_1000_binary_feature_spam + train_data_1000_binary_feature_ham\n",
        "train_data_1000_TF_feature = train_data_1000_TF_feature_spam + train_data_1000_TF_feature_ham\n",
        "\n",
        "test_data_1000_binary_feature_spam, test_data_1000_TF_feature_spam = generateData(1000, test_spam_email_dict)\n",
        "test_data_1000_binary_feature_ham, test_data_1000_TF_feature_ham = generateData(1000, test_ham_email_dict)\n",
        "test_data_1000_binary_feature = test_data_1000_binary_feature_spam + test_data_1000_binary_feature_ham\n",
        "test_data_1000_TF_feature = test_data_1000_TF_feature_spam + test_data_1000_TF_feature_ham"
      ],
      "execution_count": 32,
      "outputs": []
    },
    {
      "cell_type": "code",
      "metadata": {
        "id": "tA-O8u1-U9zn",
        "colab": {
          "base_uri": "https://localhost:8080/"
        },
        "outputId": "6af29c98-aa53-4fef-e493-f17e04aa5310"
      },
      "source": [
        "print(len(train_data_10_binary_feature))\n",
        "print(len(test_data_10_binary_feature))"
      ],
      "execution_count": 33,
      "outputs": [
        {
          "output_type": "stream",
          "name": "stdout",
          "text": [
            "2602\n",
            "291\n"
          ]
        }
      ]
    },
    {
      "cell_type": "code",
      "metadata": {
        "colab": {
          "base_uri": "https://localhost:8080/"
        },
        "id": "3LwoF90SPVqp",
        "outputId": "4eda9bd6-a7b5-4fb3-a21e-4f07974e496e"
      },
      "source": [
        "print(len(train_data_10_TF_feature))"
      ],
      "execution_count": null,
      "outputs": [
        {
          "output_type": "stream",
          "name": "stdout",
          "text": [
            "2602\n"
          ]
        }
      ]
    },
    {
      "cell_type": "markdown",
      "metadata": {
        "id": "ElvEaexGQ335"
      },
      "source": [
        "Show the TF features"
      ]
    },
    {
      "cell_type": "code",
      "metadata": {
        "colab": {
          "base_uri": "https://localhost:8080/",
          "height": 202
        },
        "id": "_8mRtQ8DPpT7",
        "outputId": "75522057-04a8-48e8-8041-e153e73a70d8"
      },
      "source": [
        "df_train_TF = pd.DataFrame.from_dict(train_data_10_TF_feature)\n",
        "df_train_TF.head()"
      ],
      "execution_count": null,
      "outputs": [
        {
          "output_type": "execute_result",
          "data": {
            "text/html": [
              "<div>\n",
              "<style scoped>\n",
              "    .dataframe tbody tr th:only-of-type {\n",
              "        vertical-align: middle;\n",
              "    }\n",
              "\n",
              "    .dataframe tbody tr th {\n",
              "        vertical-align: top;\n",
              "    }\n",
              "\n",
              "    .dataframe thead th {\n",
              "        text-align: right;\n",
              "    }\n",
              "</style>\n",
              "<table border=\"1\" class=\"dataframe\">\n",
              "  <thead>\n",
              "    <tr style=\"text-align: right;\">\n",
              "      <th></th>\n",
              "      <th>language</th>\n",
              "      <th>remove</th>\n",
              "      <th>free</th>\n",
              "      <th>university</th>\n",
              "      <th>linguistic</th>\n",
              "      <th>money</th>\n",
              "      <th>click</th>\n",
              "      <th>our</th>\n",
              "      <th>today</th>\n",
              "      <th>sell</th>\n",
              "      <th>spam_or_ham_label</th>\n",
              "    </tr>\n",
              "  </thead>\n",
              "  <tbody>\n",
              "    <tr>\n",
              "      <th>0</th>\n",
              "      <td>0</td>\n",
              "      <td>0</td>\n",
              "      <td>2</td>\n",
              "      <td>0</td>\n",
              "      <td>0</td>\n",
              "      <td>2</td>\n",
              "      <td>0</td>\n",
              "      <td>0</td>\n",
              "      <td>0</td>\n",
              "      <td>0</td>\n",
              "      <td>1</td>\n",
              "    </tr>\n",
              "    <tr>\n",
              "      <th>1</th>\n",
              "      <td>0</td>\n",
              "      <td>0</td>\n",
              "      <td>4</td>\n",
              "      <td>0</td>\n",
              "      <td>0</td>\n",
              "      <td>21</td>\n",
              "      <td>0</td>\n",
              "      <td>8</td>\n",
              "      <td>3</td>\n",
              "      <td>4</td>\n",
              "      <td>1</td>\n",
              "    </tr>\n",
              "    <tr>\n",
              "      <th>2</th>\n",
              "      <td>0</td>\n",
              "      <td>0</td>\n",
              "      <td>4</td>\n",
              "      <td>0</td>\n",
              "      <td>0</td>\n",
              "      <td>0</td>\n",
              "      <td>8</td>\n",
              "      <td>0</td>\n",
              "      <td>0</td>\n",
              "      <td>0</td>\n",
              "      <td>1</td>\n",
              "    </tr>\n",
              "    <tr>\n",
              "      <th>3</th>\n",
              "      <td>0</td>\n",
              "      <td>4</td>\n",
              "      <td>1</td>\n",
              "      <td>0</td>\n",
              "      <td>0</td>\n",
              "      <td>3</td>\n",
              "      <td>0</td>\n",
              "      <td>6</td>\n",
              "      <td>2</td>\n",
              "      <td>0</td>\n",
              "      <td>1</td>\n",
              "    </tr>\n",
              "    <tr>\n",
              "      <th>4</th>\n",
              "      <td>0</td>\n",
              "      <td>0</td>\n",
              "      <td>0</td>\n",
              "      <td>0</td>\n",
              "      <td>0</td>\n",
              "      <td>0</td>\n",
              "      <td>0</td>\n",
              "      <td>1</td>\n",
              "      <td>0</td>\n",
              "      <td>0</td>\n",
              "      <td>1</td>\n",
              "    </tr>\n",
              "  </tbody>\n",
              "</table>\n",
              "</div>"
            ],
            "text/plain": [
              "   language  remove  free  university  ...  our  today  sell  spam_or_ham_label\n",
              "0         0       0     2           0  ...    0      0     0                  1\n",
              "1         0       0     4           0  ...    8      3     4                  1\n",
              "2         0       0     4           0  ...    0      0     0                  1\n",
              "3         0       4     1           0  ...    6      2     0                  1\n",
              "4         0       0     0           0  ...    1      0     0                  1\n",
              "\n",
              "[5 rows x 11 columns]"
            ]
          },
          "metadata": {},
          "execution_count": 35
        }
      ]
    },
    {
      "cell_type": "markdown",
      "metadata": {
        "id": "axVL0OTiQ6EM"
      },
      "source": [
        "Show the binary features"
      ]
    },
    {
      "cell_type": "code",
      "metadata": {
        "id": "jC-7Tr3qUH96",
        "colab": {
          "base_uri": "https://localhost:8080/",
          "height": 202
        },
        "outputId": "d3585674-9df1-498b-aa42-ba52086d8750"
      },
      "source": [
        "df_train_binary = pd.DataFrame.from_dict(train_data_10_binary_feature)\n",
        "df_train_binary.head()"
      ],
      "execution_count": null,
      "outputs": [
        {
          "output_type": "execute_result",
          "data": {
            "text/html": [
              "<div>\n",
              "<style scoped>\n",
              "    .dataframe tbody tr th:only-of-type {\n",
              "        vertical-align: middle;\n",
              "    }\n",
              "\n",
              "    .dataframe tbody tr th {\n",
              "        vertical-align: top;\n",
              "    }\n",
              "\n",
              "    .dataframe thead th {\n",
              "        text-align: right;\n",
              "    }\n",
              "</style>\n",
              "<table border=\"1\" class=\"dataframe\">\n",
              "  <thead>\n",
              "    <tr style=\"text-align: right;\">\n",
              "      <th></th>\n",
              "      <th>language</th>\n",
              "      <th>remove</th>\n",
              "      <th>free</th>\n",
              "      <th>university</th>\n",
              "      <th>linguistic</th>\n",
              "      <th>money</th>\n",
              "      <th>click</th>\n",
              "      <th>our</th>\n",
              "      <th>today</th>\n",
              "      <th>sell</th>\n",
              "      <th>spam_or_ham_label</th>\n",
              "    </tr>\n",
              "  </thead>\n",
              "  <tbody>\n",
              "    <tr>\n",
              "      <th>0</th>\n",
              "      <td>0</td>\n",
              "      <td>0</td>\n",
              "      <td>0</td>\n",
              "      <td>0</td>\n",
              "      <td>0</td>\n",
              "      <td>1</td>\n",
              "      <td>0</td>\n",
              "      <td>1</td>\n",
              "      <td>0</td>\n",
              "      <td>0</td>\n",
              "      <td>1</td>\n",
              "    </tr>\n",
              "    <tr>\n",
              "      <th>1</th>\n",
              "      <td>0</td>\n",
              "      <td>0</td>\n",
              "      <td>0</td>\n",
              "      <td>0</td>\n",
              "      <td>0</td>\n",
              "      <td>0</td>\n",
              "      <td>0</td>\n",
              "      <td>0</td>\n",
              "      <td>0</td>\n",
              "      <td>0</td>\n",
              "      <td>1</td>\n",
              "    </tr>\n",
              "    <tr>\n",
              "      <th>2</th>\n",
              "      <td>0</td>\n",
              "      <td>0</td>\n",
              "      <td>1</td>\n",
              "      <td>0</td>\n",
              "      <td>0</td>\n",
              "      <td>1</td>\n",
              "      <td>0</td>\n",
              "      <td>0</td>\n",
              "      <td>0</td>\n",
              "      <td>0</td>\n",
              "      <td>1</td>\n",
              "    </tr>\n",
              "    <tr>\n",
              "      <th>3</th>\n",
              "      <td>0</td>\n",
              "      <td>1</td>\n",
              "      <td>1</td>\n",
              "      <td>0</td>\n",
              "      <td>0</td>\n",
              "      <td>0</td>\n",
              "      <td>0</td>\n",
              "      <td>1</td>\n",
              "      <td>0</td>\n",
              "      <td>0</td>\n",
              "      <td>1</td>\n",
              "    </tr>\n",
              "    <tr>\n",
              "      <th>4</th>\n",
              "      <td>0</td>\n",
              "      <td>1</td>\n",
              "      <td>0</td>\n",
              "      <td>0</td>\n",
              "      <td>0</td>\n",
              "      <td>1</td>\n",
              "      <td>1</td>\n",
              "      <td>1</td>\n",
              "      <td>0</td>\n",
              "      <td>0</td>\n",
              "      <td>1</td>\n",
              "    </tr>\n",
              "  </tbody>\n",
              "</table>\n",
              "</div>"
            ],
            "text/plain": [
              "   language  remove  free  university  ...  our  today  sell  spam_or_ham_label\n",
              "0         0       0     0           0  ...    1      0     0                  1\n",
              "1         0       0     0           0  ...    0      0     0                  1\n",
              "2         0       0     1           0  ...    0      0     0                  1\n",
              "3         0       1     1           0  ...    1      0     0                  1\n",
              "4         0       1     0           0  ...    1      0     0                  1\n",
              "\n",
              "[5 rows x 11 columns]"
            ]
          },
          "metadata": {},
          "execution_count": 38
        }
      ]
    },
    {
      "cell_type": "markdown",
      "metadata": {
        "id": "Q6O4XTz-IG60"
      },
      "source": [
        "### Bernoulli NB with binary features\n",
        "\n",
        "For Bernoulli NB with binary features, we have m attributes $F=\\{t_1,\\cdots, t_m\\}$ in the dataset. We need to calculate the probability of occurace of each word, which is $p(t_i|c)$. For each message, we can get\n",
        "$$\n",
        "p(\\overrightarrow{x}|c)=\\prod_{i=1}^m p(t_i|c)^{x_i} (1-p(t_i|c))^{(1-x_i)}\n",
        "$$\n",
        "\n",
        "where $x_i\\in \\{0,1\\}$, which means occur or not.\n",
        "\n",
        "And the formula of judging the message is spam or not is shown below:\n",
        "$$\n",
        "\\frac{p(c_s)\\prod_{i=1}^m p(t_i|c_s)^{x_i}(1-p(t_i|c_s))^{(1-x_i)}}{\\sum_{c\\in \\{c_s,c_h\\}}p(c)\\prod_{i=1}^m p(t_i|c)^{x_i}(1-p(t_i|c))^{(1-x_i)}}>T\n",
        "$$\n",
        "\n",
        "where $T$ is the threshold. But we do not know the threshold here. We probably can calculate a ratio here.\n",
        "\n",
        "$$\n",
        "\\begin{gathered}\n",
        "\\frac{\\frac{p(c_s)\\prod_{i=1}^m p(t_i|c_s)^{x_i}(1-p(t_i|c_s))^{(1-x_i)}}{\\sum_{c\\in \\{c_s,c_h\\}}p(c)\\prod_{i=1}^m p(t_i|c)^{x_i}(1-p(t_i|c))^{(1-x_i)}}}{\\frac{p(c_h)\\prod_{i=1}^m p(t_i|c_h)^{x_i}(1-p(t_i|c_h))^{(1-x_i)}}{\\sum_{c\\in \\{c_s,c_h\\}}p(c)\\prod_{i=1}^m p(t_i|c)^{x_i}(1-p(t_i|c))^{(1-x_i)}}}=\\frac{p(c_s)\\prod_{i=1}^m p(t_i|c_s)^{x_i}(1-p(t_i|c_s))^{(1-x_i)}}{p(c_h)\\prod_{i=1}^m p(t_i|c_h)^{x_i}(1-p(t_i|c_h))^{(1-x_i)}}\n",
        "\\end{gathered}\n",
        "$$\n",
        "If the ratio is greater than 1, then it is a spam, less than otherwise. The way we calculate $p(t|c)$ is \n",
        "$$\n",
        "p(t|c)=\\frac{1+M_{t,c}}{2+M_c}\n",
        "$$\n",
        "\n",
        "We need to apply Laplacian smoothing here when we calculate it.\n",
        "\n",
        "Here, $M_{t,c}$ means in class $c$, how many emails contain token $t$. $M_c$ means how many emails are in class $c$"
      ]
    },
    {
      "cell_type": "code",
      "metadata": {
        "id": "exupEu-FIZTS"
      },
      "source": [
        "def BernoulliNBWithBinaryFeatures(top_N_features, email, numOfSpam, numOfHam, spam_word_count, ham_word_count):\n",
        "  p_spam = (numOfSpam+1)/(numOfSpam+numOfHam+2)\n",
        "  p_ham = (numOfHam+1)/(numOfSpam+numOfHam+2)\n",
        "\n",
        "  p_spam_numerator = 1\n",
        "  p_ham_denumerator = 1\n",
        "  for i, x_i in enumerate(email):\n",
        "    p_word_given_spam = (1+spam_word_count[top_N_features[i]])/(2+numOfSpam)\n",
        "    p_word_given_ham = (1+ham_word_count[top_N_features[i]])/(2+numOfHam)\n",
        "\n",
        "    p_spam_numerator = p_spam_numerator * np.power(p_word_given_spam, x_i) * np.power((1-p_word_given_spam), (1-x_i))\n",
        "    p_ham_denumerator = p_ham_denumerator * np.power(p_word_given_ham, x_i) * np.power((1-p_word_given_ham), (1-x_i))\n",
        "\n",
        "  pred = p_spam_numerator/p_ham_denumerator\n",
        "\n",
        "  if pred>1:\n",
        "    return 1 # 1 is spam\n",
        "  else:\n",
        "    return 0 # 0 is ham"
      ],
      "execution_count": 34,
      "outputs": []
    },
    {
      "cell_type": "markdown",
      "metadata": {
        "id": "ydn88yCl7Zzy"
      },
      "source": [
        "Top 10 features"
      ]
    },
    {
      "cell_type": "code",
      "metadata": {
        "id": "0uzEqOCl10C-"
      },
      "source": [
        "test_data_10_binary_feature_list = []\n",
        "for item in test_data_10_binary_feature:\n",
        "  test_data_10_binary_feature_list.append(list(item.values()))"
      ],
      "execution_count": 35,
      "outputs": []
    },
    {
      "cell_type": "code",
      "metadata": {
        "id": "WlQoOiyT3bwA"
      },
      "source": [
        "test_data_10_binary_feature_pred_result = []\n",
        "test_data_10_binary_feature_true_label = []\n",
        "for email in test_data_10_binary_feature_list:\n",
        "  test_data_10_binary_feature_pred_result.append(BernoulliNBWithBinaryFeatures(top_10_IG_words, email[0:9], count_spam, count_ham, spam_word_count, ham_word_count))\n",
        "  test_data_10_binary_feature_true_label.append(email[-1])"
      ],
      "execution_count": 36,
      "outputs": []
    },
    {
      "cell_type": "code",
      "metadata": {
        "colab": {
          "base_uri": "https://localhost:8080/",
          "height": 297
        },
        "id": "Xtrq5A0M43HZ",
        "outputId": "2ef816c7-6cb0-4cbf-be85-571094a85894"
      },
      "source": [
        "cf_matrix = confusion_matrix(test_data_10_binary_feature_true_label, test_data_10_binary_feature_pred_result)\n",
        "plt.title(\"confusion matirx of top 10 features with binary features\") \n",
        "sns.heatmap(cf_matrix, annot=True, fmt='d')"
      ],
      "execution_count": null,
      "outputs": [
        {
          "output_type": "execute_result",
          "data": {
            "text/plain": [
              "<matplotlib.axes._subplots.AxesSubplot at 0x7f9c6a0c6ed0>"
            ]
          },
          "metadata": {},
          "execution_count": 46
        },
        {
          "output_type": "display_data",
          "data": {
            "image/png": "[encoded data removed]",
            "text/plain": [
              "<Figure size 432x288 with 2 Axes>"
            ]
          },
          "metadata": {
            "needs_background": "light"
          }
        }
      ]
    },
    {
      "cell_type": "code",
      "metadata": {
        "colab": {
          "base_uri": "https://localhost:8080/"
        },
        "id": "ERdsLJTt7nXO",
        "outputId": "0674115c-f70f-464e-c2ae-3eeb636156fc"
      },
      "source": [
        "acc_top_10_bernoulli = accuracy_score(test_data_10_binary_feature_true_label, test_data_10_binary_feature_pred_result)\n",
        "recall_top_10_bernoulli = recall_score(test_data_10_binary_feature_true_label, test_data_10_binary_feature_pred_result, average='binary')\n",
        "precision_top_10_bernoulli = precision_score(test_data_10_binary_feature_true_label, test_data_10_binary_feature_pred_result, average='binary')\n",
        "\n",
        "print(\"The accuracy of bernoulli NB classifier is {}\".format(acc_top_10_bernoulli))\n",
        "print(\"The spam recall is {}\".format(recall_top_10_bernoulli))\n",
        "print(\"The spam precision is {}\".format(precision_top_10_bernoulli))"
      ],
      "execution_count": null,
      "outputs": [
        {
          "output_type": "stream",
          "name": "stdout",
          "text": [
            "The accuracy of bernoulli NB classifier is 0.9518900343642611\n",
            "The spam recall is 0.8571428571428571\n",
            "The spam precision is 0.8571428571428571\n"
          ]
        }
      ]
    },
    {
      "cell_type": "markdown",
      "metadata": {
        "id": "ruBSF3wi-aDi"
      },
      "source": [
        "Top 100 features"
      ]
    },
    {
      "cell_type": "code",
      "metadata": {
        "id": "usQVS017-gHS"
      },
      "source": [
        "test_data_100_binary_feature_list = []\n",
        "for item in test_data_100_binary_feature:\n",
        "  test_data_100_binary_feature_list.append(list(item.values()))"
      ],
      "execution_count": null,
      "outputs": []
    },
    {
      "cell_type": "code",
      "metadata": {
        "id": "39x_8N9S-uDk"
      },
      "source": [
        "test_data_100_binary_feature_pred_result = []\n",
        "test_data_100_binary_feature_true_label = []\n",
        "for email in test_data_100_binary_feature_list:\n",
        "  test_data_100_binary_feature_pred_result.append(BernoulliNBWithBinaryFeatures(top_100_IG_words, email[0:99], count_spam, count_ham, spam_word_count, ham_word_count))\n",
        "  test_data_100_binary_feature_true_label.append(email[-1])"
      ],
      "execution_count": null,
      "outputs": []
    },
    {
      "cell_type": "code",
      "metadata": {
        "colab": {
          "base_uri": "https://localhost:8080/",
          "height": 297
        },
        "id": "I7amwstg-5PX",
        "outputId": "cc6c33d7-3f4f-43fb-aa2a-69eb414407e7"
      },
      "source": [
        "cf_matrix = confusion_matrix(test_data_100_binary_feature_true_label, test_data_100_binary_feature_pred_result)\n",
        "plt.title(\"confusion matirx of top 100 features with binary features\") \n",
        "sns.heatmap(cf_matrix, annot=True, fmt='d')"
      ],
      "execution_count": null,
      "outputs": [
        {
          "output_type": "execute_result",
          "data": {
            "text/plain": [
              "<matplotlib.axes._subplots.AxesSubplot at 0x7f9c6201b990>"
            ]
          },
          "metadata": {},
          "execution_count": 50
        },
        {
          "output_type": "display_data",
          "data": {
            "image/png": "[encoded data removed]",
            "text/plain": [
              "<Figure size 432x288 with 2 Axes>"
            ]
          },
          "metadata": {
            "needs_background": "light"
          }
        }
      ]
    },
    {
      "cell_type": "code",
      "metadata": {
        "colab": {
          "base_uri": "https://localhost:8080/"
        },
        "id": "lBTp-FMj_B0M",
        "outputId": "495ca464-26ec-4ccc-e7a8-1e2a2e985fe6"
      },
      "source": [
        "acc_top_100_bernoulli = accuracy_score(test_data_100_binary_feature_true_label, test_data_100_binary_feature_pred_result)\n",
        "recall_top_100_bernoulli = recall_score(test_data_100_binary_feature_true_label, test_data_100_binary_feature_pred_result, average='binary')\n",
        "precision_top_100_bernoulli = precision_score(test_data_100_binary_feature_true_label, test_data_100_binary_feature_pred_result, average='binary')\n",
        "\n",
        "print(\"The accuracy of bernoulli NB classifier is {}\".format(acc_top_100_bernoulli))\n",
        "print(\"The spam recall is {}\".format(recall_top_100_bernoulli))\n",
        "print(\"The spam precision is {}\".format(precision_top_100_bernoulli))"
      ],
      "execution_count": null,
      "outputs": [
        {
          "output_type": "stream",
          "name": "stdout",
          "text": [
            "The accuracy of bernoulli NB classifier is 0.9656357388316151\n",
            "The spam recall is 0.7959183673469388\n",
            "The spam precision is 1.0\n"
          ]
        }
      ]
    },
    {
      "cell_type": "markdown",
      "metadata": {
        "id": "AZfz1XqB_MU1"
      },
      "source": [
        "top 1000 features"
      ]
    },
    {
      "cell_type": "code",
      "metadata": {
        "id": "XMdvpRw-_R0l"
      },
      "source": [
        "test_data_1000_binary_feature_list = []\n",
        "for item in test_data_1000_binary_feature:\n",
        "  test_data_1000_binary_feature_list.append(list(item.values()))"
      ],
      "execution_count": null,
      "outputs": []
    },
    {
      "cell_type": "code",
      "metadata": {
        "colab": {
          "base_uri": "https://localhost:8080/"
        },
        "id": "VHdLVVmB_WWX",
        "outputId": "f7694848-4ded-4951-d357-a66cec608585"
      },
      "source": [
        "test_data_1000_binary_feature_pred_result = []\n",
        "test_data_1000_binary_feature_true_label = []\n",
        "for email in test_data_1000_binary_feature_list:\n",
        "  test_data_1000_binary_feature_pred_result.append(BernoulliNBWithBinaryFeatures(top_1000_IG_words, email[0:999], count_spam, count_ham, spam_word_count, ham_word_count))\n",
        "  test_data_1000_binary_feature_true_label.append(email[-1])"
      ],
      "execution_count": null,
      "outputs": [
        {
          "output_type": "stream",
          "name": "stderr",
          "text": [
            "/usr/local/lib/python3.7/dist-packages/ipykernel_launcher.py:14: RuntimeWarning: divide by zero encountered in double_scalars\n",
            "  \n"
          ]
        }
      ]
    },
    {
      "cell_type": "code",
      "metadata": {
        "colab": {
          "base_uri": "https://localhost:8080/",
          "height": 297
        },
        "id": "kasGNPf5_dWl",
        "outputId": "dd5f4103-bdda-4df5-ada0-f1039d9eaddd"
      },
      "source": [
        "cf_matrix = confusion_matrix(test_data_1000_binary_feature_true_label, test_data_1000_binary_feature_pred_result)\n",
        "plt.title(\"confusion matirx of top 1000 features with binary features\") \n",
        "sns.heatmap(cf_matrix, annot=True, fmt='d')"
      ],
      "execution_count": null,
      "outputs": [
        {
          "output_type": "execute_result",
          "data": {
            "text/plain": [
              "<matplotlib.axes._subplots.AxesSubplot at 0x7f9c61f59090>"
            ]
          },
          "metadata": {},
          "execution_count": 54
        },
        {
          "output_type": "display_data",
          "data": {
            "image/png": "[encoded data removed]",
            "text/plain": [
              "<Figure size 432x288 with 2 Axes>"
            ]
          },
          "metadata": {
            "needs_background": "light"
          }
        }
      ]
    },
    {
      "cell_type": "code",
      "metadata": {
        "colab": {
          "base_uri": "https://localhost:8080/"
        },
        "id": "cnckAOZ2_iB8",
        "outputId": "3e003adf-78ee-46f1-8fe0-52c223de1afa"
      },
      "source": [
        "acc_top_1000_bernoulli = accuracy_score(test_data_1000_binary_feature_true_label, test_data_1000_binary_feature_pred_result)\n",
        "recall_top_1000_bernoulli = recall_score(test_data_1000_binary_feature_true_label, test_data_1000_binary_feature_pred_result, average='binary')\n",
        "precision_top_1000_bernoulli = precision_score(test_data_1000_binary_feature_true_label, test_data_1000_binary_feature_pred_result, average='binary')\n",
        "\n",
        "print(\"The accuracy of bernoulli NB classifier is {}\".format(acc_top_1000_bernoulli))\n",
        "print(\"The spam recall is {}\".format(recall_top_1000_bernoulli))\n",
        "print(\"The spam precision is {}\".format(precision_top_1000_bernoulli))"
      ],
      "execution_count": null,
      "outputs": [
        {
          "output_type": "stream",
          "name": "stdout",
          "text": [
            "The accuracy of bernoulli NB classifier is 0.9656357388316151\n",
            "The spam recall is 0.7959183673469388\n",
            "The spam precision is 1.0\n"
          ]
        }
      ]
    },
    {
      "cell_type": "markdown",
      "metadata": {
        "id": "949NphYvILvD"
      },
      "source": [
        "### Multinomial NB with binary features\n",
        "\n",
        "This classifier ignores the negative evidence.\n",
        "\n",
        "We need to know the formula\n",
        "\n",
        "$$\n",
        "\\frac{p(c_s)\\prod_{i=1}^m p(t_i|c_s)^{x_i}}{\\sum_{c\\in \\{c_s,c_h\\}}p(c)\\prod_{i=1}^m p(t_i|c)^{x_i}}\n",
        "$$\n",
        "\n",
        "Here, we still need to calculate $p(t|c)=\\frac{1+M_{t,c}}{m+M_{c}}$. $m$ means how many features in total. $M_{t,c}$ means in class $c$, how many emails contain token $t$. $M_c$ means how many emails are in class $c$.\n",
        "\n",
        "Finally, we can calculate a ratio to decide which class it belongs to."
      ]
    },
    {
      "cell_type": "code",
      "metadata": {
        "id": "wCj7b-r2BCKj"
      },
      "source": [
        "def multinomialNBWithBinary(top_N_features, email, numOfSpam, numOfHam, spam_word_count, ham_word_count):\n",
        "  p_spam = (numOfSpam+1)/(numOfSpam+numOfHam+2)\n",
        "  p_ham = (numOfHam+1)/(numOfSpam+numOfHam+2)\n",
        "\n",
        "  p_spam_numerator = 1\n",
        "  p_ham_denumerator = 1\n",
        "\n",
        "  for i, x_i in enumerate(email):\n",
        "    p_word_given_spam = (1+spam_word_count[top_N_features[i]])/(len(top_N_features)+numOfSpam)\n",
        "    p_word_given_ham = (1+ham_word_count[top_N_features[i]])/(len(top_N_features)+numOfHam)\n",
        "\n",
        "    p_spam_numerator = p_spam_numerator * np.power(p_word_given_spam, x_i)\n",
        "    p_ham_denumerator = p_ham_denumerator * np.power(p_word_given_ham, x_i)\n",
        "\n",
        "  pred = p_spam_numerator/p_ham_denumerator\n",
        "  if pred>1:\n",
        "    return 1 # 1 is spam\n",
        "  else:\n",
        "    return 0 # 0 is ham\n"
      ],
      "execution_count": null,
      "outputs": []
    },
    {
      "cell_type": "markdown",
      "metadata": {
        "id": "e_2S1VKOF2eQ"
      },
      "source": [
        "top 10 features"
      ]
    },
    {
      "cell_type": "code",
      "metadata": {
        "id": "ZPMaxUkvFwJ6"
      },
      "source": [
        "test_data_10_binary_feature_multinomial_pred_result = []\n",
        "for email in test_data_10_binary_feature_list:\n",
        "  test_data_10_binary_feature_multinomial_pred_result.append(multinomialNBWithBinary(top_10_IG_words, email[0:9], count_spam, count_ham, spam_word_count, ham_word_count))"
      ],
      "execution_count": null,
      "outputs": []
    },
    {
      "cell_type": "code",
      "metadata": {
        "colab": {
          "base_uri": "https://localhost:8080/",
          "height": 297
        },
        "id": "DuvWYFRmGlFj",
        "outputId": "faaeb45e-c1d3-4784-b656-f535a70ebe37"
      },
      "source": [
        "cf_matrix = confusion_matrix(test_data_10_binary_feature_true_label, test_data_10_binary_feature_multinomial_pred_result)\n",
        "plt.title(\"confusion matirx of top 10 features with binary features\") \n",
        "sns.heatmap(cf_matrix, annot=True, fmt='d')"
      ],
      "execution_count": null,
      "outputs": [
        {
          "output_type": "execute_result",
          "data": {
            "text/plain": [
              "<matplotlib.axes._subplots.AxesSubplot at 0x7f9c61e85e90>"
            ]
          },
          "metadata": {},
          "execution_count": 58
        },
        {
          "output_type": "display_data",
          "data": {
            "image/png": "[encoded data removed]",
            "text/plain": [
              "<Figure size 432x288 with 2 Axes>"
            ]
          },
          "metadata": {
            "needs_background": "light"
          }
        }
      ]
    },
    {
      "cell_type": "code",
      "metadata": {
        "colab": {
          "base_uri": "https://localhost:8080/"
        },
        "id": "2IPDTcbdIZl5",
        "outputId": "2089655f-28ca-4d45-8f7a-7535bf7c7b7a"
      },
      "source": [
        "acc_top_10_multinomial_binary = accuracy_score(test_data_10_binary_feature_true_label, test_data_10_binary_feature_multinomial_pred_result)\n",
        "recall_top_10_multinomial_binary = recall_score(test_data_10_binary_feature_true_label, test_data_10_binary_feature_multinomial_pred_result, average='binary')\n",
        "precision_top_10_multinomial_binary = precision_score(test_data_10_binary_feature_true_label, test_data_10_binary_feature_multinomial_pred_result, average='binary')\n",
        "\n",
        "print(\"The accuracy of multinomial binary NB classifier is {}\".format(acc_top_10_multinomial_binary))\n",
        "print(\"The spam recall is {}\".format(recall_top_10_multinomial_binary ))\n",
        "print(\"The spam precision is {}\".format(precision_top_10_multinomial_binary))"
      ],
      "execution_count": null,
      "outputs": [
        {
          "output_type": "stream",
          "name": "stdout",
          "text": [
            "The accuracy of multinomial binary NB classifier is 0.9518900343642611\n",
            "The spam recall is 0.8571428571428571\n",
            "The spam precision is 0.8571428571428571\n"
          ]
        }
      ]
    },
    {
      "cell_type": "markdown",
      "metadata": {
        "id": "sN99Cai7HBEY"
      },
      "source": [
        "top 100 features"
      ]
    },
    {
      "cell_type": "code",
      "metadata": {
        "id": "-bhG7eB6HDAj"
      },
      "source": [
        "test_data_100_binary_feature_multinomial_pred_result = []\n",
        "for email in test_data_100_binary_feature_list:\n",
        "  test_data_100_binary_feature_multinomial_pred_result.append(multinomialNBWithBinary(top_100_IG_words, email[0:99], count_spam, count_ham, spam_word_count, ham_word_count))"
      ],
      "execution_count": null,
      "outputs": []
    },
    {
      "cell_type": "code",
      "metadata": {
        "colab": {
          "base_uri": "https://localhost:8080/",
          "height": 297
        },
        "id": "_spQ63kHHMAw",
        "outputId": "48c319fd-c4db-47d4-d8e0-91b1b274878f"
      },
      "source": [
        "cf_matrix = confusion_matrix(test_data_100_binary_feature_true_label, test_data_100_binary_feature_multinomial_pred_result)\n",
        "plt.title(\"confusion matirx of top 100 features with binary features\") \n",
        "sns.heatmap(cf_matrix, annot=True, fmt='d')"
      ],
      "execution_count": null,
      "outputs": [
        {
          "output_type": "execute_result",
          "data": {
            "text/plain": [
              "<matplotlib.axes._subplots.AxesSubplot at 0x7f9c61ef3c50>"
            ]
          },
          "metadata": {},
          "execution_count": 61
        },
        {
          "output_type": "display_data",
          "data": {
            "image/png": "[encoded data removed]",
            "text/plain": [
              "<Figure size 432x288 with 2 Axes>"
            ]
          },
          "metadata": {
            "needs_background": "light"
          }
        }
      ]
    },
    {
      "cell_type": "code",
      "metadata": {
        "colab": {
          "base_uri": "https://localhost:8080/"
        },
        "id": "LM5TQVQAHa-6",
        "outputId": "edcba7dc-ba3b-4493-e204-831d330a1994"
      },
      "source": [
        "acc_top_100_multinomial_binary = accuracy_score(test_data_100_binary_feature_true_label, test_data_100_binary_feature_multinomial_pred_result)\n",
        "recall_top_100_multinomial_binary = recall_score(test_data_100_binary_feature_true_label, test_data_100_binary_feature_multinomial_pred_result, average='binary')\n",
        "precision_top_100_multinomial_binary = precision_score(test_data_100_binary_feature_true_label, test_data_100_binary_feature_multinomial_pred_result, average='binary')\n",
        "\n",
        "print(\"The accuracy of multinomial binary NB classifier is {}\".format(acc_top_100_multinomial_binary))\n",
        "print(\"The spam recall is {}\".format(recall_top_100_multinomial_binary ))\n",
        "print(\"The spam precision is {}\".format(precision_top_100_multinomial_binary))"
      ],
      "execution_count": null,
      "outputs": [
        {
          "output_type": "stream",
          "name": "stdout",
          "text": [
            "The accuracy of multinomial binary NB classifier is 0.9862542955326461\n",
            "The spam recall is 0.9795918367346939\n",
            "The spam precision is 0.9411764705882353\n"
          ]
        }
      ]
    },
    {
      "cell_type": "markdown",
      "metadata": {
        "id": "PslJk-3TH3lp"
      },
      "source": [
        "top 1000 features"
      ]
    },
    {
      "cell_type": "code",
      "metadata": {
        "colab": {
          "base_uri": "https://localhost:8080/"
        },
        "id": "shsB-XcuH279",
        "outputId": "2791d007-d008-4f7f-aa19-84a64f2c898e"
      },
      "source": [
        "test_data_1000_binary_feature_multinomial_pred_result = []\n",
        "for email in test_data_1000_binary_feature_list:\n",
        "  test_data_1000_binary_feature_multinomial_pred_result.append(multinomialNBWithBinary(top_1000_IG_words, email[0:999], count_spam, count_ham, spam_word_count, ham_word_count))"
      ],
      "execution_count": null,
      "outputs": [
        {
          "output_type": "stream",
          "name": "stderr",
          "text": [
            "/usr/local/lib/python3.7/dist-packages/ipykernel_launcher.py:15: RuntimeWarning: divide by zero encountered in double_scalars\n",
            "  from ipykernel import kernelapp as app\n"
          ]
        }
      ]
    },
    {
      "cell_type": "code",
      "metadata": {
        "colab": {
          "base_uri": "https://localhost:8080/",
          "height": 297
        },
        "id": "ZtLmHZ63HTVG",
        "outputId": "697e579d-77dd-4da1-91b5-721efc095f03"
      },
      "source": [
        "cf_matrix = confusion_matrix(test_data_1000_binary_feature_true_label, test_data_1000_binary_feature_multinomial_pred_result)\n",
        "plt.title(\"confusion matirx of top 1000 features with binary features\") \n",
        "sns.heatmap(cf_matrix, annot=True, fmt='d')"
      ],
      "execution_count": null,
      "outputs": [
        {
          "output_type": "execute_result",
          "data": {
            "text/plain": [
              "<matplotlib.axes._subplots.AxesSubplot at 0x7f9c61d3ed10>"
            ]
          },
          "metadata": {},
          "execution_count": 64
        },
        {
          "output_type": "display_data",
          "data": {
            "image/png": "[encoded data removed]",
            "text/plain": [
              "<Figure size 432x288 with 2 Axes>"
            ]
          },
          "metadata": {
            "needs_background": "light"
          }
        }
      ]
    },
    {
      "cell_type": "code",
      "metadata": {
        "colab": {
          "base_uri": "https://localhost:8080/"
        },
        "id": "ON-yD9bsIFvG",
        "outputId": "edfca11d-8e42-481f-fefe-fec63b6e17ad"
      },
      "source": [
        "acc_top_1000_multinomial_binary = accuracy_score(test_data_1000_binary_feature_true_label, test_data_1000_binary_feature_multinomial_pred_result)\n",
        "recall_top_1000_multinomial_binary = recall_score(test_data_1000_binary_feature_true_label, test_data_1000_binary_feature_multinomial_pred_result, average='binary')\n",
        "precision_top_1000_multinomial_binary = precision_score(test_data_1000_binary_feature_true_label, test_data_1000_binary_feature_multinomial_pred_result, average='binary')\n",
        "\n",
        "print(\"The accuracy of multinomial binary NB classifier is {}\".format(acc_top_1000_multinomial_binary))\n",
        "print(\"The spam recall is {}\".format(recall_top_1000_multinomial_binary ))\n",
        "print(\"The spam precision is {}\".format(precision_top_1000_multinomial_binary))"
      ],
      "execution_count": null,
      "outputs": [
        {
          "output_type": "stream",
          "name": "stdout",
          "text": [
            "The accuracy of multinomial binary NB classifier is 0.9896907216494846\n",
            "The spam recall is 0.9387755102040817\n",
            "The spam precision is 1.0\n"
          ]
        }
      ]
    },
    {
      "cell_type": "markdown",
      "metadata": {
        "id": "bALhKrxSIPUq"
      },
      "source": [
        "### Multinomial NB with term frequency (TF) features\n",
        "\n",
        "For this classifier, we need to know how many times it occurs in the email for each word. The formula is \n",
        "$$\n",
        "\\frac{p(c_s)\\prod_{i=1}^m p(t_i|c_s)^{x_i}}{\\sum_{c\\in \\{c_s,c_h\\}}p(c)\\prod_{i=1}^m p(t_i|c)^{x_i}}\n",
        "$$\n",
        "\n",
        "Here, $x_i$ means how many time it appears in the email.\n",
        "\n",
        "We need to calculate $p(t|c)=\\frac{1+M_{t,c}}{m+M_{c}}$.\n",
        "\n",
        "$m$ means how many features in total. $M_{t,c}$ means in class $c$, how many emails contain token $t$. $M_c$ means how many emails are in class $c$.\n",
        "\n",
        "Finally, we can calculate a ratio to decide which class it belongs to.\n"
      ]
    },
    {
      "cell_type": "markdown",
      "metadata": {
        "id": "D9krNIMXRgz1"
      },
      "source": [
        "Top 10 features"
      ]
    },
    {
      "cell_type": "code",
      "metadata": {
        "id": "COEUDPpoIzjm"
      },
      "source": [
        "test_data_10_TF_feature_list = []\n",
        "for item in test_data_10_TF_feature:\n",
        "  test_data_10_TF_feature_list.append(list(item.values()))"
      ],
      "execution_count": null,
      "outputs": []
    },
    {
      "cell_type": "code",
      "metadata": {
        "id": "Bh3m_In3SunT"
      },
      "source": [
        "test_data_10_TF_feature_pred_result = []\n",
        "test_data_10_TF_feature_true_label = []\n",
        "for email in test_data_10_TF_feature_list:\n",
        "  test_data_10_TF_feature_pred_result.append(multinomialNBWithBinary(top_10_IG_words, email[0:9], count_spam, count_ham, spam_word_count, ham_word_count))\n",
        "  test_data_10_TF_feature_true_label.append(email[-1])"
      ],
      "execution_count": null,
      "outputs": []
    },
    {
      "cell_type": "code",
      "metadata": {
        "colab": {
          "base_uri": "https://localhost:8080/",
          "height": 297
        },
        "id": "-g1I8yLRTgO2",
        "outputId": "b2005265-2037-4826-c503-8dd00f93d3e5"
      },
      "source": [
        "cf_matrix = confusion_matrix(test_data_10_TF_feature_true_label, test_data_10_TF_feature_pred_result)\n",
        "plt.title(\"confusion matirx of top 10 features with TF features\") \n",
        "sns.heatmap(cf_matrix, annot=True, fmt='d')"
      ],
      "execution_count": null,
      "outputs": [
        {
          "output_type": "execute_result",
          "data": {
            "text/plain": [
              "<matplotlib.axes._subplots.AxesSubplot at 0x7f9c61cd9710>"
            ]
          },
          "metadata": {},
          "execution_count": 68
        },
        {
          "output_type": "display_data",
          "data": {
            "image/png": "[encoded data removed]",
            "text/plain": [
              "<Figure size 432x288 with 2 Axes>"
            ]
          },
          "metadata": {
            "needs_background": "light"
          }
        }
      ]
    },
    {
      "cell_type": "code",
      "metadata": {
        "colab": {
          "base_uri": "https://localhost:8080/"
        },
        "id": "PEAOF8gAUw2m",
        "outputId": "49134055-22d6-4b09-e273-e7910db89813"
      },
      "source": [
        "acc_top_10_multinomial_TF = accuracy_score(test_data_10_TF_feature_true_label, test_data_10_TF_feature_pred_result)\n",
        "recall_top_10_multinomial_TF = recall_score(test_data_10_TF_feature_true_label, test_data_10_TF_feature_pred_result, average='binary')\n",
        "precision_top_10_multinomial_TF = precision_score(test_data_10_TF_feature_true_label, test_data_10_TF_feature_pred_result, average='binary')\n",
        "\n",
        "print(\"The accuracy of multinomial TF NB classifier is {}\".format(acc_top_10_multinomial_TF))\n",
        "print(\"The spam recall is {}\".format(recall_top_10_multinomial_TF ))\n",
        "print(\"The spam precision is {}\".format(precision_top_10_multinomial_TF))"
      ],
      "execution_count": null,
      "outputs": [
        {
          "output_type": "stream",
          "name": "stdout",
          "text": [
            "The accuracy of multinomial binary NB classifier is 0.9587628865979382\n",
            "The spam recall is 0.8775510204081632\n",
            "The spam precision is 0.8775510204081632\n"
          ]
        }
      ]
    },
    {
      "cell_type": "markdown",
      "metadata": {
        "id": "xGvFj1rAVMjE"
      },
      "source": [
        "top 100 features"
      ]
    },
    {
      "cell_type": "code",
      "metadata": {
        "id": "9a2WRaeaVMFq"
      },
      "source": [
        "test_data_100_TF_feature_list = []\n",
        "for item in test_data_100_TF_feature:\n",
        "  test_data_100_TF_feature_list.append(list(item.values()))"
      ],
      "execution_count": null,
      "outputs": []
    },
    {
      "cell_type": "code",
      "metadata": {
        "id": "uAlX9liAVTXn"
      },
      "source": [
        "test_data_100_TF_feature_pred_result = []\n",
        "test_data_100_TF_feature_true_label = []\n",
        "for email in test_data_100_TF_feature_list:\n",
        "  test_data_100_TF_feature_pred_result.append(multinomialNBWithBinary(top_100_IG_words, email[0:99], count_spam, count_ham, spam_word_count, ham_word_count))\n",
        "  test_data_100_TF_feature_true_label.append(email[-1])"
      ],
      "execution_count": null,
      "outputs": []
    },
    {
      "cell_type": "code",
      "metadata": {
        "colab": {
          "base_uri": "https://localhost:8080/",
          "height": 297
        },
        "id": "L28EzZGFVb45",
        "outputId": "17b24161-a99c-4760-98c6-2946cfc6da7c"
      },
      "source": [
        "cf_matrix = confusion_matrix(test_data_100_TF_feature_true_label, test_data_100_TF_feature_pred_result)\n",
        "plt.title(\"confusion matirx of top 100 features with TF features\") \n",
        "sns.heatmap(cf_matrix, annot=True, fmt='d')"
      ],
      "execution_count": null,
      "outputs": [
        {
          "output_type": "execute_result",
          "data": {
            "text/plain": [
              "<matplotlib.axes._subplots.AxesSubplot at 0x7f9c6a09ce90>"
            ]
          },
          "metadata": {},
          "execution_count": 72
        },
        {
          "output_type": "display_data",
          "data": {
            "image/png": "[encoded data removed]",
            "text/plain": [
              "<Figure size 432x288 with 2 Axes>"
            ]
          },
          "metadata": {
            "needs_background": "light"
          }
        }
      ]
    },
    {
      "cell_type": "code",
      "metadata": {
        "colab": {
          "base_uri": "https://localhost:8080/"
        },
        "id": "phxmCcfYVfT-",
        "outputId": "a2a7b125-16de-404d-86b1-32ab9839552d"
      },
      "source": [
        "acc_top_100_multinomial_TF = accuracy_score(test_data_100_TF_feature_true_label, test_data_100_TF_feature_pred_result)\n",
        "recall_top_100_multinomial_TF = recall_score(test_data_100_TF_feature_true_label, test_data_100_TF_feature_pred_result, average='binary')\n",
        "precision_top_100_multinomial_TF = precision_score(test_data_100_TF_feature_true_label, test_data_100_TF_feature_pred_result, average='binary')\n",
        "\n",
        "print(\"The accuracy of multinomial TF NB classifier is {}\".format(acc_top_100_multinomial_TF))\n",
        "print(\"The spam recall is {}\".format(recall_top_100_multinomial_TF ))\n",
        "print(\"The spam precision is {}\".format(precision_top_100_multinomial_TF))"
      ],
      "execution_count": null,
      "outputs": [
        {
          "output_type": "stream",
          "name": "stdout",
          "text": [
            "The accuracy of multinomial binary NB classifier is 0.9896907216494846\n",
            "The spam recall is 0.9795918367346939\n",
            "The spam precision is 0.96\n"
          ]
        }
      ]
    },
    {
      "cell_type": "markdown",
      "metadata": {
        "id": "j2A4mwcmVqTP"
      },
      "source": [
        "Top 1000 features"
      ]
    },
    {
      "cell_type": "code",
      "metadata": {
        "id": "u_uiZqTBVmrE"
      },
      "source": [
        "test_data_1000_TF_feature_list = []\n",
        "for item in test_data_1000_TF_feature:\n",
        "  test_data_1000_TF_feature_list.append(list(item.values()))"
      ],
      "execution_count": null,
      "outputs": []
    },
    {
      "cell_type": "code",
      "metadata": {
        "colab": {
          "base_uri": "https://localhost:8080/"
        },
        "id": "_CGrJVvvVwOS",
        "outputId": "7a4b5c2c-5b19-47b2-e2b3-2ce169b17f05"
      },
      "source": [
        "test_data_1000_TF_feature_pred_result = []\n",
        "test_data_1000_TF_feature_true_label = []\n",
        "for email in test_data_1000_TF_feature_list:\n",
        "  test_data_1000_TF_feature_pred_result.append(multinomialNBWithBinary(top_1000_IG_words, email[0:999], count_spam, count_ham, spam_word_count, ham_word_count))\n",
        "  test_data_1000_TF_feature_true_label.append(email[-1])"
      ],
      "execution_count": null,
      "outputs": [
        {
          "output_type": "stream",
          "name": "stderr",
          "text": [
            "/usr/local/lib/python3.7/dist-packages/ipykernel_launcher.py:15: RuntimeWarning: divide by zero encountered in double_scalars\n",
            "  from ipykernel import kernelapp as app\n",
            "/usr/local/lib/python3.7/dist-packages/ipykernel_launcher.py:15: RuntimeWarning: invalid value encountered in double_scalars\n",
            "  from ipykernel import kernelapp as app\n"
          ]
        }
      ]
    },
    {
      "cell_type": "code",
      "metadata": {
        "colab": {
          "base_uri": "https://localhost:8080/",
          "height": 297
        },
        "id": "MZd8Nnx-V4p-",
        "outputId": "4f77e902-23b7-4d82-8133-2bbe5f7e2c3b"
      },
      "source": [
        "cf_matrix = confusion_matrix(test_data_1000_TF_feature_true_label, test_data_1000_TF_feature_pred_result)\n",
        "plt.title(\"confusion matirx of top 1000 features with TF features\") \n",
        "sns.heatmap(cf_matrix, annot=True, fmt='d')"
      ],
      "execution_count": null,
      "outputs": [
        {
          "output_type": "execute_result",
          "data": {
            "text/plain": [
              "<matplotlib.axes._subplots.AxesSubplot at 0x7f9c61d01210>"
            ]
          },
          "metadata": {},
          "execution_count": 76
        },
        {
          "output_type": "display_data",
          "data": {
            "image/png": "[encoded data removed]",
            "text/plain": [
              "<Figure size 432x288 with 2 Axes>"
            ]
          },
          "metadata": {
            "needs_background": "light"
          }
        }
      ]
    },
    {
      "cell_type": "code",
      "metadata": {
        "colab": {
          "base_uri": "https://localhost:8080/"
        },
        "id": "5vbDxe9eV8_A",
        "outputId": "2e18d695-150d-479e-b239-24a12cfdedc2"
      },
      "source": [
        "acc_top_1000_multinomial_TF = accuracy_score(test_data_1000_TF_feature_true_label, test_data_1000_TF_feature_pred_result)\n",
        "recall_top_1000_multinomial_TF = recall_score(test_data_1000_TF_feature_true_label, test_data_1000_TF_feature_pred_result, average='binary')\n",
        "precision_top_1000_multinomial_TF = precision_score(test_data_1000_TF_feature_true_label, test_data_1000_TF_feature_pred_result, average='binary')\n",
        "\n",
        "print(\"The accuracy of multinomial TF NB classifier is {}\".format(acc_top_1000_multinomial_TF))\n",
        "print(\"The spam recall is {}\".format(recall_top_1000_multinomial_TF ))\n",
        "print(\"The spam precision is {}\".format(precision_top_1000_multinomial_TF))"
      ],
      "execution_count": null,
      "outputs": [
        {
          "output_type": "stream",
          "name": "stdout",
          "text": [
            "The accuracy of multinomial binary NB classifier is 0.9759450171821306\n",
            "The spam recall is 0.8571428571428571\n",
            "The spam precision is 1.0\n"
          ]
        }
      ]
    },
    {
      "cell_type": "markdown",
      "metadata": {
        "id": "B_X5oRnkIEHJ"
      },
      "source": [
        "## SVM classifier\n",
        "\n",
        "We have built dataset above and here, we will test on SVM classifier. We will use cross validation to train the model. We have both dataset, binary features and TF fearures. Here, we try top 1000 IG words first. And we will use gridsearch to select parameters. "
      ]
    },
    {
      "cell_type": "code",
      "metadata": {
        "id": "bmDHVrX3Wnhd"
      },
      "source": [
        "# get data\n",
        "X_train = []\n",
        "y_train = []\n",
        "for item in train_data_1000_TF_feature:\n",
        "  X_train.append(list(item.values())[0:-1])\n",
        "  y_train.append(list(item.values())[-1])\n",
        "\n",
        "X_test = []\n",
        "y_test = []\n",
        "for item in test_data_1000_TF_feature:\n",
        "  X_test.append(list(item.values())[0:-1])\n",
        "  y_test.append(list(item.values())[-1])"
      ],
      "execution_count": 73,
      "outputs": []
    },
    {
      "cell_type": "markdown",
      "metadata": {
        "id": "WCa_d9TX_6oY"
      },
      "source": [
        "We use 1000 features above. We can use PCA to reduce the dimension to a small dimension. We will check PoV (proportion of Variance) to select features. After we select the features, we fit the SVM model and use gridsearchcv to tune the model"
      ]
    },
    {
      "cell_type": "markdown",
      "metadata": {
        "id": "jEWPqrQtNbl1"
      },
      "source": [
        "We can fine tune the SVM model"
      ]
    },
    {
      "cell_type": "code",
      "metadata": {
        "id": "ZlRD68JlNR8Z",
        "colab": {
          "base_uri": "https://localhost:8080/"
        },
        "outputId": "a9133537-99a7-4c58-b8bc-0d3743c85994"
      },
      "source": [
        "# define the parameters\n",
        "best_recall = []\n",
        "best_precision = []\n",
        "Gamma = [0.01, 0.001, 0.00001]\n",
        "C = [1000, 10000, 100000]\n",
        "for gamma in Gamma:\n",
        "  for c in C:\n",
        "    clf = svm.SVC(gamma=gamma, C=c, kernel='rbf')\n",
        "    clf.fit(X_train, y_train)\n",
        "    #y_pred_TF = clf.predict(X_test)  \n",
        "    scores = cross_validate(\n",
        "        clf, \n",
        "        X_train, \n",
        "        y_train, \n",
        "        cv=5,\n",
        "        scoring=('precision', 'recall')\n",
        "        )\n",
        "    print(\"C = {}\".format(c))\n",
        "    print(\"gamma = {}\".format(gamma))\n",
        "    print(\"best recall = {}\".format(max(scores['test_recall'])))\n",
        "    print(\"best precision = {}\".format(max(scores['test_precision'])))\n",
        "    best_recall.append(max(scores['test_recall']))\n",
        "    best_precision.append(max(scores['test_precision']))\n",
        "    "
      ],
      "execution_count": 183,
      "outputs": [
        {
          "output_type": "stream",
          "name": "stdout",
          "text": [
            "C = 1000\n",
            "gamma = 0.01\n",
            "best recall = 0.23255813953488372\n",
            "best precision = 1.0\n",
            "C = 10000\n",
            "gamma = 0.01\n",
            "best recall = 0.23255813953488372\n",
            "best precision = 1.0\n",
            "C = 100000\n",
            "gamma = 0.01\n",
            "best recall = 0.23255813953488372\n",
            "best precision = 1.0\n",
            "C = 1000\n",
            "gamma = 0.001\n",
            "best recall = 0.9651162790697675\n",
            "best precision = 0.8977272727272727\n",
            "C = 10000\n",
            "gamma = 0.001\n",
            "best recall = 0.9651162790697675\n",
            "best precision = 0.8977272727272727\n",
            "C = 100000\n",
            "gamma = 0.001\n",
            "best recall = 0.9651162790697675\n",
            "best precision = 0.8977272727272727\n",
            "C = 1000\n",
            "gamma = 1e-05\n",
            "best recall = 0.8953488372093024\n",
            "best precision = 1.0\n",
            "C = 10000\n",
            "gamma = 1e-05\n",
            "best recall = 0.9534883720930233\n",
            "best precision = 0.9620253164556962\n",
            "C = 100000\n",
            "gamma = 1e-05\n",
            "best recall = 0.9418604651162791\n",
            "best precision = 0.9625\n"
          ]
        }
      ]
    },
    {
      "cell_type": "code",
      "metadata": {
        "colab": {
          "base_uri": "https://localhost:8080/"
        },
        "id": "Z6a6XBTFYHY3",
        "outputId": "1a75e09a-8d4e-499d-8a2c-68af0d488e56"
      },
      "source": [
        "clf = svm.SVC(gamma=0.001, C=100000, kernel='rbf')\n",
        "clf.fit(X_train, y_train)\n",
        "y_pred_TF = clf.predict(X_test)  \n",
        "print(classification_report(y_test, y_pred_TF)) "
      ],
      "execution_count": 188,
      "outputs": [
        {
          "output_type": "stream",
          "name": "stdout",
          "text": [
            "              precision    recall  f1-score   support\n",
            "\n",
            "           0       0.97      0.97      0.97       242\n",
            "           1       0.85      0.84      0.85        49\n",
            "\n",
            "    accuracy                           0.95       291\n",
            "   macro avg       0.91      0.90      0.91       291\n",
            "weighted avg       0.95      0.95      0.95       291\n",
            "\n"
          ]
        }
      ]
    },
    {
      "cell_type": "code",
      "metadata": {
        "colab": {
          "base_uri": "https://localhost:8080/",
          "height": 298
        },
        "id": "PK_7yNbzYq_J",
        "outputId": "610c6aac-49d2-4510-8f9c-a37d3e6d5035"
      },
      "source": [
        "# and we can evaluate the SVM model\n",
        "cf_matrix = confusion_matrix(y_test, y_pred_TF)\n",
        "plt.title(\"confusion matirx of top 1000 features with TF features SVM\") \n",
        "sns.heatmap(cf_matrix, annot=True, fmt='d')"
      ],
      "execution_count": 189,
      "outputs": [
        {
          "output_type": "execute_result",
          "data": {
            "text/plain": [
              "<matplotlib.axes._subplots.AxesSubplot at 0x7f3c83c4b910>"
            ]
          },
          "metadata": {},
          "execution_count": 189
        },
        {
          "output_type": "display_data",
          "data": {
            "image/png": "[encoded data removed]",
            "text/plain": [
              "<Figure size 432x288 with 2 Axes>"
            ]
          },
          "metadata": {
            "needs_background": "light"
          }
        }
      ]
    },
    {
      "cell_type": "markdown",
      "metadata": {
        "id": "61xuJ_kfGHVt"
      },
      "source": [
        "## Adversarial classification\n",
        "\n",
        "According to the paper Adversarial Classification, we need to some terms first.\n",
        "\n",
        "*   $X=(X_1,X_2,...,X_n)$: Instance\n",
        "*   $P(x)$:Probability distribution of untainted data\n",
        "*   $X_i$: $i^{th}$ feature (attribute)\n",
        "*   $\\mathcal{X}, \\mathcal{X_i}$: Domain of $X$ and $X_i$, respectively\n",
        "*   $x,x_i$: An instance and the $i^{th}$ attribute of that instance\n",
        "*   $\\mathcal{S},\\mathcal{T}$: Training and test set\n",
        "*   $y_C=C(x)$: The Classifier function\n",
        "*   $x_A=\\mathcal{A}(x)$: The Adversary transformation\n",
        "*   $V_i$: Cost of measuring $X_i$\n",
        "*   $U_C(y_C,y)$: Utility for Classifier of classifying as $y_C$ an instance of class $y$\n",
        "*   $W_i(x_i,x'_i),W(x,x')$: Cost of changing the $i^{th}$ feature from $x_i$ to $x'_i$ and instance $x$ to $x'$, respectively\n",
        "*   $U_A(y_C,y)$: Utility accrued by Adversary when Classifier classifies as $y_C$ an instance of class $y$\n",
        "*   $\\mathcal{X}_C(x)$: Set of features measured by $C$\n",
        "*   $LO_C(x_i)$: Log-odds or “contribution” of $i^{th}$ attribute to naive Bayes classifier $(ln\\frac{P(X_i=x_i|+)}{P(X_i=x_i|-)})$\n",
        "*   $gap(x)$: $gap(x)>0 \\Longleftrightarrow$ NB classifies $x$ as positive $(LO_C(x)-\\frac{U_C(-,-)-U_C(+,-)}{U_C(+,+)-U_C(-,+)})$\n",
        "*   $\\triangle U_A$: Adversary’s utility gain from successfully camouflaging a positive instance $(UA(-,+)−UA(+,+))$\n",
        "*   $\\triangle LO_{i,x'_i}$: “Gain” towards making $x$ negative by changing $i^th$ feature to $x'_i$ $(LO_C(x_i) − LO_C(x'_i))$\n",
        "*   $MCC(x)$: Nearest instance (costwise) to x which Naive Bayes classifies as negative.\n",
        "*   $x_{[i=x'_i]}$: An instance identical to $x$ except that $i^th$ attribute is changed to $x'_i \\in \\mathcal{X}_i$\n",
        "*   $P_A(x)$: Probability distribution after Adversary has modified the data\n",
        "\n",
        "\n"
      ]
    },
    {
      "cell_type": "markdown",
      "metadata": {
        "id": "PR0Zbcw6utO8"
      },
      "source": [
        "classifier, it will return the probability"
      ]
    },
    {
      "cell_type": "code",
      "metadata": {
        "id": "qK7jR1kNGTTW"
      },
      "source": [
        "def NB_classifier_returnProb(top_N_features, email, numOfSpam, numOfHam, spam_word_count, ham_word_count):\n",
        "  p_spam = (numOfSpam+1)/(numOfSpam+numOfHam+2)\n",
        "  p_ham = (numOfHam+1)/(numOfSpam+numOfHam+2)\n",
        "\n",
        "  p_x_given_spam = 1\n",
        "  p_x_given_ham = 1\n",
        "  for i, x_i in enumerate(email):\n",
        "    p_word_given_spam = (1+spam_word_count[top_N_features[i]])/(2+numOfSpam)\n",
        "    p_word_given_ham = (1+ham_word_count[top_N_features[i]])/(2+numOfHam)\n",
        "\n",
        "    p_x_given_spam = p_x_given_spam * np.power(p_word_given_spam, x_i) * np.power((1-p_word_given_spam), (1-x_i))\n",
        "    p_x_given_ham = p_x_given_ham * np.power(p_word_given_ham, x_i) * np.power((1-p_word_given_ham), (1-x_i))\n",
        "\n",
        "  p_x_denumerator = (p_spam * p_x_given_spam) + (p_ham * p_x_given_ham)\n",
        "  p_spam_given_x = (p_spam * p_x_given_spam)/p_x_denumerator\n",
        "  p_ham_given_x = (p_ham * p_x_given_ham)/p_x_denumerator\n",
        "  \n",
        "  return p_spam_given_x, p_ham_given_x"
      ],
      "execution_count": 206,
      "outputs": []
    },
    {
      "cell_type": "code",
      "metadata": {
        "id": "RCwoGIHZv3jL"
      },
      "source": [
        "# for email in test_data_10_binary_feature_list:\n",
        "#   p_spam_given_x, p_ham_given_x = NB_classifier_returnProb(top_10_IG_words, email[0:9], count_spam, count_ham, spam_word_count, ham_word_count)"
      ],
      "execution_count": 43,
      "outputs": []
    },
    {
      "cell_type": "code",
      "metadata": {
        "id": "6wtX8h8lun-g"
      },
      "source": [
        "def modifyDataReturnNewProb(top_N_features, test_data_10_binary_feature_list, numOfSpam, numOfHam, spam_word_count, ham_word_count):\n",
        "  new_prob = []\n",
        "  delta_all_word = []\n",
        "  modify_test_data = copy.deepcopy(test_data_10_binary_feature_list)\n",
        "  for i, email in enumerate(test_data_10_binary_feature_list):\n",
        "    # if it is spam    \n",
        "    if email[-1]==1:\n",
        "      temp_prob_list = []\n",
        "      temp_email = email[0:-1]\n",
        "      for index, x_i in enumerate(temp_email):\n",
        "        if x_i==0:\n",
        "          p_spam_given_x_before, p_ham_given_x_before = NB_classifier_returnProb(top_10_IG_words, modify_test_data[i][0:-1], count_spam, count_ham, spam_word_count, ham_word_count)\n",
        "          LO_xi = np.log(p_spam_given_x_before/p_ham_given_x_before)\n",
        "          modify_test_data[i][index] = 1\n",
        "          p_spam_given_x_after, p_ham_given_x_after = NB_classifier_returnProb(top_10_IG_words, modify_test_data[i][0:-1], count_spam, count_ham, spam_word_count, ham_word_count)\n",
        "          LO_xi_prime = np.log(p_spam_given_x_after/p_ham_given_x_after)\n",
        "          delta_i = max(LO_xi - LO_xi_prime,0)\n",
        "          temp_prob_list.append((delta_i, index))\n",
        "          modify_test_data[i][index] = 0      \n",
        "        else:\n",
        "          p_spam_given_x, p_ham_given_x = NB_classifier_returnProb(top_10_IG_words, modify_test_data[i][0:-1], count_spam, count_ham, spam_word_count, ham_word_count)\n",
        "          temp_prob_list.append((0, index))\n",
        "      new_prob.append(temp_prob_list)\n",
        "  return new_prob"
      ],
      "execution_count": 207,
      "outputs": []
    },
    {
      "cell_type": "code",
      "metadata": {
        "id": "jvbuf5VM3VPR"
      },
      "source": [
        "new_prob = modifyDataReturnNewProb(top_10_IG_words, test_data_10_binary_feature_list, count_spam, count_ham, spam_word_count, ham_word_count)"
      ],
      "execution_count": 208,
      "outputs": []
    },
    {
      "cell_type": "markdown",
      "metadata": {
        "id": "KSs2Gp6H39PU"
      },
      "source": [
        "The new_prob records the probability of spam given x. We will print them out to take a look.The first value is probability, the second value is the index. "
      ]
    },
    {
      "cell_type": "markdown",
      "metadata": {
        "id": "ObN4w9Cr3ze7"
      },
      "source": [
        "After we modified the data, we need to sort them by the probability"
      ]
    },
    {
      "cell_type": "code",
      "metadata": {
        "id": "ts6Y9hZq3p7B"
      },
      "source": [
        "new_prob_sorted = []\n",
        "for item in new_prob:\n",
        "  new_prob_sorted.append(sorted(item, key=lambda val : val[0], reverse=True))\n",
        "  "
      ],
      "execution_count": 209,
      "outputs": []
    },
    {
      "cell_type": "code",
      "metadata": {
        "id": "Hj38tN_-cp_a",
        "outputId": "99d58ba4-8d53-4cf7-9e84-ad8d77ef1627",
        "colab": {
          "base_uri": "https://localhost:8080/"
        }
      },
      "source": [
        "print(new_prob_sorted[0])"
      ],
      "execution_count": 243,
      "outputs": [
        {
          "output_type": "stream",
          "name": "stdout",
          "text": [
            "[(6.230980569101483, 4), (4.795095101378109, 0), (3.6157769878020662, 3), (0, 1), (0, 2), (0, 5), (0, 6), (0, 7), (0, 8), (0, 9)]\n"
          ]
        }
      ]
    },
    {
      "cell_type": "code",
      "metadata": {
        "id": "0Er-AkX4cqEz"
      },
      "source": [
        ""
      ],
      "execution_count": null,
      "outputs": []
    },
    {
      "cell_type": "markdown",
      "metadata": {
        "id": "lhkxdsvKFCqK"
      },
      "source": [
        "Then we need to calculate the cost for each spam email"
      ]
    },
    {
      "cell_type": "code",
      "metadata": {
        "id": "6e5SP0BN6VqJ"
      },
      "source": [
        "def calCostSpamEmail(top_N_features, test_data_10_binary_feature_list, numOfSpam, numOfHam, spam_word_count, ham_word_count, new_prob_sorted):\n",
        "  isHam = False\n",
        "  modify_test_data = copy.deepcopy(test_data_10_binary_feature_list)\n",
        "  cost_list = []\n",
        "  for i, email in enumerate(test_data_10_binary_feature_list):\n",
        "    \n",
        "    # if it is spam    \n",
        "    if email[-1]==1:\n",
        "\n",
        "      cost = 0\n",
        "      for index, prob_list in enumerate(new_prob_sorted):\n",
        "        \n",
        "        for item in prob_list:\n",
        "          \n",
        "          p_spam, word_index = item\n",
        "          modify_test_data[i][word_in1dex] = 1\n",
        "          cost +=1\n",
        "          \n",
        "          p_spam_given_x, p_ham_given_x = NB_classifier_returnProb(top_N_features, modify_test_data[i][0:-1], numOfSpam, numOfHam, spam_word_count, ham_word_count)\n",
        "          if cost>10:\n",
        "            cost = 0\n",
        "            modify_test_data[i] = test_data_10_binary_feature_list[i]\n",
        "            break\n",
        "          if p_spam_given_x/p_ham_given_x < 1:\n",
        "            isHam = True\n",
        "            break\n",
        "          else:\n",
        "            continue\n",
        "        if isHam:\n",
        "          break\n",
        "        else:\n",
        "          continue\n",
        "      cost_list.append(cost)\n",
        "      #print(cost)\n",
        "  return cost_list, modify_test_data\n",
        "        "
      ],
      "execution_count": 265,
      "outputs": []
    },
    {
      "cell_type": "code",
      "metadata": {
        "id": "SP9XkEscy6Mo"
      },
      "source": [
        "cost, modify_test_data = calCostSpamEmail(top_10_IG_words, test_data_10_binary_feature_list, count_spam, count_ham, spam_word_count, ham_word_count, new_prob_sorted)"
      ],
      "execution_count": 266,
      "outputs": []
    },
    {
      "cell_type": "code",
      "metadata": {
        "id": "GmtV1FzkZ3Qb",
        "outputId": "2e9e3bff-dfa1-4b57-ef96-f80623813538",
        "colab": {
          "base_uri": "https://localhost:8080/"
        }
      },
      "source": [
        "print(cost)"
      ],
      "execution_count": 267,
      "outputs": [
        {
          "output_type": "stream",
          "name": "stdout",
          "text": [
            "[10, 1, 1, 3, 1, 1, 1, 1, 1, 1, 1, 1, 2, 3, 2, 2, 1, 1, 2, 1, 2, 3, 1, 3, 1, 2, 1, 1, 1, 2, 1, 1, 2, 1, 3, 1, 1, 2, 3, 2, 1, 1, 1, 2, 1, 2, 1, 3, 1]\n"
          ]
        }
      ]
    },
    {
      "cell_type": "code",
      "metadata": {
        "colab": {
          "base_uri": "https://localhost:8080/"
        },
        "id": "8sqh73xXzBSg",
        "outputId": "c8b2b171-4647-425a-f396-81ed79851393"
      },
      "source": [
        "cost_avg = np.sum(cost)/49\n",
        "\n",
        "print(\"The average cost is: {}\".format(cost_avg))"
      ],
      "execution_count": 268,
      "outputs": [
        {
          "output_type": "stream",
          "name": "stdout",
          "text": [
            "The average cost is: 1.7142857142857142\n"
          ]
        }
      ]
    },
    {
      "cell_type": "code",
      "metadata": {
        "id": "GfdKCJ0h1av3"
      },
      "source": [
        "# for i in range(len(modify_test_data)):\n",
        "#   print(test_data_10_binary_feature_list[i])\n",
        "#   print(modify_test_data[i])\n",
        "#   print()"
      ],
      "execution_count": null,
      "outputs": []
    },
    {
      "cell_type": "code",
      "metadata": {
        "id": "AyyJEwcmzoR4"
      },
      "source": [
        "modify_test_data_10_binary_feature_pred_result = []\n",
        "modify_test_data_10_binary_feature_true_label = []\n",
        "for email in modify_test_data:\n",
        "  modify_test_data_10_binary_feature_pred_result.append(BernoulliNBWithBinaryFeatures(top_10_IG_words, email[0:9], count_spam, count_ham, spam_word_count, ham_word_count))\n",
        "  modify_test_data_10_binary_feature_true_label.append(email[-1])"
      ],
      "execution_count": 269,
      "outputs": []
    },
    {
      "cell_type": "code",
      "metadata": {
        "colab": {
          "base_uri": "https://localhost:8080/"
        },
        "id": "c2A37FGn2SQ5",
        "outputId": "d36f3fac-7f1b-47ee-ff70-2be158ecf590"
      },
      "source": [
        "modify_acc_top_10_bernoulli = accuracy_score(modify_test_data_10_binary_feature_true_label, modify_test_data_10_binary_feature_pred_result)\n",
        "modify_recall_top_10_bernoulli = recall_score(modify_test_data_10_binary_feature_true_label, modify_test_data_10_binary_feature_pred_result, average='binary')\n",
        "modify_precision_top_10_bernoulli = precision_score(modify_test_data_10_binary_feature_true_label, modify_test_data_10_binary_feature_pred_result, average='binary')\n",
        "\n",
        "print(\"The accuracy of original bernoulli NB classifier applied on modified dataset is {}\".format(modify_acc_top_10_bernoulli))\n",
        "print(\"The spam recall is {}\".format(modify_recall_top_10_bernoulli))\n",
        "print(\"The spam precision is {}\".format(modify_precision_top_10_bernoulli))"
      ],
      "execution_count": 270,
      "outputs": [
        {
          "output_type": "stream",
          "name": "stdout",
          "text": [
            "The accuracy of original bernoulli NB classifier applied on modified dataset is 0.8419243986254296\n",
            "The spam recall is 0.20408163265306123\n",
            "The spam precision is 0.5882352941176471\n"
          ]
        }
      ]
    },
    {
      "cell_type": "code",
      "metadata": {
        "id": "1QMzY2PY3NQJ"
      },
      "source": [
        "def modified_classifier(top_N_features, test_data_10_binary_feature_list, original_test_set, numOfSpam, numOfHam, spam_word_count, ham_word_count):\n",
        "  p_spam = (numOfSpam+1)/(numOfSpam+numOfHam+2)\n",
        "  p_ham = (numOfHam+1)/(numOfSpam+numOfHam+2)\n",
        "\n",
        "  p_spam_numerator = 1\n",
        "  p_ham_denumerator = 1\n",
        "  p_spam_sum = 0\n",
        "  temp_email = original_test_set[0:-1]\n",
        "\n",
        "  for i, x_i in enumerate(test_data_10_binary_feature_list):\n",
        "    #print(i)\n",
        "    p_word_given_spam = (1+spam_word_count[top_N_features[i]])/(2+numOfSpam)\n",
        "    p_word_given_ham = (1+ham_word_count[top_N_features[i]])/(2+numOfHam)\n",
        "    if temp_email[i]!=x_i:\n",
        "      p_spam_sum += p_word_given_spam\n",
        "    p_ham_denumerator = p_ham_denumerator * np.power(p_word_given_ham, x_i) * np.power((1-p_word_given_ham), (1-x_i))\n",
        "\n",
        "  pred = (p_spam_sum*p_spam)/(p_ham_denumerator*p_ham)\n",
        "  \n",
        "  if pred>1:\n",
        "    return 1 # 1 is spam\n",
        "  else:\n",
        "    return 0 # 0 is ham"
      ],
      "execution_count": 271,
      "outputs": []
    },
    {
      "cell_type": "code",
      "metadata": {
        "id": "1GcAr66__YJW"
      },
      "source": [
        "modify_test_data_10_binary_feature_pred_result = []\n",
        "modify_test_data_10_binary_feature_true_label = []\n",
        "for index, email in enumerate(modify_test_data):\n",
        "  modify_test_data_10_binary_feature_pred_result.append(modified_classifier(top_10_IG_words, email[0:-1], test_data_10_binary_feature_list[index], count_spam, count_ham, spam_word_count, ham_word_count))\n",
        "  modify_test_data_10_binary_feature_true_label.append(email[-1])"
      ],
      "execution_count": 272,
      "outputs": []
    },
    {
      "cell_type": "code",
      "metadata": {
        "colab": {
          "base_uri": "https://localhost:8080/"
        },
        "id": "hzbCGuSnBYks",
        "outputId": "d390a73d-20f8-46fa-b435-583a704d774d"
      },
      "source": [
        "modify_acc_top_10_bernoulli = accuracy_score(modify_test_data_10_binary_feature_true_label, modify_test_data_10_binary_feature_pred_result)\n",
        "modify_recall_top_10_bernoulli = recall_score(modify_test_data_10_binary_feature_true_label, modify_test_data_10_binary_feature_pred_result, average='binary')\n",
        "modify_precision_top_10_bernoulli = precision_score(modify_test_data_10_binary_feature_true_label, modify_test_data_10_binary_feature_pred_result, average='binary')\n",
        "\n",
        "print(\"The accuracy of updated bernoulli NB classifier applied on modified datset is {}\".format(modify_acc_top_10_bernoulli))\n",
        "print(\"The spam recall is {}\".format(modify_recall_top_10_bernoulli))\n",
        "print(\"The spam precision is {}\".format(modify_precision_top_10_bernoulli))"
      ],
      "execution_count": 273,
      "outputs": [
        {
          "output_type": "stream",
          "name": "stdout",
          "text": [
            "The accuracy of updated bernoulli NB classifier applied on modified datset is 0.9347079037800687\n",
            "The spam recall is 0.6122448979591837\n",
            "The spam precision is 1.0\n"
          ]
        }
      ]
    },
    {
      "cell_type": "code",
      "metadata": {
        "id": "oxncGyTTgcp3",
        "outputId": "18917f3e-2d0f-445b-8696-abb255264380",
        "colab": {
          "base_uri": "https://localhost:8080/",
          "height": 298
        }
      },
      "source": [
        "# and we can evaluate the SVM model\n",
        "cf_matrix = confusion_matrix(modify_test_data_10_binary_feature_true_label, modify_test_data_10_binary_feature_pred_result)\n",
        "plt.title(\"confusion matirx of top 10 features with binary features modified classifier\") \n",
        "sns.heatmap(cf_matrix, annot=True, fmt='d')"
      ],
      "execution_count": 274,
      "outputs": [
        {
          "output_type": "execute_result",
          "data": {
            "text/plain": [
              "<matplotlib.axes._subplots.AxesSubplot at 0x7f3c83d61950>"
            ]
          },
          "metadata": {},
          "execution_count": 274
        },
        {
          "output_type": "display_data",
          "data": {
            "image/png": "[encoded data removed]",
            "text/plain": [
              "<Figure size 432x288 with 2 Axes>"
            ]
          },
          "metadata": {
            "needs_background": "light"
          }
        }
      ]
    },
    {
      "cell_type": "code",
      "metadata": {
        "colab": {
          "base_uri": "https://localhost:8080/"
        },
        "id": "EKtqcIk0Ccb7",
        "outputId": "75dbb116-a3fe-4fa1-8a2c-879e3d10f920"
      },
      "source": [
        "print(\"The false positive rate is {}\".format(19/49))\n",
        "print(\"The false negative rate is {}\".format(0/242))\n"
      ],
      "execution_count": 278,
      "outputs": [
        {
          "output_type": "stream",
          "name": "stdout",
          "text": [
            "The false positive rate is 0.3877551020408163\n",
            "The false negative rate is 0.0\n"
          ]
        }
      ]
    },
    {
      "cell_type": "code",
      "metadata": {
        "id": "WwN8mN0LiCdn"
      },
      "source": [
        ""
      ],
      "execution_count": null,
      "outputs": []
    }
  ]
}