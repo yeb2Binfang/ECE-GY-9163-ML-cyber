{
  "nbformat": 4,
  "nbformat_minor": 0,
  "metadata": {
    "colab": {
      "name": "LR-Lab.ipynb",
      "provenance": [],
      "authorship_tag": "ABX9TyM9w7bbtfIh5BHs2T+OkK9E",
      "include_colab_link": true
    },
    "kernelspec": {
      "name": "python3",
      "display_name": "Python 3"
    },
    "language_info": {
      "name": "python"
    }
  },
  "cells": [
    {
      "cell_type": "markdown",
      "metadata": {
        "id": "view-in-github",
        "colab_type": "text"
      },
      "source": [
        "<a href=\"https://colab.research.google.com/github/yeb2Binfang/ECE-GY-9163-ML-cyber/blob/main/Lab/LR_Lab.ipynb\" target=\"_parent\"><img src=\"https://colab.research.google.com/assets/colab-badge.svg\" alt=\"Open In Colab\"/></a>"
      ]
    },
    {
      "cell_type": "markdown",
      "metadata": {
        "id": "Z7_pq0FUN8Qg"
      },
      "source": [
        "#Logistic regression review\n",
        "\n",
        "LR 是很重要的模型，教授在课上也给我们认真地讲过了，这里就把过程以及推论都给详细地写一下\n",
        "\n",
        "LR是一个很经典的二分类的分类方法，在工业界中，LR也是经常使用的，非常重要，面试也是经常考的，所以我们要去了解怎么推导LR，了解LR的objective function，了解在LR模型下怎么避免overfitting，LR的框架。LR一般都可以作为baseline\n",
        "\n",
        "在很多场景下都是可以用LR的，比如说\n",
        "* 贷款违约情况(会/不会)\n",
        "* 广告点击问题，也就是CTR prediction\n",
        "* 商品推荐\n",
        "* 情感分析\n",
        "* 疾病诊断\n",
        "* 等等\n",
        "\n",
        "我们来看一个例子，是一个classification problem，这是一个二分类的问题\n",
        "\n",
        "现在有这么一个数据\n",
        "\n",
        "| Age      | Salary | Education      | If Breach of contract |\n",
        "| :----: | :----: | :----: | :----: |\n",
        "| 20      | 4000       | undergrad      | Yes     |\n",
        "| 25   | 5000        | college      | No      |\n",
        "| 21      | 6000       | undergrad     | No      |\n",
        "| 25   | 5000       | college     | Yes      |\n",
        "| 28      | 8000      | undergrad      | No       |\n",
        "| 27  | 7000        | undergrad      | ?      |\n",
        "\n",
        "学习输入到输出的映射 $f:X→ Y$\n",
        "\n",
        "$X$就是我们的属入\n",
        "\n",
        "$Y$就是我们的输出\n",
        "\n",
        "这里呢，其实我们也就是想求这么一个概率，也就是$P(Y|X)$。\n",
        "\n",
        "那我们现在思考一个问题，就是我们可不可以用线性回归来表示$P(Y|X)=w^Tx+b$? 为什么？\n",
        "\n",
        "当然是不可以了\n",
        "* 因为$P(Y|X)$是条件概率，它的范围是[0,1]\n",
        "* 其次就是所有类的概率加起来是1，也就是$∑_y P(Y|X)=1$.\n",
        "* 而线性回归的范围是(-∞,+∞)\n",
        "\n",
        "那我们可不可以把线性回归的$w^Tx+b$给映射到[0,1]呢？于是我们就想到了logistic function，也就是\n",
        "$$\n",
        "y=\\frac{1}{1+e^{-z}}, z=w^Tx+b\n",
        "$$\n",
        "它的图像如下图所示\n",
        "\n",
        "<img src=\"https://user-images.githubusercontent.com/68700549/147372757-b5acd7b2-7096-4401-b178-bc4bd07e9ce1.png\" width=\"300\" height=\"200\" />\n",
        "\n",
        "\n",
        "\n",
        "\n",
        "\n"
      ]
    },
    {
      "cell_type": "code",
      "metadata": {
        "id": "J_VSfOj8N5ww"
      },
      "source": [
        ""
      ],
      "execution_count": null,
      "outputs": []
    }
  ]
}